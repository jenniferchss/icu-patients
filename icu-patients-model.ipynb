{
 "cells": [
  {
   "cell_type": "code",
   "execution_count": 70,
   "id": "2ae5241c",
   "metadata": {
    "collapsed": true
   },
   "outputs": [
    {
     "name": "stdout",
     "output_type": "stream",
     "text": [
      "Collecting mlxtend\n",
      "  Downloading mlxtend-0.21.0-py2.py3-none-any.whl (1.3 MB)\n",
      "\u001b[2K     \u001b[90m━━━━━━━━━━━━━━━━━━━━━━━━━━━━━━━━━━━━━━━━\u001b[0m \u001b[32m1.3/1.3 MB\u001b[0m \u001b[31m5.6 MB/s\u001b[0m eta \u001b[36m0:00:00\u001b[0m00:01\u001b[0m00:01\u001b[0m\n",
      "\u001b[?25hRequirement already satisfied: joblib>=0.13.2 in /Users/jenniferchessa/opt/anaconda3/lib/python3.8/site-packages (from mlxtend) (1.0.1)\n",
      "Requirement already satisfied: setuptools in /Users/jenniferchessa/opt/anaconda3/lib/python3.8/site-packages (from mlxtend) (52.0.0.post20210125)\n",
      "Requirement already satisfied: pandas>=0.24.2 in /Users/jenniferchessa/opt/anaconda3/lib/python3.8/site-packages (from mlxtend) (1.3.2)\n",
      "Requirement already satisfied: scipy>=1.2.1 in /Users/jenniferchessa/opt/anaconda3/lib/python3.8/site-packages (from mlxtend) (1.6.2)\n",
      "Collecting scikit-learn>=1.0.2\n",
      "  Downloading scikit_learn-1.2.1-cp38-cp38-macosx_10_9_x86_64.whl (9.0 MB)\n",
      "\u001b[2K     \u001b[90m━━━━━━━━━━━━━━━━━━━━━━━━━━━━━━━━━━━━━━━━\u001b[0m \u001b[32m9.0/9.0 MB\u001b[0m \u001b[31m3.5 MB/s\u001b[0m eta \u001b[36m0:00:00\u001b[0m00:01\u001b[0m00:01\u001b[0m\n",
      "\u001b[?25hRequirement already satisfied: matplotlib>=3.0.0 in /Users/jenniferchessa/opt/anaconda3/lib/python3.8/site-packages (from mlxtend) (3.5.1)\n",
      "Requirement already satisfied: numpy>=1.16.2 in /Users/jenniferchessa/opt/anaconda3/lib/python3.8/site-packages (from mlxtend) (1.20.3)\n",
      "Requirement already satisfied: pyparsing>=2.2.1 in /Users/jenniferchessa/opt/anaconda3/lib/python3.8/site-packages (from matplotlib>=3.0.0->mlxtend) (2.4.7)\n",
      "Requirement already satisfied: kiwisolver>=1.0.1 in /Users/jenniferchessa/opt/anaconda3/lib/python3.8/site-packages (from matplotlib>=3.0.0->mlxtend) (1.4.2)\n",
      "Requirement already satisfied: packaging>=20.0 in /Users/jenniferchessa/opt/anaconda3/lib/python3.8/site-packages (from matplotlib>=3.0.0->mlxtend) (21.0)\n",
      "Requirement already satisfied: python-dateutil>=2.7 in /Users/jenniferchessa/opt/anaconda3/lib/python3.8/site-packages (from matplotlib>=3.0.0->mlxtend) (2.8.2)\n",
      "Requirement already satisfied: pillow>=6.2.0 in /Users/jenniferchessa/opt/anaconda3/lib/python3.8/site-packages (from matplotlib>=3.0.0->mlxtend) (8.3.1)\n",
      "Requirement already satisfied: fonttools>=4.22.0 in /Users/jenniferchessa/opt/anaconda3/lib/python3.8/site-packages (from matplotlib>=3.0.0->mlxtend) (4.32.0)\n",
      "Requirement already satisfied: cycler>=0.10 in /Users/jenniferchessa/opt/anaconda3/lib/python3.8/site-packages (from matplotlib>=3.0.0->mlxtend) (0.11.0)\n",
      "Requirement already satisfied: pytz>=2017.3 in /Users/jenniferchessa/opt/anaconda3/lib/python3.8/site-packages (from pandas>=0.24.2->mlxtend) (2021.1)\n",
      "Requirement already satisfied: threadpoolctl>=2.0.0 in /Users/jenniferchessa/opt/anaconda3/lib/python3.8/site-packages (from scikit-learn>=1.0.2->mlxtend) (2.2.0)\n",
      "Collecting joblib>=0.13.2\n",
      "  Downloading joblib-1.2.0-py3-none-any.whl (297 kB)\n",
      "\u001b[2K     \u001b[90m━━━━━━━━━━━━━━━━━━━━━━━━━━━━━━━━━━━━━━━\u001b[0m \u001b[32m298.0/298.0 KB\u001b[0m \u001b[31m3.9 MB/s\u001b[0m eta \u001b[36m0:00:00\u001b[0ma \u001b[36m0:00:01\u001b[0m\n",
      "\u001b[?25hRequirement already satisfied: six>=1.5 in /Users/jenniferchessa/opt/anaconda3/lib/python3.8/site-packages (from python-dateutil>=2.7->matplotlib>=3.0.0->mlxtend) (1.16.0)\n",
      "Installing collected packages: joblib, scikit-learn, mlxtend\n",
      "  Attempting uninstall: joblib\n",
      "    Found existing installation: joblib 1.0.1\n",
      "    Uninstalling joblib-1.0.1:\n",
      "      Successfully uninstalled joblib-1.0.1\n",
      "  Attempting uninstall: scikit-learn\n",
      "    Found existing installation: scikit-learn 0.24.2\n",
      "    Uninstalling scikit-learn-0.24.2:\n",
      "      Successfully uninstalled scikit-learn-0.24.2\n",
      "Successfully installed joblib-1.2.0 mlxtend-0.21.0 scikit-learn-1.2.1\n",
      "\u001b[33mWARNING: You are using pip version 22.0.3; however, version 23.0 is available.\n",
      "You should consider upgrading via the '/Users/jenniferchessa/opt/anaconda3/bin/python -m pip install --upgrade pip' command.\u001b[0m\u001b[33m\n",
      "\u001b[0m"
     ]
    }
   ],
   "source": [
    "pip install --upgrade scikit-learn\n",
    "pip install statsmodels\n",
    "pip install mlxtend\n",
    "pip install imblearn"
   ]
  },
  {
   "cell_type": "code",
   "execution_count": 1,
   "id": "ec40b5b2",
   "metadata": {},
   "outputs": [],
   "source": [
    "import pandas as pd\n",
    "import numpy as np\n",
    "from sklearn import preprocessing\n",
    "import matplotlib.pyplot as plt\n",
    "import seaborn as sns"
   ]
  },
  {
   "cell_type": "markdown",
   "id": "1f396dcd",
   "metadata": {},
   "source": [
    "## Dataset Overview"
   ]
  },
  {
   "cell_type": "code",
   "execution_count": 2,
   "id": "fd0866c2",
   "metadata": {},
   "outputs": [
    {
     "data": {
      "text/html": [
       "<div>\n",
       "<style scoped>\n",
       "    .dataframe tbody tr th:only-of-type {\n",
       "        vertical-align: middle;\n",
       "    }\n",
       "\n",
       "    .dataframe tbody tr th {\n",
       "        vertical-align: top;\n",
       "    }\n",
       "\n",
       "    .dataframe thead th {\n",
       "        text-align: right;\n",
       "    }\n",
       "</style>\n",
       "<table border=\"1\" class=\"dataframe\">\n",
       "  <thead>\n",
       "    <tr style=\"text-align: right;\">\n",
       "      <th></th>\n",
       "      <th>ID</th>\n",
       "      <th>Survive</th>\n",
       "      <th>Age</th>\n",
       "      <th>AgeGroup</th>\n",
       "      <th>Sex</th>\n",
       "      <th>Infection</th>\n",
       "      <th>SysBP</th>\n",
       "      <th>Pulse</th>\n",
       "      <th>Emergency</th>\n",
       "    </tr>\n",
       "  </thead>\n",
       "  <tbody>\n",
       "    <tr>\n",
       "      <th>0</th>\n",
       "      <td>4</td>\n",
       "      <td>0</td>\n",
       "      <td>87</td>\n",
       "      <td>3</td>\n",
       "      <td>1</td>\n",
       "      <td>1</td>\n",
       "      <td>80</td>\n",
       "      <td>96</td>\n",
       "      <td>1</td>\n",
       "    </tr>\n",
       "    <tr>\n",
       "      <th>1</th>\n",
       "      <td>8</td>\n",
       "      <td>1</td>\n",
       "      <td>27</td>\n",
       "      <td>1</td>\n",
       "      <td>1</td>\n",
       "      <td>1</td>\n",
       "      <td>142</td>\n",
       "      <td>88</td>\n",
       "      <td>1</td>\n",
       "    </tr>\n",
       "    <tr>\n",
       "      <th>2</th>\n",
       "      <td>12</td>\n",
       "      <td>1</td>\n",
       "      <td>59</td>\n",
       "      <td>2</td>\n",
       "      <td>0</td>\n",
       "      <td>0</td>\n",
       "      <td>112</td>\n",
       "      <td>80</td>\n",
       "      <td>1</td>\n",
       "    </tr>\n",
       "    <tr>\n",
       "      <th>3</th>\n",
       "      <td>14</td>\n",
       "      <td>1</td>\n",
       "      <td>77</td>\n",
       "      <td>3</td>\n",
       "      <td>0</td>\n",
       "      <td>0</td>\n",
       "      <td>100</td>\n",
       "      <td>70</td>\n",
       "      <td>0</td>\n",
       "    </tr>\n",
       "    <tr>\n",
       "      <th>4</th>\n",
       "      <td>27</td>\n",
       "      <td>0</td>\n",
       "      <td>76</td>\n",
       "      <td>3</td>\n",
       "      <td>1</td>\n",
       "      <td>1</td>\n",
       "      <td>128</td>\n",
       "      <td>90</td>\n",
       "      <td>1</td>\n",
       "    </tr>\n",
       "  </tbody>\n",
       "</table>\n",
       "</div>"
      ],
      "text/plain": [
       "   ID  Survive  Age  AgeGroup  Sex  Infection  SysBP  Pulse  Emergency\n",
       "0   4        0   87         3    1          1     80     96          1\n",
       "1   8        1   27         1    1          1    142     88          1\n",
       "2  12        1   59         2    0          0    112     80          1\n",
       "3  14        1   77         3    0          0    100     70          0\n",
       "4  27        0   76         3    1          1    128     90          1"
      ]
     },
     "execution_count": 2,
     "metadata": {},
     "output_type": "execute_result"
    }
   ],
   "source": [
    "# Importing the dataset\n",
    "dataset = pd.read_csv('ICU.csv', index_col=False)\n",
    "dataset.drop(dataset.columns[0], axis=1, inplace=True)\n",
    "dataset.head()"
   ]
  },
  {
   "cell_type": "code",
   "execution_count": 3,
   "id": "f80274af",
   "metadata": {},
   "outputs": [
    {
     "data": {
      "text/plain": [
       "Index(['ID', 'Survive', 'Age', 'AgeGroup', 'Sex', 'Infection', 'SysBP',\n",
       "       'Pulse', 'Emergency'],\n",
       "      dtype='object')"
      ]
     },
     "execution_count": 3,
     "metadata": {},
     "output_type": "execute_result"
    }
   ],
   "source": [
    "dataset.columns"
   ]
  },
  {
   "cell_type": "code",
   "execution_count": 4,
   "id": "807a552f",
   "metadata": {
    "scrolled": true
   },
   "outputs": [
    {
     "data": {
      "text/plain": [
       "ID           0\n",
       "Survive      0\n",
       "Age          0\n",
       "AgeGroup     0\n",
       "Sex          0\n",
       "Infection    0\n",
       "SysBP        0\n",
       "Pulse        0\n",
       "Emergency    0\n",
       "dtype: int64"
      ]
     },
     "execution_count": 4,
     "metadata": {},
     "output_type": "execute_result"
    }
   ],
   "source": [
    "dataset.isnull().sum()"
   ]
  },
  {
   "cell_type": "markdown",
   "id": "ecee9299",
   "metadata": {},
   "source": [
    "There is no null values."
   ]
  },
  {
   "cell_type": "code",
   "execution_count": 5,
   "id": "dab4b5b5",
   "metadata": {
    "scrolled": false
   },
   "outputs": [
    {
     "data": {
      "text/html": [
       "<div>\n",
       "<style scoped>\n",
       "    .dataframe tbody tr th:only-of-type {\n",
       "        vertical-align: middle;\n",
       "    }\n",
       "\n",
       "    .dataframe tbody tr th {\n",
       "        vertical-align: top;\n",
       "    }\n",
       "\n",
       "    .dataframe thead th {\n",
       "        text-align: right;\n",
       "    }\n",
       "</style>\n",
       "<table border=\"1\" class=\"dataframe\">\n",
       "  <thead>\n",
       "    <tr style=\"text-align: right;\">\n",
       "      <th></th>\n",
       "      <th>ID</th>\n",
       "      <th>Survive</th>\n",
       "      <th>Age</th>\n",
       "      <th>AgeGroup</th>\n",
       "      <th>Sex</th>\n",
       "      <th>Infection</th>\n",
       "      <th>SysBP</th>\n",
       "      <th>Pulse</th>\n",
       "      <th>Emergency</th>\n",
       "    </tr>\n",
       "  </thead>\n",
       "  <tbody>\n",
       "    <tr>\n",
       "      <th>count</th>\n",
       "      <td>200.00000</td>\n",
       "      <td>200.000000</td>\n",
       "      <td>200.000000</td>\n",
       "      <td>200.000000</td>\n",
       "      <td>200.000000</td>\n",
       "      <td>200.000000</td>\n",
       "      <td>200.000000</td>\n",
       "      <td>200.00000</td>\n",
       "      <td>200.000000</td>\n",
       "    </tr>\n",
       "    <tr>\n",
       "      <th>mean</th>\n",
       "      <td>444.82000</td>\n",
       "      <td>0.800000</td>\n",
       "      <td>57.545000</td>\n",
       "      <td>2.025000</td>\n",
       "      <td>0.380000</td>\n",
       "      <td>0.420000</td>\n",
       "      <td>132.280000</td>\n",
       "      <td>98.92500</td>\n",
       "      <td>0.735000</td>\n",
       "    </tr>\n",
       "    <tr>\n",
       "      <th>std</th>\n",
       "      <td>271.91668</td>\n",
       "      <td>0.401004</td>\n",
       "      <td>20.054648</td>\n",
       "      <td>0.785788</td>\n",
       "      <td>0.486604</td>\n",
       "      <td>0.494797</td>\n",
       "      <td>32.952099</td>\n",
       "      <td>26.82962</td>\n",
       "      <td>0.442441</td>\n",
       "    </tr>\n",
       "    <tr>\n",
       "      <th>min</th>\n",
       "      <td>4.00000</td>\n",
       "      <td>0.000000</td>\n",
       "      <td>16.000000</td>\n",
       "      <td>1.000000</td>\n",
       "      <td>0.000000</td>\n",
       "      <td>0.000000</td>\n",
       "      <td>36.000000</td>\n",
       "      <td>39.00000</td>\n",
       "      <td>0.000000</td>\n",
       "    </tr>\n",
       "    <tr>\n",
       "      <th>25%</th>\n",
       "      <td>210.25000</td>\n",
       "      <td>1.000000</td>\n",
       "      <td>46.750000</td>\n",
       "      <td>1.000000</td>\n",
       "      <td>0.000000</td>\n",
       "      <td>0.000000</td>\n",
       "      <td>110.000000</td>\n",
       "      <td>80.00000</td>\n",
       "      <td>0.000000</td>\n",
       "    </tr>\n",
       "    <tr>\n",
       "      <th>50%</th>\n",
       "      <td>412.50000</td>\n",
       "      <td>1.000000</td>\n",
       "      <td>63.000000</td>\n",
       "      <td>2.000000</td>\n",
       "      <td>0.000000</td>\n",
       "      <td>0.000000</td>\n",
       "      <td>130.000000</td>\n",
       "      <td>96.00000</td>\n",
       "      <td>1.000000</td>\n",
       "    </tr>\n",
       "    <tr>\n",
       "      <th>75%</th>\n",
       "      <td>671.75000</td>\n",
       "      <td>1.000000</td>\n",
       "      <td>72.000000</td>\n",
       "      <td>3.000000</td>\n",
       "      <td>1.000000</td>\n",
       "      <td>1.000000</td>\n",
       "      <td>150.000000</td>\n",
       "      <td>118.25000</td>\n",
       "      <td>1.000000</td>\n",
       "    </tr>\n",
       "    <tr>\n",
       "      <th>max</th>\n",
       "      <td>929.00000</td>\n",
       "      <td>1.000000</td>\n",
       "      <td>92.000000</td>\n",
       "      <td>3.000000</td>\n",
       "      <td>1.000000</td>\n",
       "      <td>1.000000</td>\n",
       "      <td>256.000000</td>\n",
       "      <td>192.00000</td>\n",
       "      <td>1.000000</td>\n",
       "    </tr>\n",
       "  </tbody>\n",
       "</table>\n",
       "</div>"
      ],
      "text/plain": [
       "              ID     Survive         Age    AgeGroup         Sex   Infection  \\\n",
       "count  200.00000  200.000000  200.000000  200.000000  200.000000  200.000000   \n",
       "mean   444.82000    0.800000   57.545000    2.025000    0.380000    0.420000   \n",
       "std    271.91668    0.401004   20.054648    0.785788    0.486604    0.494797   \n",
       "min      4.00000    0.000000   16.000000    1.000000    0.000000    0.000000   \n",
       "25%    210.25000    1.000000   46.750000    1.000000    0.000000    0.000000   \n",
       "50%    412.50000    1.000000   63.000000    2.000000    0.000000    0.000000   \n",
       "75%    671.75000    1.000000   72.000000    3.000000    1.000000    1.000000   \n",
       "max    929.00000    1.000000   92.000000    3.000000    1.000000    1.000000   \n",
       "\n",
       "            SysBP      Pulse   Emergency  \n",
       "count  200.000000  200.00000  200.000000  \n",
       "mean   132.280000   98.92500    0.735000  \n",
       "std     32.952099   26.82962    0.442441  \n",
       "min     36.000000   39.00000    0.000000  \n",
       "25%    110.000000   80.00000    0.000000  \n",
       "50%    130.000000   96.00000    1.000000  \n",
       "75%    150.000000  118.25000    1.000000  \n",
       "max    256.000000  192.00000    1.000000  "
      ]
     },
     "execution_count": 5,
     "metadata": {},
     "output_type": "execute_result"
    }
   ],
   "source": [
    "dataset.describe()"
   ]
  },
  {
   "cell_type": "code",
   "execution_count": 6,
   "id": "19ec8325",
   "metadata": {
    "scrolled": false
   },
   "outputs": [
    {
     "data": {
      "text/plain": [
       "ID           int64\n",
       "Survive      int64\n",
       "Age          int64\n",
       "AgeGroup     int64\n",
       "Sex          int64\n",
       "Infection    int64\n",
       "SysBP        int64\n",
       "Pulse        int64\n",
       "Emergency    int64\n",
       "dtype: object"
      ]
     },
     "execution_count": 6,
     "metadata": {},
     "output_type": "execute_result"
    }
   ],
   "source": [
    "dataset.dtypes"
   ]
  },
  {
   "cell_type": "code",
   "execution_count": 7,
   "id": "8f4aedb4",
   "metadata": {},
   "outputs": [
    {
     "data": {
      "text/html": [
       "<div>\n",
       "<style scoped>\n",
       "    .dataframe tbody tr th:only-of-type {\n",
       "        vertical-align: middle;\n",
       "    }\n",
       "\n",
       "    .dataframe tbody tr th {\n",
       "        vertical-align: top;\n",
       "    }\n",
       "\n",
       "    .dataframe thead th {\n",
       "        text-align: right;\n",
       "    }\n",
       "</style>\n",
       "<table border=\"1\" class=\"dataframe\">\n",
       "  <thead>\n",
       "    <tr style=\"text-align: right;\">\n",
       "      <th></th>\n",
       "      <th>ID</th>\n",
       "      <th>Survive</th>\n",
       "      <th>Age</th>\n",
       "      <th>AgeGroup</th>\n",
       "      <th>Sex</th>\n",
       "      <th>Infection</th>\n",
       "      <th>SysBP</th>\n",
       "      <th>Pulse</th>\n",
       "      <th>Emergency</th>\n",
       "    </tr>\n",
       "  </thead>\n",
       "  <tbody>\n",
       "    <tr>\n",
       "      <th>ID</th>\n",
       "      <td>1.000000</td>\n",
       "      <td>0.090088</td>\n",
       "      <td>-0.133796</td>\n",
       "      <td>-0.092947</td>\n",
       "      <td>0.004507</td>\n",
       "      <td>-0.129038</td>\n",
       "      <td>0.007579</td>\n",
       "      <td>0.027351</td>\n",
       "      <td>0.199467</td>\n",
       "    </tr>\n",
       "    <tr>\n",
       "      <th>Survive</th>\n",
       "      <td>0.090088</td>\n",
       "      <td>1.000000</td>\n",
       "      <td>-0.189458</td>\n",
       "      <td>-0.191370</td>\n",
       "      <td>-0.020602</td>\n",
       "      <td>-0.182349</td>\n",
       "      <td>0.204672</td>\n",
       "      <td>-0.031761</td>\n",
       "      <td>-0.243580</td>\n",
       "    </tr>\n",
       "    <tr>\n",
       "      <th>Age</th>\n",
       "      <td>-0.133796</td>\n",
       "      <td>-0.189458</td>\n",
       "      <td>1.000000</td>\n",
       "      <td>0.899328</td>\n",
       "      <td>0.096077</td>\n",
       "      <td>0.153555</td>\n",
       "      <td>0.042594</td>\n",
       "      <td>0.037368</td>\n",
       "      <td>-0.186957</td>\n",
       "    </tr>\n",
       "    <tr>\n",
       "      <th>AgeGroup</th>\n",
       "      <td>-0.092947</td>\n",
       "      <td>-0.191370</td>\n",
       "      <td>0.899328</td>\n",
       "      <td>1.000000</td>\n",
       "      <td>0.106451</td>\n",
       "      <td>0.102104</td>\n",
       "      <td>0.044558</td>\n",
       "      <td>0.022495</td>\n",
       "      <td>-0.197658</td>\n",
       "    </tr>\n",
       "    <tr>\n",
       "      <th>Sex</th>\n",
       "      <td>0.004507</td>\n",
       "      <td>-0.020602</td>\n",
       "      <td>0.096077</td>\n",
       "      <td>0.106451</td>\n",
       "      <td>1.000000</td>\n",
       "      <td>0.022541</td>\n",
       "      <td>0.049428</td>\n",
       "      <td>0.039530</td>\n",
       "      <td>0.119972</td>\n",
       "    </tr>\n",
       "    <tr>\n",
       "      <th>Infection</th>\n",
       "      <td>-0.129038</td>\n",
       "      <td>-0.182349</td>\n",
       "      <td>0.153555</td>\n",
       "      <td>0.102104</td>\n",
       "      <td>0.022541</td>\n",
       "      <td>1.000000</td>\n",
       "      <td>-0.228539</td>\n",
       "      <td>0.310512</td>\n",
       "      <td>0.166648</td>\n",
       "    </tr>\n",
       "    <tr>\n",
       "      <th>SysBP</th>\n",
       "      <td>0.007579</td>\n",
       "      <td>0.204672</td>\n",
       "      <td>0.042594</td>\n",
       "      <td>0.044558</td>\n",
       "      <td>0.049428</td>\n",
       "      <td>-0.228539</td>\n",
       "      <td>1.000000</td>\n",
       "      <td>-0.056582</td>\n",
       "      <td>-0.184111</td>\n",
       "    </tr>\n",
       "    <tr>\n",
       "      <th>Pulse</th>\n",
       "      <td>0.027351</td>\n",
       "      <td>-0.031761</td>\n",
       "      <td>0.037368</td>\n",
       "      <td>0.022495</td>\n",
       "      <td>0.039530</td>\n",
       "      <td>0.310512</td>\n",
       "      <td>-0.056582</td>\n",
       "      <td>1.000000</td>\n",
       "      <td>0.175269</td>\n",
       "    </tr>\n",
       "    <tr>\n",
       "      <th>Emergency</th>\n",
       "      <td>0.199467</td>\n",
       "      <td>-0.243580</td>\n",
       "      <td>-0.186957</td>\n",
       "      <td>-0.197658</td>\n",
       "      <td>0.119972</td>\n",
       "      <td>0.166648</td>\n",
       "      <td>-0.184111</td>\n",
       "      <td>0.175269</td>\n",
       "      <td>1.000000</td>\n",
       "    </tr>\n",
       "  </tbody>\n",
       "</table>\n",
       "</div>"
      ],
      "text/plain": [
       "                 ID   Survive       Age  AgeGroup       Sex  Infection  \\\n",
       "ID         1.000000  0.090088 -0.133796 -0.092947  0.004507  -0.129038   \n",
       "Survive    0.090088  1.000000 -0.189458 -0.191370 -0.020602  -0.182349   \n",
       "Age       -0.133796 -0.189458  1.000000  0.899328  0.096077   0.153555   \n",
       "AgeGroup  -0.092947 -0.191370  0.899328  1.000000  0.106451   0.102104   \n",
       "Sex        0.004507 -0.020602  0.096077  0.106451  1.000000   0.022541   \n",
       "Infection -0.129038 -0.182349  0.153555  0.102104  0.022541   1.000000   \n",
       "SysBP      0.007579  0.204672  0.042594  0.044558  0.049428  -0.228539   \n",
       "Pulse      0.027351 -0.031761  0.037368  0.022495  0.039530   0.310512   \n",
       "Emergency  0.199467 -0.243580 -0.186957 -0.197658  0.119972   0.166648   \n",
       "\n",
       "              SysBP     Pulse  Emergency  \n",
       "ID         0.007579  0.027351   0.199467  \n",
       "Survive    0.204672 -0.031761  -0.243580  \n",
       "Age        0.042594  0.037368  -0.186957  \n",
       "AgeGroup   0.044558  0.022495  -0.197658  \n",
       "Sex        0.049428  0.039530   0.119972  \n",
       "Infection -0.228539  0.310512   0.166648  \n",
       "SysBP      1.000000 -0.056582  -0.184111  \n",
       "Pulse     -0.056582  1.000000   0.175269  \n",
       "Emergency -0.184111  0.175269   1.000000  "
      ]
     },
     "execution_count": 7,
     "metadata": {},
     "output_type": "execute_result"
    }
   ],
   "source": [
    "# Checking the correlation between each features\n",
    "corr = dataset.corr()\n",
    "corr"
   ]
  },
  {
   "cell_type": "markdown",
   "id": "42d79c29",
   "metadata": {},
   "source": [
    "The table above shows that Age and AgeGroup are highly correlated to each other, as expected."
   ]
  },
  {
   "cell_type": "markdown",
   "id": "d6d184cf",
   "metadata": {},
   "source": [
    "## Normalizing Data"
   ]
  },
  {
   "cell_type": "markdown",
   "id": "ce7dbeb2",
   "metadata": {},
   "source": [
    "As the columns contain data of different ranges, we should normalize the data (except for the column ID, as we will not use it for training/testing)."
   ]
  },
  {
   "cell_type": "code",
   "execution_count": 8,
   "id": "98741e1b",
   "metadata": {},
   "outputs": [
    {
     "data": {
      "text/html": [
       "<div>\n",
       "<style scoped>\n",
       "    .dataframe tbody tr th:only-of-type {\n",
       "        vertical-align: middle;\n",
       "    }\n",
       "\n",
       "    .dataframe tbody tr th {\n",
       "        vertical-align: top;\n",
       "    }\n",
       "\n",
       "    .dataframe thead th {\n",
       "        text-align: right;\n",
       "    }\n",
       "</style>\n",
       "<table border=\"1\" class=\"dataframe\">\n",
       "  <thead>\n",
       "    <tr style=\"text-align: right;\">\n",
       "      <th></th>\n",
       "      <th>ID</th>\n",
       "      <th>Survive</th>\n",
       "      <th>Age</th>\n",
       "      <th>AgeGroup</th>\n",
       "      <th>Sex</th>\n",
       "      <th>Infection</th>\n",
       "      <th>SysBP</th>\n",
       "      <th>Pulse</th>\n",
       "      <th>Emergency</th>\n",
       "    </tr>\n",
       "  </thead>\n",
       "  <tbody>\n",
       "    <tr>\n",
       "      <th>0</th>\n",
       "      <td>4</td>\n",
       "      <td>0.0</td>\n",
       "      <td>0.934211</td>\n",
       "      <td>1.0</td>\n",
       "      <td>1.0</td>\n",
       "      <td>1.0</td>\n",
       "      <td>0.200000</td>\n",
       "      <td>0.372549</td>\n",
       "      <td>1.0</td>\n",
       "    </tr>\n",
       "    <tr>\n",
       "      <th>1</th>\n",
       "      <td>8</td>\n",
       "      <td>1.0</td>\n",
       "      <td>0.144737</td>\n",
       "      <td>0.0</td>\n",
       "      <td>1.0</td>\n",
       "      <td>1.0</td>\n",
       "      <td>0.481818</td>\n",
       "      <td>0.320261</td>\n",
       "      <td>1.0</td>\n",
       "    </tr>\n",
       "    <tr>\n",
       "      <th>2</th>\n",
       "      <td>12</td>\n",
       "      <td>1.0</td>\n",
       "      <td>0.565789</td>\n",
       "      <td>0.5</td>\n",
       "      <td>0.0</td>\n",
       "      <td>0.0</td>\n",
       "      <td>0.345455</td>\n",
       "      <td>0.267974</td>\n",
       "      <td>1.0</td>\n",
       "    </tr>\n",
       "    <tr>\n",
       "      <th>3</th>\n",
       "      <td>14</td>\n",
       "      <td>1.0</td>\n",
       "      <td>0.802632</td>\n",
       "      <td>1.0</td>\n",
       "      <td>0.0</td>\n",
       "      <td>0.0</td>\n",
       "      <td>0.290909</td>\n",
       "      <td>0.202614</td>\n",
       "      <td>0.0</td>\n",
       "    </tr>\n",
       "    <tr>\n",
       "      <th>4</th>\n",
       "      <td>27</td>\n",
       "      <td>0.0</td>\n",
       "      <td>0.789474</td>\n",
       "      <td>1.0</td>\n",
       "      <td>1.0</td>\n",
       "      <td>1.0</td>\n",
       "      <td>0.418182</td>\n",
       "      <td>0.333333</td>\n",
       "      <td>1.0</td>\n",
       "    </tr>\n",
       "    <tr>\n",
       "      <th>...</th>\n",
       "      <td>...</td>\n",
       "      <td>...</td>\n",
       "      <td>...</td>\n",
       "      <td>...</td>\n",
       "      <td>...</td>\n",
       "      <td>...</td>\n",
       "      <td>...</td>\n",
       "      <td>...</td>\n",
       "      <td>...</td>\n",
       "    </tr>\n",
       "    <tr>\n",
       "      <th>195</th>\n",
       "      <td>921</td>\n",
       "      <td>0.0</td>\n",
       "      <td>0.447368</td>\n",
       "      <td>0.5</td>\n",
       "      <td>1.0</td>\n",
       "      <td>0.0</td>\n",
       "      <td>1.000000</td>\n",
       "      <td>0.163399</td>\n",
       "      <td>1.0</td>\n",
       "    </tr>\n",
       "    <tr>\n",
       "      <th>196</th>\n",
       "      <td>923</td>\n",
       "      <td>1.0</td>\n",
       "      <td>0.052632</td>\n",
       "      <td>0.0</td>\n",
       "      <td>0.0</td>\n",
       "      <td>0.0</td>\n",
       "      <td>0.309091</td>\n",
       "      <td>0.287582</td>\n",
       "      <td>1.0</td>\n",
       "    </tr>\n",
       "    <tr>\n",
       "      <th>197</th>\n",
       "      <td>924</td>\n",
       "      <td>1.0</td>\n",
       "      <td>0.750000</td>\n",
       "      <td>1.0</td>\n",
       "      <td>1.0</td>\n",
       "      <td>0.0</td>\n",
       "      <td>0.572727</td>\n",
       "      <td>0.398693</td>\n",
       "      <td>1.0</td>\n",
       "    </tr>\n",
       "    <tr>\n",
       "      <th>198</th>\n",
       "      <td>925</td>\n",
       "      <td>1.0</td>\n",
       "      <td>0.565789</td>\n",
       "      <td>0.5</td>\n",
       "      <td>0.0</td>\n",
       "      <td>0.0</td>\n",
       "      <td>0.290909</td>\n",
       "      <td>0.320261</td>\n",
       "      <td>1.0</td>\n",
       "    </tr>\n",
       "    <tr>\n",
       "      <th>199</th>\n",
       "      <td>929</td>\n",
       "      <td>1.0</td>\n",
       "      <td>0.342105</td>\n",
       "      <td>0.0</td>\n",
       "      <td>0.0</td>\n",
       "      <td>0.0</td>\n",
       "      <td>0.390909</td>\n",
       "      <td>0.294118</td>\n",
       "      <td>1.0</td>\n",
       "    </tr>\n",
       "  </tbody>\n",
       "</table>\n",
       "<p>200 rows × 9 columns</p>\n",
       "</div>"
      ],
      "text/plain": [
       "      ID  Survive       Age  AgeGroup  Sex  Infection     SysBP     Pulse  \\\n",
       "0      4      0.0  0.934211       1.0  1.0        1.0  0.200000  0.372549   \n",
       "1      8      1.0  0.144737       0.0  1.0        1.0  0.481818  0.320261   \n",
       "2     12      1.0  0.565789       0.5  0.0        0.0  0.345455  0.267974   \n",
       "3     14      1.0  0.802632       1.0  0.0        0.0  0.290909  0.202614   \n",
       "4     27      0.0  0.789474       1.0  1.0        1.0  0.418182  0.333333   \n",
       "..   ...      ...       ...       ...  ...        ...       ...       ...   \n",
       "195  921      0.0  0.447368       0.5  1.0        0.0  1.000000  0.163399   \n",
       "196  923      1.0  0.052632       0.0  0.0        0.0  0.309091  0.287582   \n",
       "197  924      1.0  0.750000       1.0  1.0        0.0  0.572727  0.398693   \n",
       "198  925      1.0  0.565789       0.5  0.0        0.0  0.290909  0.320261   \n",
       "199  929      1.0  0.342105       0.0  0.0        0.0  0.390909  0.294118   \n",
       "\n",
       "     Emergency  \n",
       "0          1.0  \n",
       "1          1.0  \n",
       "2          1.0  \n",
       "3          0.0  \n",
       "4          1.0  \n",
       "..         ...  \n",
       "195        1.0  \n",
       "196        1.0  \n",
       "197        1.0  \n",
       "198        1.0  \n",
       "199        1.0  \n",
       "\n",
       "[200 rows x 9 columns]"
      ]
     },
     "execution_count": 8,
     "metadata": {},
     "output_type": "execute_result"
    }
   ],
   "source": [
    "# Normalize the data (minus ID)\n",
    "min_max_scaler = preprocessing.MinMaxScaler()\n",
    "x_scaled = min_max_scaler.fit_transform(dataset.iloc[:,1:].values)\n",
    "scaled_df = pd.DataFrame(x_scaled, columns=dataset.iloc[:,1:].columns)\n",
    "scaled_df.insert(loc=0, column='ID', value=dataset['ID'])\n",
    "scaled_df"
   ]
  },
  {
   "cell_type": "markdown",
   "id": "20ca42be",
   "metadata": {},
   "source": [
    "## Exporting to SQL Database"
   ]
  },
  {
   "cell_type": "markdown",
   "id": "711894ac",
   "metadata": {},
   "source": [
    "To store the data, we can export the data in tidy format to SQLite3 database."
   ]
  },
  {
   "cell_type": "code",
   "execution_count": 9,
   "id": "1ad02a2f",
   "metadata": {},
   "outputs": [],
   "source": [
    "# Split the dataframe into separate dataframes\n",
    "patients = scaled_df[['ID','Age','AgeGroup','Sex']]\n",
    "admissions = scaled_df[['ID','Infection','SysBP','Pulse','Emergency','Survive']]"
   ]
  },
  {
   "cell_type": "code",
   "execution_count": 10,
   "id": "616b5000",
   "metadata": {},
   "outputs": [
    {
     "data": {
      "text/html": [
       "<div>\n",
       "<style scoped>\n",
       "    .dataframe tbody tr th:only-of-type {\n",
       "        vertical-align: middle;\n",
       "    }\n",
       "\n",
       "    .dataframe tbody tr th {\n",
       "        vertical-align: top;\n",
       "    }\n",
       "\n",
       "    .dataframe thead th {\n",
       "        text-align: right;\n",
       "    }\n",
       "</style>\n",
       "<table border=\"1\" class=\"dataframe\">\n",
       "  <thead>\n",
       "    <tr style=\"text-align: right;\">\n",
       "      <th></th>\n",
       "      <th>ID</th>\n",
       "      <th>Age</th>\n",
       "      <th>AgeGroup</th>\n",
       "      <th>Sex</th>\n",
       "    </tr>\n",
       "  </thead>\n",
       "  <tbody>\n",
       "    <tr>\n",
       "      <th>0</th>\n",
       "      <td>4</td>\n",
       "      <td>0.934211</td>\n",
       "      <td>1.0</td>\n",
       "      <td>1.0</td>\n",
       "    </tr>\n",
       "    <tr>\n",
       "      <th>1</th>\n",
       "      <td>8</td>\n",
       "      <td>0.144737</td>\n",
       "      <td>0.0</td>\n",
       "      <td>1.0</td>\n",
       "    </tr>\n",
       "    <tr>\n",
       "      <th>2</th>\n",
       "      <td>12</td>\n",
       "      <td>0.565789</td>\n",
       "      <td>0.5</td>\n",
       "      <td>0.0</td>\n",
       "    </tr>\n",
       "    <tr>\n",
       "      <th>3</th>\n",
       "      <td>14</td>\n",
       "      <td>0.802632</td>\n",
       "      <td>1.0</td>\n",
       "      <td>0.0</td>\n",
       "    </tr>\n",
       "    <tr>\n",
       "      <th>4</th>\n",
       "      <td>27</td>\n",
       "      <td>0.789474</td>\n",
       "      <td>1.0</td>\n",
       "      <td>1.0</td>\n",
       "    </tr>\n",
       "  </tbody>\n",
       "</table>\n",
       "</div>"
      ],
      "text/plain": [
       "   ID       Age  AgeGroup  Sex\n",
       "0   4  0.934211       1.0  1.0\n",
       "1   8  0.144737       0.0  1.0\n",
       "2  12  0.565789       0.5  0.0\n",
       "3  14  0.802632       1.0  0.0\n",
       "4  27  0.789474       1.0  1.0"
      ]
     },
     "execution_count": 10,
     "metadata": {},
     "output_type": "execute_result"
    }
   ],
   "source": [
    "patients.head()"
   ]
  },
  {
   "cell_type": "code",
   "execution_count": 11,
   "id": "df638446",
   "metadata": {},
   "outputs": [
    {
     "data": {
      "text/html": [
       "<div>\n",
       "<style scoped>\n",
       "    .dataframe tbody tr th:only-of-type {\n",
       "        vertical-align: middle;\n",
       "    }\n",
       "\n",
       "    .dataframe tbody tr th {\n",
       "        vertical-align: top;\n",
       "    }\n",
       "\n",
       "    .dataframe thead th {\n",
       "        text-align: right;\n",
       "    }\n",
       "</style>\n",
       "<table border=\"1\" class=\"dataframe\">\n",
       "  <thead>\n",
       "    <tr style=\"text-align: right;\">\n",
       "      <th></th>\n",
       "      <th>ID</th>\n",
       "      <th>Infection</th>\n",
       "      <th>SysBP</th>\n",
       "      <th>Pulse</th>\n",
       "      <th>Emergency</th>\n",
       "      <th>Survive</th>\n",
       "    </tr>\n",
       "  </thead>\n",
       "  <tbody>\n",
       "    <tr>\n",
       "      <th>0</th>\n",
       "      <td>4</td>\n",
       "      <td>1.0</td>\n",
       "      <td>0.200000</td>\n",
       "      <td>0.372549</td>\n",
       "      <td>1.0</td>\n",
       "      <td>0.0</td>\n",
       "    </tr>\n",
       "    <tr>\n",
       "      <th>1</th>\n",
       "      <td>8</td>\n",
       "      <td>1.0</td>\n",
       "      <td>0.481818</td>\n",
       "      <td>0.320261</td>\n",
       "      <td>1.0</td>\n",
       "      <td>1.0</td>\n",
       "    </tr>\n",
       "    <tr>\n",
       "      <th>2</th>\n",
       "      <td>12</td>\n",
       "      <td>0.0</td>\n",
       "      <td>0.345455</td>\n",
       "      <td>0.267974</td>\n",
       "      <td>1.0</td>\n",
       "      <td>1.0</td>\n",
       "    </tr>\n",
       "    <tr>\n",
       "      <th>3</th>\n",
       "      <td>14</td>\n",
       "      <td>0.0</td>\n",
       "      <td>0.290909</td>\n",
       "      <td>0.202614</td>\n",
       "      <td>0.0</td>\n",
       "      <td>1.0</td>\n",
       "    </tr>\n",
       "    <tr>\n",
       "      <th>4</th>\n",
       "      <td>27</td>\n",
       "      <td>1.0</td>\n",
       "      <td>0.418182</td>\n",
       "      <td>0.333333</td>\n",
       "      <td>1.0</td>\n",
       "      <td>0.0</td>\n",
       "    </tr>\n",
       "  </tbody>\n",
       "</table>\n",
       "</div>"
      ],
      "text/plain": [
       "   ID  Infection     SysBP     Pulse  Emergency  Survive\n",
       "0   4        1.0  0.200000  0.372549        1.0      0.0\n",
       "1   8        1.0  0.481818  0.320261        1.0      1.0\n",
       "2  12        0.0  0.345455  0.267974        1.0      1.0\n",
       "3  14        0.0  0.290909  0.202614        0.0      1.0\n",
       "4  27        1.0  0.418182  0.333333        1.0      0.0"
      ]
     },
     "execution_count": 11,
     "metadata": {},
     "output_type": "execute_result"
    }
   ],
   "source": [
    "admissions.head()"
   ]
  },
  {
   "cell_type": "code",
   "execution_count": 12,
   "id": "bd29a654",
   "metadata": {},
   "outputs": [],
   "source": [
    "import sqlite3\n",
    "\n",
    "conn = sqlite3.connect(\"icu.db\")"
   ]
  },
  {
   "cell_type": "code",
   "execution_count": 13,
   "id": "3ea3bda5",
   "metadata": {},
   "outputs": [
    {
     "name": "stdout",
     "output_type": "stream",
     "text": [
      "0\n"
     ]
    }
   ],
   "source": [
    "print(conn.total_changes)"
   ]
  },
  {
   "cell_type": "code",
   "execution_count": 14,
   "id": "592e5134",
   "metadata": {},
   "outputs": [],
   "source": [
    "cur = conn.cursor()\n",
    "patients.to_sql('patients', con=conn, if_exists=\"replace\", index=False)\n",
    "admissions.to_sql('admissions', con=conn, if_exists=\"replace\", index=False)"
   ]
  },
  {
   "cell_type": "code",
   "execution_count": 15,
   "id": "5167f71e",
   "metadata": {},
   "outputs": [
    {
     "name": "stdout",
     "output_type": "stream",
     "text": [
      "[('patients',), ('admissions',)]\n"
     ]
    }
   ],
   "source": [
    "sql_query = \"\"\"\n",
    "    SELECT name FROM sqlite_master\n",
    "    WHERE type='table';\n",
    "\"\"\"\n",
    "cur.execute(sql_query)\n",
    "print(cur.fetchall())"
   ]
  },
  {
   "cell_type": "code",
   "execution_count": 16,
   "id": "c1c84a69",
   "metadata": {},
   "outputs": [],
   "source": [
    "sql_query = \"\"\"\n",
    "    SELECT * FROM patients\n",
    "\"\"\"\n",
    "patients_df = pd.read_sql(sql_query,conn)"
   ]
  },
  {
   "cell_type": "code",
   "execution_count": 17,
   "id": "dc21f132",
   "metadata": {},
   "outputs": [],
   "source": [
    "sql_query = \"\"\"\n",
    "    SELECT * FROM admissions\n",
    "\"\"\"\n",
    "admissions_df = pd.read_sql(sql_query, conn)"
   ]
  },
  {
   "cell_type": "code",
   "execution_count": 18,
   "id": "7f1bc035",
   "metadata": {},
   "outputs": [
    {
     "data": {
      "text/html": [
       "<div>\n",
       "<style scoped>\n",
       "    .dataframe tbody tr th:only-of-type {\n",
       "        vertical-align: middle;\n",
       "    }\n",
       "\n",
       "    .dataframe tbody tr th {\n",
       "        vertical-align: top;\n",
       "    }\n",
       "\n",
       "    .dataframe thead th {\n",
       "        text-align: right;\n",
       "    }\n",
       "</style>\n",
       "<table border=\"1\" class=\"dataframe\">\n",
       "  <thead>\n",
       "    <tr style=\"text-align: right;\">\n",
       "      <th></th>\n",
       "      <th>ID</th>\n",
       "      <th>Age</th>\n",
       "      <th>AgeGroup</th>\n",
       "      <th>Sex</th>\n",
       "      <th>Infection</th>\n",
       "      <th>SysBP</th>\n",
       "      <th>Pulse</th>\n",
       "      <th>Emergency</th>\n",
       "      <th>Survive</th>\n",
       "    </tr>\n",
       "  </thead>\n",
       "  <tbody>\n",
       "    <tr>\n",
       "      <th>0</th>\n",
       "      <td>4</td>\n",
       "      <td>0.934211</td>\n",
       "      <td>1.0</td>\n",
       "      <td>1.0</td>\n",
       "      <td>1.0</td>\n",
       "      <td>0.200000</td>\n",
       "      <td>0.372549</td>\n",
       "      <td>1.0</td>\n",
       "      <td>0.0</td>\n",
       "    </tr>\n",
       "    <tr>\n",
       "      <th>1</th>\n",
       "      <td>8</td>\n",
       "      <td>0.144737</td>\n",
       "      <td>0.0</td>\n",
       "      <td>1.0</td>\n",
       "      <td>1.0</td>\n",
       "      <td>0.481818</td>\n",
       "      <td>0.320261</td>\n",
       "      <td>1.0</td>\n",
       "      <td>1.0</td>\n",
       "    </tr>\n",
       "    <tr>\n",
       "      <th>2</th>\n",
       "      <td>12</td>\n",
       "      <td>0.565789</td>\n",
       "      <td>0.5</td>\n",
       "      <td>0.0</td>\n",
       "      <td>0.0</td>\n",
       "      <td>0.345455</td>\n",
       "      <td>0.267974</td>\n",
       "      <td>1.0</td>\n",
       "      <td>1.0</td>\n",
       "    </tr>\n",
       "    <tr>\n",
       "      <th>3</th>\n",
       "      <td>14</td>\n",
       "      <td>0.802632</td>\n",
       "      <td>1.0</td>\n",
       "      <td>0.0</td>\n",
       "      <td>0.0</td>\n",
       "      <td>0.290909</td>\n",
       "      <td>0.202614</td>\n",
       "      <td>0.0</td>\n",
       "      <td>1.0</td>\n",
       "    </tr>\n",
       "    <tr>\n",
       "      <th>4</th>\n",
       "      <td>27</td>\n",
       "      <td>0.789474</td>\n",
       "      <td>1.0</td>\n",
       "      <td>1.0</td>\n",
       "      <td>1.0</td>\n",
       "      <td>0.418182</td>\n",
       "      <td>0.333333</td>\n",
       "      <td>1.0</td>\n",
       "      <td>0.0</td>\n",
       "    </tr>\n",
       "  </tbody>\n",
       "</table>\n",
       "</div>"
      ],
      "text/plain": [
       "   ID       Age  AgeGroup  Sex  Infection     SysBP     Pulse  Emergency  \\\n",
       "0   4  0.934211       1.0  1.0        1.0  0.200000  0.372549        1.0   \n",
       "1   8  0.144737       0.0  1.0        1.0  0.481818  0.320261        1.0   \n",
       "2  12  0.565789       0.5  0.0        0.0  0.345455  0.267974        1.0   \n",
       "3  14  0.802632       1.0  0.0        0.0  0.290909  0.202614        0.0   \n",
       "4  27  0.789474       1.0  1.0        1.0  0.418182  0.333333        1.0   \n",
       "\n",
       "   Survive  \n",
       "0      0.0  \n",
       "1      1.0  \n",
       "2      1.0  \n",
       "3      1.0  \n",
       "4      0.0  "
      ]
     },
     "execution_count": 18,
     "metadata": {},
     "output_type": "execute_result"
    }
   ],
   "source": [
    "sql_query = \"\"\"\n",
    "    SELECT A.ID, A.Age, A.AgeGroup, A.Sex, B.Infection, B.SysBP, B.Pulse, B.Emergency, B.Survive\n",
    "    FROM patients A\n",
    "    LEFT JOIN admissions B\n",
    "    ON A.ID = B.ID;\n",
    "\"\"\"\n",
    "full_df = pd.read_sql(sql_query, conn)\n",
    "full_df.head()"
   ]
  },
  {
   "cell_type": "markdown",
   "id": "f7f5e4eb",
   "metadata": {},
   "source": [
    "## Visualising Data"
   ]
  },
  {
   "cell_type": "markdown",
   "id": "240594cd",
   "metadata": {},
   "source": [
    "Let's check if the data is balanced."
   ]
  },
  {
   "cell_type": "code",
   "execution_count": 19,
   "id": "9704a606",
   "metadata": {},
   "outputs": [
    {
     "data": {
      "text/html": [
       "<div>\n",
       "<style scoped>\n",
       "    .dataframe tbody tr th:only-of-type {\n",
       "        vertical-align: middle;\n",
       "    }\n",
       "\n",
       "    .dataframe tbody tr th {\n",
       "        vertical-align: top;\n",
       "    }\n",
       "\n",
       "    .dataframe thead th {\n",
       "        text-align: right;\n",
       "    }\n",
       "</style>\n",
       "<table border=\"1\" class=\"dataframe\">\n",
       "  <thead>\n",
       "    <tr style=\"text-align: right;\">\n",
       "      <th></th>\n",
       "      <th>Survive</th>\n",
       "      <th>Count</th>\n",
       "    </tr>\n",
       "  </thead>\n",
       "  <tbody>\n",
       "    <tr>\n",
       "      <th>0</th>\n",
       "      <td>0.0</td>\n",
       "      <td>40</td>\n",
       "    </tr>\n",
       "    <tr>\n",
       "      <th>1</th>\n",
       "      <td>1.0</td>\n",
       "      <td>160</td>\n",
       "    </tr>\n",
       "  </tbody>\n",
       "</table>\n",
       "</div>"
      ],
      "text/plain": [
       "   Survive  Count\n",
       "0      0.0     40\n",
       "1      1.0    160"
      ]
     },
     "execution_count": 19,
     "metadata": {},
     "output_type": "execute_result"
    }
   ],
   "source": [
    "sql_query = \"\"\"\n",
    "    SELECT Survive, COUNT(Survive) AS Count\n",
    "    FROM admissions \n",
    "    GROUP BY Survive;\n",
    "\"\"\"\n",
    "survive_df = pd.read_sql(sql_query, conn)\n",
    "survive_df"
   ]
  },
  {
   "cell_type": "code",
   "execution_count": 20,
   "id": "d65f5cf9",
   "metadata": {},
   "outputs": [
    {
     "data": {
      "image/png": "[encoded data removed]",
      "text/plain": [
       "<Figure size 432x288 with 1 Axes>"
      ]
     },
     "metadata": {
      "needs_background": "light"
     },
     "output_type": "display_data"
    }
   ],
   "source": [
    "names = ['0','1']\n",
    "plt.bar(names, survive_df['Count'])\n",
    "plt.suptitle('Distribution of data by Survive')\n",
    "plt.show()"
   ]
  },
  {
   "cell_type": "markdown",
   "id": "3effc2fa",
   "metadata": {},
   "source": [
    "As there are more people who survived than those who did not in the dataset, the dataset is therefore, **imbalanced**.\n",
    "\n",
    "Now let's see the proportion of Survive and Not Survive patients in each of the features."
   ]
  },
  {
   "cell_type": "code",
   "execution_count": 21,
   "id": "a1b28c32",
   "metadata": {},
   "outputs": [
    {
     "data": {
      "text/html": [
       "<div>\n",
       "<style scoped>\n",
       "    .dataframe tbody tr th:only-of-type {\n",
       "        vertical-align: middle;\n",
       "    }\n",
       "\n",
       "    .dataframe tbody tr th {\n",
       "        vertical-align: top;\n",
       "    }\n",
       "\n",
       "    .dataframe thead th {\n",
       "        text-align: right;\n",
       "    }\n",
       "</style>\n",
       "<table border=\"1\" class=\"dataframe\">\n",
       "  <thead>\n",
       "    <tr style=\"text-align: right;\">\n",
       "      <th></th>\n",
       "      <th>AgeGroup</th>\n",
       "      <th>Count</th>\n",
       "    </tr>\n",
       "  </thead>\n",
       "  <tbody>\n",
       "    <tr>\n",
       "      <th>0</th>\n",
       "      <td>0.0</td>\n",
       "      <td>59</td>\n",
       "    </tr>\n",
       "    <tr>\n",
       "      <th>1</th>\n",
       "      <td>0.5</td>\n",
       "      <td>77</td>\n",
       "    </tr>\n",
       "    <tr>\n",
       "      <th>2</th>\n",
       "      <td>1.0</td>\n",
       "      <td>64</td>\n",
       "    </tr>\n",
       "  </tbody>\n",
       "</table>\n",
       "</div>"
      ],
      "text/plain": [
       "   AgeGroup  Count\n",
       "0       0.0     59\n",
       "1       0.5     77\n",
       "2       1.0     64"
      ]
     },
     "execution_count": 21,
     "metadata": {},
     "output_type": "execute_result"
    }
   ],
   "source": [
    "# AgeGroup Distribution\n",
    "sql_query = \"\"\"\n",
    "    SELECT AgeGroup, COUNT(AgeGroup) AS Count\n",
    "    FROM patients \n",
    "    GROUP BY AgeGroup;\n",
    "\"\"\"\n",
    "age_group_df = pd.read_sql(sql_query, conn)\n",
    "age_group_df"
   ]
  },
  {
   "cell_type": "code",
   "execution_count": 22,
   "id": "99629e58",
   "metadata": {},
   "outputs": [
    {
     "data": {
      "image/png": "[encoded data removed]",
      "text/plain": [
       "<Figure size 432x288 with 1 Axes>"
      ]
     },
     "metadata": {
      "needs_background": "light"
     },
     "output_type": "display_data"
    }
   ],
   "source": [
    "names = ['0','0.5','1']\n",
    "plt.bar(names, age_group_df['Count'])\n",
    "plt.suptitle('Distribution of data by AgeGroup')\n",
    "plt.show()"
   ]
  },
  {
   "cell_type": "markdown",
   "id": "28e67d80",
   "metadata": {},
   "source": [
    "The dataset contains quite a balanced distribution of patients from different AgeGroup."
   ]
  },
  {
   "cell_type": "code",
   "execution_count": 23,
   "id": "bb0152a9",
   "metadata": {},
   "outputs": [
    {
     "data": {
      "image/png": "[encoded data removed]",
      "text/plain": [
       "<Figure size 432x288 with 1 Axes>"
      ]
     },
     "metadata": {
      "needs_background": "light"
     },
     "output_type": "display_data"
    }
   ],
   "source": [
    "pal = sns.color_palette(\"Set1\")\n",
    "\n",
    "# creating a crosstab stacked bar chart variable\n",
    "chart = pd.crosstab(full_df['AgeGroup'],full_df['Survive'])\n",
    "\n",
    "# normalizing chart and plotting chart\n",
    "chart.div(chart.sum(1).astype(float), axis=0).plot(kind='bar', color = pal,stacked=True)\n",
    "plt.xlabel('Bins')\n",
    "plt.ylabel('Quantity')\n",
    "plt.title('Normalized Stacked Bar Chart: AgeGroup vs Survive')\n",
    "plt.show()"
   ]
  },
  {
   "cell_type": "markdown",
   "id": "2eb6edcb",
   "metadata": {},
   "source": [
    "The proportion of Survive patients **decreases** as the AgeGroup increases."
   ]
  },
  {
   "cell_type": "code",
   "execution_count": 24,
   "id": "49af42cd",
   "metadata": {},
   "outputs": [
    {
     "data": {
      "text/html": [
       "<div>\n",
       "<style scoped>\n",
       "    .dataframe tbody tr th:only-of-type {\n",
       "        vertical-align: middle;\n",
       "    }\n",
       "\n",
       "    .dataframe tbody tr th {\n",
       "        vertical-align: top;\n",
       "    }\n",
       "\n",
       "    .dataframe thead th {\n",
       "        text-align: right;\n",
       "    }\n",
       "</style>\n",
       "<table border=\"1\" class=\"dataframe\">\n",
       "  <thead>\n",
       "    <tr style=\"text-align: right;\">\n",
       "      <th></th>\n",
       "      <th>Sex</th>\n",
       "      <th>Count</th>\n",
       "    </tr>\n",
       "  </thead>\n",
       "  <tbody>\n",
       "    <tr>\n",
       "      <th>0</th>\n",
       "      <td>0.0</td>\n",
       "      <td>124</td>\n",
       "    </tr>\n",
       "    <tr>\n",
       "      <th>1</th>\n",
       "      <td>1.0</td>\n",
       "      <td>76</td>\n",
       "    </tr>\n",
       "  </tbody>\n",
       "</table>\n",
       "</div>"
      ],
      "text/plain": [
       "   Sex  Count\n",
       "0  0.0    124\n",
       "1  1.0     76"
      ]
     },
     "execution_count": 24,
     "metadata": {},
     "output_type": "execute_result"
    }
   ],
   "source": [
    "# Sex Distribution\n",
    "\n",
    "sql_query = \"\"\"\n",
    "    SELECT Sex, COUNT(Sex) AS Count\n",
    "    FROM patients \n",
    "    GROUP BY Sex;\n",
    "\"\"\"\n",
    "sex_df = pd.read_sql(sql_query, conn)\n",
    "sex_df"
   ]
  },
  {
   "cell_type": "code",
   "execution_count": 25,
   "id": "5ff27270",
   "metadata": {},
   "outputs": [
    {
     "data": {
      "image/png": "[encoded data removed]",
      "text/plain": [
       "<Figure size 432x288 with 1 Axes>"
      ]
     },
     "metadata": {
      "needs_background": "light"
     },
     "output_type": "display_data"
    }
   ],
   "source": [
    "names = ['0','1']\n",
    "plt.bar(names, sex_df['Count'])\n",
    "plt.suptitle('Distribution of data by Sex')\n",
    "plt.show()"
   ]
  },
  {
   "cell_type": "code",
   "execution_count": 26,
   "id": "a1808706",
   "metadata": {},
   "outputs": [
    {
     "data": {
      "image/png": "[encoded data removed]",
      "text/plain": [
       "<Figure size 432x288 with 1 Axes>"
      ]
     },
     "metadata": {
      "needs_background": "light"
     },
     "output_type": "display_data"
    }
   ],
   "source": [
    "pal = sns.color_palette(\"Set1\")\n",
    "\n",
    "# creating a crosstab stacked bar chart variable\n",
    "chart = pd.crosstab(full_df['Sex'],full_df['Survive'])\n",
    "\n",
    "# normalizing chart and plotting chart\n",
    "chart.div(chart.sum(1).astype(float), axis=0).plot(kind='bar', color = pal,stacked=True)\n",
    "plt.xlabel('Bins')\n",
    "plt.ylabel('Quantity')\n",
    "plt.title('Normalized Stacked Bar Chart: Sex vs Survive')\n",
    "plt.show()"
   ]
  },
  {
   "cell_type": "markdown",
   "id": "06dfb8bb",
   "metadata": {},
   "source": [
    "The proportion of Survive patients in both Sex groups is relatively the same."
   ]
  },
  {
   "cell_type": "code",
   "execution_count": 27,
   "id": "34a803ef",
   "metadata": {},
   "outputs": [
    {
     "data": {
      "text/html": [
       "<div>\n",
       "<style scoped>\n",
       "    .dataframe tbody tr th:only-of-type {\n",
       "        vertical-align: middle;\n",
       "    }\n",
       "\n",
       "    .dataframe tbody tr th {\n",
       "        vertical-align: top;\n",
       "    }\n",
       "\n",
       "    .dataframe thead th {\n",
       "        text-align: right;\n",
       "    }\n",
       "</style>\n",
       "<table border=\"1\" class=\"dataframe\">\n",
       "  <thead>\n",
       "    <tr style=\"text-align: right;\">\n",
       "      <th></th>\n",
       "      <th>Infection</th>\n",
       "      <th>Count</th>\n",
       "    </tr>\n",
       "  </thead>\n",
       "  <tbody>\n",
       "    <tr>\n",
       "      <th>0</th>\n",
       "      <td>0.0</td>\n",
       "      <td>116</td>\n",
       "    </tr>\n",
       "    <tr>\n",
       "      <th>1</th>\n",
       "      <td>1.0</td>\n",
       "      <td>84</td>\n",
       "    </tr>\n",
       "  </tbody>\n",
       "</table>\n",
       "</div>"
      ],
      "text/plain": [
       "   Infection  Count\n",
       "0        0.0    116\n",
       "1        1.0     84"
      ]
     },
     "execution_count": 27,
     "metadata": {},
     "output_type": "execute_result"
    }
   ],
   "source": [
    "# Infection Distribution\n",
    "\n",
    "sql_query = \"\"\"\n",
    "    SELECT Infection, COUNT(Infection) AS Count\n",
    "    FROM admissions \n",
    "    GROUP BY Infection;\n",
    "\"\"\"\n",
    "infectn_df = pd.read_sql(sql_query, conn)\n",
    "infectn_df"
   ]
  },
  {
   "cell_type": "code",
   "execution_count": 28,
   "id": "55133235",
   "metadata": {},
   "outputs": [
    {
     "data": {
      "image/png": "[encoded data removed]",
      "text/plain": [
       "<Figure size 432x288 with 1 Axes>"
      ]
     },
     "metadata": {
      "needs_background": "light"
     },
     "output_type": "display_data"
    }
   ],
   "source": [
    "names = ['0','1']\n",
    "plt.bar(names, infectn_df['Count'])\n",
    "plt.suptitle('Distribution of data by Infection')\n",
    "plt.show()"
   ]
  },
  {
   "cell_type": "code",
   "execution_count": 29,
   "id": "2d4d80d7",
   "metadata": {},
   "outputs": [
    {
     "data": {
      "image/png": "[encoded data removed]",
      "text/plain": [
       "<Figure size 432x288 with 1 Axes>"
      ]
     },
     "metadata": {
      "needs_background": "light"
     },
     "output_type": "display_data"
    }
   ],
   "source": [
    "pal = sns.color_palette(\"Set1\")\n",
    "\n",
    "# creating a crosstab stacked bar chart variable\n",
    "chart = pd.crosstab(full_df['Infection'],full_df['Survive'])\n",
    "\n",
    "# normalizing chart and plotting chart\n",
    "chart.div(chart.sum(1).astype(float), axis=0).plot(kind='bar', color = pal,stacked=True)\n",
    "plt.xlabel('Bins')\n",
    "plt.ylabel('Quantity')\n",
    "plt.title('Normalized Stacked Bar Chart: Infection vs Survive')\n",
    "plt.show()"
   ]
  },
  {
   "cell_type": "markdown",
   "id": "5e243e0c",
   "metadata": {},
   "source": [
    "We also see here that the proportion of Survive patients **decreases** as the Infection increases."
   ]
  },
  {
   "cell_type": "code",
   "execution_count": 30,
   "id": "f4317c93",
   "metadata": {},
   "outputs": [
    {
     "data": {
      "image/png": "[encoded data removed]",
      "text/plain": [
       "<Figure size 432x288 with 1 Axes>"
      ]
     },
     "metadata": {
      "needs_background": "light"
     },
     "output_type": "display_data"
    }
   ],
   "source": [
    "# SysBP\n",
    "\n",
    "df = full_df\n",
    "pal = sns.color_palette(\"Set1\")\n",
    "\n",
    "#creating new column in df with bin categories per feature\n",
    "df['SysBP_binned'] = pd.cut(df['SysBP'], 10)\n",
    "\n",
    "#creating a crosstab stacked bar chart variable\n",
    "chart = pd.crosstab(df['SysBP_binned'],df['Survive'])\n",
    "\n",
    "#normalizing chart and plotting chart\n",
    "chart.div(chart.sum(1).astype(float), axis=0).plot(kind='bar', color = pal,stacked=True)\n",
    "plt.xlabel('Bins')\n",
    "plt.ylabel('Quantity')\n",
    "plt.title('Normalized Stacked Bar Chart: SysBP vs Survive')\n",
    "plt.show()"
   ]
  },
  {
   "cell_type": "code",
   "execution_count": 31,
   "id": "6e3eece8",
   "metadata": {},
   "outputs": [
    {
     "data": {
      "image/png": "[encoded data removed]",
      "text/plain": [
       "<Figure size 432x288 with 1 Axes>"
      ]
     },
     "metadata": {
      "needs_background": "light"
     },
     "output_type": "display_data"
    }
   ],
   "source": [
    "# Pulse\n",
    "\n",
    "pal = sns.color_palette(\"Set1\")\n",
    "\n",
    "#creating new column in df with bin categories per feature\n",
    "df['Pulse_binned'] = pd.cut(df['Pulse'], 10)\n",
    "\n",
    "#creating a crosstab stacked bar chart variable\n",
    "chart = pd.crosstab(df['Pulse_binned'],df['Survive'])\n",
    "\n",
    "#normalizing chart and plotting chart\n",
    "chart.div(chart.sum(1).astype(float), axis=0).plot(kind='bar', color = pal,stacked=True)\n",
    "plt.xlabel('Bins')\n",
    "plt.ylabel('Quantity')\n",
    "plt.title('Normalized Stacked Bar Chart: Pulse vs Survive')\n",
    "plt.show()"
   ]
  },
  {
   "cell_type": "markdown",
   "id": "209f90cf",
   "metadata": {},
   "source": [
    "There seems to be no trend in Normalized Stacked Bar Chart of SysBP and Pulse vs Survive."
   ]
  },
  {
   "cell_type": "code",
   "execution_count": 32,
   "id": "688a1e7c",
   "metadata": {},
   "outputs": [
    {
     "data": {
      "text/html": [
       "<div>\n",
       "<style scoped>\n",
       "    .dataframe tbody tr th:only-of-type {\n",
       "        vertical-align: middle;\n",
       "    }\n",
       "\n",
       "    .dataframe tbody tr th {\n",
       "        vertical-align: top;\n",
       "    }\n",
       "\n",
       "    .dataframe thead th {\n",
       "        text-align: right;\n",
       "    }\n",
       "</style>\n",
       "<table border=\"1\" class=\"dataframe\">\n",
       "  <thead>\n",
       "    <tr style=\"text-align: right;\">\n",
       "      <th></th>\n",
       "      <th>Emergency</th>\n",
       "      <th>Count</th>\n",
       "    </tr>\n",
       "  </thead>\n",
       "  <tbody>\n",
       "    <tr>\n",
       "      <th>0</th>\n",
       "      <td>0.0</td>\n",
       "      <td>53</td>\n",
       "    </tr>\n",
       "    <tr>\n",
       "      <th>1</th>\n",
       "      <td>1.0</td>\n",
       "      <td>147</td>\n",
       "    </tr>\n",
       "  </tbody>\n",
       "</table>\n",
       "</div>"
      ],
      "text/plain": [
       "   Emergency  Count\n",
       "0        0.0     53\n",
       "1        1.0    147"
      ]
     },
     "execution_count": 32,
     "metadata": {},
     "output_type": "execute_result"
    }
   ],
   "source": [
    "# Emergency Distribution\n",
    "\n",
    "sql_query = \"\"\"\n",
    "    SELECT Emergency, COUNT(Emergency) AS Count\n",
    "    FROM admissions \n",
    "    GROUP BY Emergency;\n",
    "\"\"\"\n",
    "emrgncy_df = pd.read_sql(sql_query, conn)\n",
    "emrgncy_df"
   ]
  },
  {
   "cell_type": "code",
   "execution_count": 33,
   "id": "0b3be8ab",
   "metadata": {},
   "outputs": [
    {
     "data": {
      "image/png": "[encoded data removed]",
      "text/plain": [
       "<Figure size 432x288 with 1 Axes>"
      ]
     },
     "metadata": {
      "needs_background": "light"
     },
     "output_type": "display_data"
    }
   ],
   "source": [
    "names = ['0','1']\n",
    "plt.bar(names, emrgncy_df['Count'])\n",
    "plt.suptitle('Distribution of data by Emergency')\n",
    "plt.show()"
   ]
  },
  {
   "cell_type": "code",
   "execution_count": 34,
   "id": "3f05602f",
   "metadata": {
    "scrolled": true
   },
   "outputs": [
    {
     "data": {
      "image/png": "[encoded data removed]",
      "text/plain": [
       "<Figure size 432x288 with 1 Axes>"
      ]
     },
     "metadata": {
      "needs_background": "light"
     },
     "output_type": "display_data"
    }
   ],
   "source": [
    "pal = sns.color_palette(\"Set1\")\n",
    "\n",
    "# creating a crosstab stacked bar chart variable\n",
    "chart = pd.crosstab(full_df['Emergency'],full_df['Survive'])\n",
    "\n",
    "# normalizing chart and plotting chart\n",
    "chart.div(chart.sum(1).astype(float), axis=0).plot(kind='bar', color = pal,stacked=True)\n",
    "plt.xlabel('Bins')\n",
    "plt.ylabel('Quantity')\n",
    "plt.title('Normalized Stacked Bar Chart: Emergency vs Survive')\n",
    "plt.show()"
   ]
  },
  {
   "cell_type": "markdown",
   "id": "37b2b1b2",
   "metadata": {},
   "source": [
    "In summary, we can observe that the **number of Survive patients decrease** as **AgeGroup or Infection or Emergency increases**."
   ]
  },
  {
   "cell_type": "markdown",
   "id": "239588d4",
   "metadata": {},
   "source": [
    "## Feature Selection"
   ]
  },
  {
   "cell_type": "markdown",
   "id": "9becc2e0",
   "metadata": {},
   "source": [
    "To avoid overfitting, we use feature selection to filter out insignificant features. We will use 4 methods below and compare the resulting features all together."
   ]
  },
  {
   "cell_type": "code",
   "execution_count": 35,
   "id": "078d5d96",
   "metadata": {},
   "outputs": [],
   "source": [
    "feature_cols = ['Age','AgeGroup','Sex','Infection','SysBP','Pulse','Emergency']\n",
    "X = full_df[feature_cols]\n",
    "y = full_df.Survive"
   ]
  },
  {
   "cell_type": "code",
   "execution_count": 40,
   "id": "2bffab16",
   "metadata": {},
   "outputs": [
    {
     "name": "stdout",
     "output_type": "stream",
     "text": [
      "[0.25161609 0.06323777 0.04595198 0.04687219 0.28519063 0.24237733\n",
      " 0.06475403]\n"
     ]
    },
    {
     "data": {
      "image/png": "[encoded data removed]",
      "text/plain": [
       "<Figure size 432x288 with 1 Axes>"
      ]
     },
     "metadata": {
      "needs_background": "light"
     },
     "output_type": "display_data"
    },
    {
     "data": {
      "text/plain": [
       "['SysBP', 'Age', 'Pulse', 'Emergency', 'AgeGroup']"
      ]
     },
     "execution_count": 40,
     "metadata": {},
     "output_type": "execute_result"
    }
   ],
   "source": [
    "# Extra Tree Classifier\n",
    "from sklearn.ensemble import ExtraTreesClassifier\n",
    "\n",
    "model = ExtraTreesClassifier()\n",
    "model.fit(X, y)\n",
    "print(model.feature_importances_)\n",
    "\n",
    "feat_importances = pd.Series(model.feature_importances_, index=X.columns)\n",
    "feat_importances.nlargest(5).plot.bar()\n",
    "plt.show()\n",
    "\n",
    "etc_features = feat_importances.nlargest(5).keys().to_list()\n",
    "etc_features"
   ]
  },
  {
   "cell_type": "code",
   "execution_count": 39,
   "id": "4464a003",
   "metadata": {},
   "outputs": [
    {
     "data": {
      "text/plain": [
       "['Age', 'AgeGroup', 'Infection', 'SysBP', 'Emergency']"
      ]
     },
     "execution_count": 39,
     "metadata": {},
     "output_type": "execute_result"
    }
   ],
   "source": [
    "# Chi-square Test\n",
    "from sklearn.feature_selection import SelectKBest \n",
    "from sklearn.feature_selection import chi2 \n",
    "\n",
    "chi2_features = SelectKBest(chi2, k = 5) \n",
    "X_kbest_features = chi2_features.fit_transform(X, y)\n",
    "mask = chi2_features.get_support()\n",
    "new_feature = []\n",
    "for bool, feature in zip(mask,X.columns):\n",
    "    if bool:\n",
    "        new_feature.append(feature)\n",
    "chisq_features = new_feature\n",
    "chisq_features"
   ]
  },
  {
   "cell_type": "code",
   "execution_count": 41,
   "id": "0dde0418",
   "metadata": {},
   "outputs": [
    {
     "data": {
      "text/plain": [
       "['SysBP', 'Emergency', 'Survive']"
      ]
     },
     "execution_count": 41,
     "metadata": {},
     "output_type": "execute_result"
    }
   ],
   "source": [
    "# Pearson Correlation\n",
    "\n",
    "# Correlation with output variable\n",
    "corr = full_df.corr()\n",
    "cor_target = abs(corr[\"Survive\"])\n",
    "\n",
    "# Selecting highly correlated features\n",
    "relevant_features = cor_target[cor_target>0.2]\n",
    "pearson_features = relevant_features.keys().to_list()\n",
    "pearson_features"
   ]
  },
  {
   "cell_type": "code",
   "execution_count": 42,
   "id": "b3dff638",
   "metadata": {},
   "outputs": [
    {
     "data": {
      "text/html": [
       "<div>\n",
       "<style scoped>\n",
       "    .dataframe tbody tr th:only-of-type {\n",
       "        vertical-align: middle;\n",
       "    }\n",
       "\n",
       "    .dataframe tbody tr th {\n",
       "        vertical-align: top;\n",
       "    }\n",
       "\n",
       "    .dataframe thead th {\n",
       "        text-align: right;\n",
       "    }\n",
       "</style>\n",
       "<table border=\"1\" class=\"dataframe\">\n",
       "  <thead>\n",
       "    <tr style=\"text-align: right;\">\n",
       "      <th></th>\n",
       "      <th>SysBP</th>\n",
       "      <th>Emergency</th>\n",
       "    </tr>\n",
       "  </thead>\n",
       "  <tbody>\n",
       "    <tr>\n",
       "      <th>SysBP</th>\n",
       "      <td>1.000000</td>\n",
       "      <td>-0.184111</td>\n",
       "    </tr>\n",
       "    <tr>\n",
       "      <th>Emergency</th>\n",
       "      <td>-0.184111</td>\n",
       "      <td>1.000000</td>\n",
       "    </tr>\n",
       "  </tbody>\n",
       "</table>\n",
       "</div>"
      ],
      "text/plain": [
       "              SysBP  Emergency\n",
       "SysBP      1.000000  -0.184111\n",
       "Emergency -0.184111   1.000000"
      ]
     },
     "execution_count": 42,
     "metadata": {},
     "output_type": "execute_result"
    }
   ],
   "source": [
    "full_df[['SysBP','Emergency']].corr()"
   ]
  },
  {
   "cell_type": "code",
   "execution_count": 44,
   "id": "5c459678",
   "metadata": {},
   "outputs": [
    {
     "data": {
      "text/plain": [
       "['SysBP', 'Emergency']"
      ]
     },
     "execution_count": 44,
     "metadata": {},
     "output_type": "execute_result"
    }
   ],
   "source": [
    "pearson_features = pearson_features[0:2]  # exclude Survive as it is our target variable\n",
    "pearson_features"
   ]
  },
  {
   "cell_type": "code",
   "execution_count": 45,
   "id": "a00c9b5f",
   "metadata": {},
   "outputs": [
    {
     "name": "stdout",
     "output_type": "stream",
     "text": [
      "Optimization terminated successfully.\n",
      "         Current function value: 0.432487\n",
      "         Iterations 7\n",
      "                         Results: Logit\n",
      "=================================================================\n",
      "Model:              Logit            Pseudo R-squared: 0.136     \n",
      "Dependent Variable: Survive          AIC:              186.9947  \n",
      "Date:               2023-02-17 18:20 BIC:              210.0829  \n",
      "No. Observations:   200              Log-Likelihood:   -86.497   \n",
      "Df Model:           6                LL-Null:          -100.08   \n",
      "Df Residuals:       193              LLR p-value:      0.00013478\n",
      "Converged:          1.0000           Scale:            1.0000    \n",
      "No. Iterations:     7.0000                                       \n",
      "------------------------------------------------------------------\n",
      "               Coef.   Std.Err.     z     P>|z|    [0.025   0.975]\n",
      "------------------------------------------------------------------\n",
      "Age            1.1793    1.6308   0.7232  0.4696  -2.0170   4.3756\n",
      "AgeGroup      -1.9749    1.1602  -1.7022  0.0887  -4.2488   0.2991\n",
      "Sex            0.1558    0.3989   0.3906  0.6961  -0.6260   0.9376\n",
      "Infection     -0.4627    0.4220  -1.0965  0.2729  -1.2899   0.3644\n",
      "SysBP          5.2030    1.1393   4.5667  0.0000   2.9699   7.4360\n",
      "Pulse          2.3177    1.1379   2.0368  0.0417   0.0874   4.5480\n",
      "Emergency     -1.4044    0.5229  -2.6857  0.0072  -2.4292  -0.3795\n",
      "=================================================================\n",
      "\n"
     ]
    }
   ],
   "source": [
    "# Logit model\n",
    "import statsmodels.api as sm\n",
    "\n",
    "logit_model = sm.Logit(y,X)\n",
    "result = logit_model.fit()\n",
    "print(result.summary2())"
   ]
  },
  {
   "cell_type": "markdown",
   "id": "14613c90",
   "metadata": {},
   "source": [
    "The p-values are <0.05 for 4 features (**AgeGroup, SysBP, Pulse, Emergency**)"
   ]
  },
  {
   "cell_type": "code",
   "execution_count": 46,
   "id": "60fe21fe",
   "metadata": {},
   "outputs": [],
   "source": [
    "logit_features = ['AgeGroup','SysBP','Pulse','Emergency']"
   ]
  },
  {
   "cell_type": "code",
   "execution_count": 47,
   "id": "a60d0ac9",
   "metadata": {
    "scrolled": true
   },
   "outputs": [
    {
     "data": {
      "text/html": [
       "<div>\n",
       "<style scoped>\n",
       "    .dataframe tbody tr th:only-of-type {\n",
       "        vertical-align: middle;\n",
       "    }\n",
       "\n",
       "    .dataframe tbody tr th {\n",
       "        vertical-align: top;\n",
       "    }\n",
       "\n",
       "    .dataframe thead th {\n",
       "        text-align: right;\n",
       "    }\n",
       "</style>\n",
       "<table border=\"1\" class=\"dataframe\">\n",
       "  <thead>\n",
       "    <tr style=\"text-align: right;\">\n",
       "      <th></th>\n",
       "      <th>Name</th>\n",
       "      <th>Features</th>\n",
       "    </tr>\n",
       "  </thead>\n",
       "  <tbody>\n",
       "    <tr>\n",
       "      <th>0</th>\n",
       "      <td>Extra_Tree_Classifier</td>\n",
       "      <td>[SysBP, Age, Pulse, Emergency, AgeGroup]</td>\n",
       "    </tr>\n",
       "    <tr>\n",
       "      <th>1</th>\n",
       "      <td>Chi_Square</td>\n",
       "      <td>[Age, AgeGroup, Infection, SysBP, Emergency]</td>\n",
       "    </tr>\n",
       "    <tr>\n",
       "      <th>2</th>\n",
       "      <td>Pearson_Correlation</td>\n",
       "      <td>[SysBP, Emergency]</td>\n",
       "    </tr>\n",
       "    <tr>\n",
       "      <th>3</th>\n",
       "      <td>Logit_Model</td>\n",
       "      <td>[AgeGroup, SysBP, Pulse, Emergency]</td>\n",
       "    </tr>\n",
       "  </tbody>\n",
       "</table>\n",
       "</div>"
      ],
      "text/plain": [
       "                    Name                                      Features\n",
       "0  Extra_Tree_Classifier      [SysBP, Age, Pulse, Emergency, AgeGroup]\n",
       "1             Chi_Square  [Age, AgeGroup, Infection, SysBP, Emergency]\n",
       "2    Pearson_Correlation                            [SysBP, Emergency]\n",
       "3            Logit_Model           [AgeGroup, SysBP, Pulse, Emergency]"
      ]
     },
     "execution_count": 47,
     "metadata": {},
     "output_type": "execute_result"
    }
   ],
   "source": [
    "results = [etc_features, chisq_features, pearson_features, logit_features]\n",
    "methods = ['Extra_Tree_Classifier','Chi_Square','Pearson_Correlation','Logit_Model']\n",
    "feat_selectn = pd.DataFrame(list(zip(methods,results)),columns=['Name','Features'])\n",
    "feat_selectn"
   ]
  },
  {
   "cell_type": "markdown",
   "id": "515a6410",
   "metadata": {},
   "source": [
    "Combining the results from the 4 feature selection models, it seems that SysBP, Emergency, Pulse, Age, and AgeGroup are the important features. However, since Age and AgeGroup are highly correlated, we will only be using 1 of them and since AgeGroup appears more in the feature selection results, we will use feature AgeGroup instead of Age.\n",
    "\n",
    "The final list of features to be used is **SysBP, Emergency, Pulse, and AgeGroup**."
   ]
  },
  {
   "cell_type": "markdown",
   "id": "67dbc30b",
   "metadata": {},
   "source": [
    "## 1. Logistic Regression"
   ]
  },
  {
   "cell_type": "code",
   "execution_count": 48,
   "id": "f36df84a",
   "metadata": {},
   "outputs": [],
   "source": [
    "# Split dataset in features and target variable\n",
    "feature_cols = ['SysBP','Emergency','Pulse','AgeGroup']\n",
    "X = full_df[feature_cols] # Features\n",
    "y = full_df.Survive # Target variable"
   ]
  },
  {
   "cell_type": "code",
   "execution_count": 49,
   "id": "73b0ada1",
   "metadata": {},
   "outputs": [
    {
     "data": {
      "text/plain": [
       "((200, 4), (200,))"
      ]
     },
     "execution_count": 49,
     "metadata": {},
     "output_type": "execute_result"
    }
   ],
   "source": [
    "X.shape, y.shape"
   ]
  },
  {
   "cell_type": "code",
   "execution_count": 50,
   "id": "a4c67c44",
   "metadata": {},
   "outputs": [],
   "source": [
    "# Split X and y into training and testing sets\n",
    "from sklearn.model_selection import train_test_split\n",
    "\n",
    "X_train, X_test, y_train, y_test = train_test_split(X, y, test_size=0.2, random_state=13)"
   ]
  },
  {
   "cell_type": "code",
   "execution_count": 51,
   "id": "2bdb6f27",
   "metadata": {},
   "outputs": [
    {
     "data": {
      "text/plain": [
       "((160, 4), (40, 4), (160,), (40,))"
      ]
     },
     "execution_count": 51,
     "metadata": {},
     "output_type": "execute_result"
    }
   ],
   "source": [
    "X_train.shape, X_test.shape, y_train.shape, y_test.shape"
   ]
  },
  {
   "cell_type": "code",
   "execution_count": 52,
   "id": "c24f9a55",
   "metadata": {},
   "outputs": [],
   "source": [
    "from sklearn.linear_model import LogisticRegression\n",
    "\n",
    "logreg = LogisticRegression(penalty=None,solver='newton-cholesky',max_iter=1000,random_state=13)\n",
    "\n",
    "# Fit the model\n",
    "logreg.fit(X_train, y_train)\n",
    "\n",
    "y_pred = logreg.predict(X_test)"
   ]
  },
  {
   "cell_type": "code",
   "execution_count": 53,
   "id": "ae336c74",
   "metadata": {
    "scrolled": true
   },
   "outputs": [
    {
     "data": {
      "text/plain": [
       "array([1., 1., 1., 1., 1., 1., 1., 1., 1., 1., 1., 1., 1., 1., 1., 1., 1.,\n",
       "       1., 1., 1., 1., 1., 1., 1., 1., 1., 1., 1., 1., 0., 1., 1., 1., 1.,\n",
       "       1., 1., 1., 1., 1., 1.])"
      ]
     },
     "execution_count": 53,
     "metadata": {},
     "output_type": "execute_result"
    }
   ],
   "source": [
    "y_pred"
   ]
  },
  {
   "cell_type": "code",
   "execution_count": 69,
   "id": "c2bb2747",
   "metadata": {},
   "outputs": [],
   "source": [
    "from sklearn import metrics\n",
    "\n",
    "def gen_cnf_matrix_heatmap(cnf_matrix, class_names):\n",
    "    print(cnf_matrix)\n",
    "    fig, ax = plt.subplots()\n",
    "\n",
    "    # Create heatmap\n",
    "    sns.heatmap(pd.DataFrame(cnf_matrix), annot=True, cmap=\"YlGnBu\" ,fmt='g')\n",
    "    ax.set_xticklabels(class_names)\n",
    "    ax.set_yticklabels(class_names)\n",
    "    ax.xaxis.tick_top()\n",
    "    ax.xaxis.set_label_position(\"top\")\n",
    "    plt.tight_layout()\n",
    "    plt.title('Confusion matrix', y=1.1, pad=20)\n",
    "    plt.ylabel('Actual label')\n",
    "    plt.xlabel('Predicted label')\n",
    "    plt.show()"
   ]
  },
  {
   "cell_type": "code",
   "execution_count": 71,
   "id": "0ae06d1e",
   "metadata": {},
   "outputs": [
    {
     "name": "stdout",
     "output_type": "stream",
     "text": [
      "[[31  0]\n",
      " [ 8  1]]\n"
     ]
    },
    {
     "data": {
      "image/png": "[encoded data removed]",
      "text/plain": [
       "<Figure size 432x288 with 2 Axes>"
      ]
     },
     "metadata": {
      "needs_background": "light"
     },
     "output_type": "display_data"
    }
   ],
   "source": [
    "cnf_matrix = metrics.confusion_matrix(y_test, y_pred, labels=[1,0])\n",
    "class_names=[1,0]\n",
    "gen_cnf_matrix_heatmap(cnf_matrix, class_names)"
   ]
  },
  {
   "cell_type": "code",
   "execution_count": 55,
   "id": "2279da33",
   "metadata": {
    "scrolled": true
   },
   "outputs": [
    {
     "name": "stdout",
     "output_type": "stream",
     "text": [
      "              precision    recall  f1-score   support\n",
      "\n",
      " not survive       1.00      0.11      0.20         9\n",
      "     survive       0.79      1.00      0.89        31\n",
      "\n",
      "    accuracy                           0.80        40\n",
      "   macro avg       0.90      0.56      0.54        40\n",
      "weighted avg       0.84      0.80      0.73        40\n",
      "\n"
     ]
    }
   ],
   "source": [
    "from sklearn.metrics import classification_report\n",
    "target_names = ['not survive', 'survive']\n",
    "print(classification_report(y_test, y_pred, target_names=target_names))"
   ]
  },
  {
   "cell_type": "markdown",
   "id": "f7ea26fc",
   "metadata": {},
   "source": [
    "We get a pretty high **accuracy** rate of 80%.\n",
    "\n",
    "In this case, however, metrics that we should pay more attention to are the number of False Positive cases (not survive but predicted survive) and recall. The **recall** for Not Survive patients is only 11%, which means that among the patients who do not survive in the test set, the model can only identify 11% of them."
   ]
  },
  {
   "cell_type": "code",
   "execution_count": 56,
   "id": "5c65993d",
   "metadata": {},
   "outputs": [
    {
     "data": {
      "image/png": "[encoded data removed]",
      "text/plain": [
       "<Figure size 432x288 with 1 Axes>"
      ]
     },
     "metadata": {
      "needs_background": "light"
     },
     "output_type": "display_data"
    }
   ],
   "source": [
    "# ROC Classifier\n",
    "\n",
    "y_pred_prob = logreg.predict_proba(X_test)[::,1]\n",
    "fpr, tpr, _ = metrics.roc_curve(y_test,  y_pred_prob)\n",
    "auc = metrics.roc_auc_score(y_test, y_pred_prob)\n",
    "plt.plot(fpr, tpr, label=\"data 1, auc=\"+str(auc))\n",
    "plt.legend(loc=4)\n",
    "plt.show()"
   ]
  },
  {
   "cell_type": "markdown",
   "id": "576ac1db",
   "metadata": {},
   "source": [
    "The AUC score for this classifier is 85% which implies that it is a pretty good classifier."
   ]
  },
  {
   "cell_type": "markdown",
   "id": "9db18bdc",
   "metadata": {},
   "source": [
    "## 2. Decision Tree"
   ]
  },
  {
   "cell_type": "markdown",
   "id": "affe75c0",
   "metadata": {},
   "source": [
    "Decision Tree is sensitive towards imbalanced dataset, and since our dataset is imbalanced, a decision tree model alone is not enough to make a good prediction model. Nonetheless, we'll first check the model performance using the imbalanced data directly to give us a baseline to compare the model performance later on."
   ]
  },
  {
   "cell_type": "code",
   "execution_count": 57,
   "id": "1e2be5d2",
   "metadata": {},
   "outputs": [],
   "source": [
    "from sklearn.tree import DecisionTreeClassifier\n",
    "\n",
    "dt = DecisionTreeClassifier(random_state=13)\n",
    "\n",
    "# Fit the data\n",
    "dt = dt.fit(X_train,y_train)\n",
    "\n",
    "y_pred_dt = dt.predict(X_test)"
   ]
  },
  {
   "cell_type": "code",
   "execution_count": 58,
   "id": "966e720c",
   "metadata": {},
   "outputs": [
    {
     "name": "stdout",
     "output_type": "stream",
     "text": [
      "Accuracy: 0.65\n"
     ]
    }
   ],
   "source": [
    "print(\"Accuracy:\",metrics.accuracy_score(y_test, y_pred_dt))"
   ]
  },
  {
   "cell_type": "markdown",
   "id": "5811a910",
   "metadata": {},
   "source": [
    "Now we will optimise the model by picking out the best set of parameters (criterion x max_depth). We also add a class_weight of *'balanced'* to tackle the imbalanced dataset issue."
   ]
  },
  {
   "cell_type": "code",
   "execution_count": 59,
   "id": "116e923a",
   "metadata": {},
   "outputs": [
    {
     "name": "stdout",
     "output_type": "stream",
     "text": [
      "Accuracy for criterion  gini  and max_depth  1 : 0.475\n",
      "Accuracy for criterion  gini  and max_depth  2 : 0.525\n",
      "Accuracy for criterion  gini  and max_depth  3 : 0.75\n",
      "Accuracy for criterion  gini  and max_depth  4 : 0.625\n",
      "Accuracy for criterion  gini  and max_depth  5 : 0.675\n",
      "Accuracy for criterion  gini  and max_depth  6 : 0.625\n",
      "Accuracy for criterion  gini  and max_depth  7 : 0.65\n",
      "Accuracy for criterion  gini  and max_depth  8 : 0.675\n",
      "Accuracy for criterion  gini  and max_depth  9 : 0.625\n",
      "Accuracy for criterion  gini  and max_depth  10 : 0.675\n",
      "Accuracy for criterion  gini  and max_depth  11 : 0.65\n",
      "Accuracy for criterion  gini  and max_depth  12 : 0.725\n",
      "Accuracy for criterion  gini  and max_depth  13 : 0.725\n",
      "Accuracy for criterion  gini  and max_depth  14 : 0.725\n",
      "Accuracy for criterion  gini  and max_depth  15 : 0.725\n",
      "Accuracy for criterion  gini  and max_depth  16 : 0.725\n",
      "Accuracy for criterion  gini  and max_depth  17 : 0.725\n",
      "Accuracy for criterion  gini  and max_depth  18 : 0.725\n",
      "Accuracy for criterion  gini  and max_depth  19 : 0.725\n",
      "Accuracy for criterion  gini  and max_depth  20 : 0.725\n",
      "Accuracy for criterion  gini  and max_depth  21 : 0.725\n",
      "Accuracy for criterion  gini  and max_depth  22 : 0.725\n",
      "Accuracy for criterion  gini  and max_depth  23 : 0.725\n",
      "Accuracy for criterion  gini  and max_depth  24 : 0.725\n",
      "Accuracy for criterion  gini  and max_depth  25 : 0.725\n",
      "Accuracy for criterion  gini  and max_depth  26 : 0.725\n",
      "Accuracy for criterion  gini  and max_depth  27 : 0.725\n",
      "Accuracy for criterion  gini  and max_depth  28 : 0.725\n",
      "Accuracy for criterion  gini  and max_depth  29 : 0.725\n",
      "Accuracy for criterion  gini  and max_depth  30 : 0.725\n",
      "Accuracy for criterion  gini  and max_depth  31 : 0.725\n",
      "Accuracy for criterion  gini  and max_depth  32 : 0.725\n",
      "Accuracy for criterion  gini  and max_depth  33 : 0.725\n",
      "Accuracy for criterion  gini  and max_depth  34 : 0.725\n",
      "Accuracy for criterion  gini  and max_depth  35 : 0.725\n",
      "Accuracy for criterion  gini  and max_depth  36 : 0.725\n",
      "Accuracy for criterion  gini  and max_depth  37 : 0.725\n",
      "Accuracy for criterion  gini  and max_depth  38 : 0.725\n",
      "Accuracy for criterion  gini  and max_depth  39 : 0.725\n",
      "Accuracy for criterion  gini  and max_depth  40 : 0.725\n",
      "Accuracy for criterion  gini  and max_depth  41 : 0.725\n",
      "Accuracy for criterion  gini  and max_depth  42 : 0.725\n",
      "Accuracy for criterion  gini  and max_depth  43 : 0.725\n",
      "Accuracy for criterion  gini  and max_depth  44 : 0.725\n",
      "Accuracy for criterion  gini  and max_depth  45 : 0.725\n",
      "Accuracy for criterion  gini  and max_depth  46 : 0.725\n",
      "Accuracy for criterion  gini  and max_depth  47 : 0.725\n",
      "Accuracy for criterion  gini  and max_depth  48 : 0.725\n",
      "Accuracy for criterion  gini  and max_depth  49 : 0.725\n",
      "Accuracy for criterion  gini  and max_depth  50 : 0.725\n",
      "Accuracy for criterion  gini  and max_depth  51 : 0.725\n",
      "Accuracy for criterion  gini  and max_depth  52 : 0.725\n",
      "Accuracy for criterion  gini  and max_depth  53 : 0.725\n",
      "Accuracy for criterion  gini  and max_depth  54 : 0.725\n",
      "Accuracy for criterion  gini  and max_depth  55 : 0.725\n",
      "Accuracy for criterion  gini  and max_depth  56 : 0.725\n",
      "Accuracy for criterion  gini  and max_depth  57 : 0.725\n",
      "Accuracy for criterion  gini  and max_depth  58 : 0.725\n",
      "Accuracy for criterion  gini  and max_depth  59 : 0.725\n",
      "Accuracy for criterion  gini  and max_depth  60 : 0.725\n",
      "Accuracy for criterion  gini  and max_depth  61 : 0.725\n",
      "Accuracy for criterion  gini  and max_depth  62 : 0.725\n",
      "Accuracy for criterion  gini  and max_depth  63 : 0.725\n",
      "Accuracy for criterion  gini  and max_depth  64 : 0.725\n",
      "Accuracy for criterion  gini  and max_depth  65 : 0.725\n",
      "Accuracy for criterion  gini  and max_depth  66 : 0.725\n",
      "Accuracy for criterion  gini  and max_depth  67 : 0.725\n",
      "Accuracy for criterion  gini  and max_depth  68 : 0.725\n",
      "Accuracy for criterion  gini  and max_depth  69 : 0.725\n",
      "Accuracy for criterion  gini  and max_depth  70 : 0.725\n",
      "Accuracy for criterion  gini  and max_depth  71 : 0.725\n",
      "Accuracy for criterion  gini  and max_depth  72 : 0.725\n",
      "Accuracy for criterion  gini  and max_depth  73 : 0.725\n",
      "Accuracy for criterion  gini  and max_depth  74 : 0.725\n",
      "Accuracy for criterion  gini  and max_depth  75 : 0.725\n",
      "Accuracy for criterion  gini  and max_depth  76 : 0.725\n",
      "Accuracy for criterion  gini  and max_depth  77 : 0.725\n",
      "Accuracy for criterion  gini  and max_depth  78 : 0.725\n",
      "Accuracy for criterion  gini  and max_depth  79 : 0.725\n",
      "Accuracy for criterion  gini  and max_depth  80 : 0.725\n",
      "Accuracy for criterion  gini  and max_depth  81 : 0.725\n",
      "Accuracy for criterion  gini  and max_depth  82 : 0.725\n",
      "Accuracy for criterion  gini  and max_depth  83 : 0.725\n",
      "Accuracy for criterion  gini  and max_depth  84 : 0.725\n",
      "Accuracy for criterion  gini  and max_depth  85 : 0.725\n",
      "Accuracy for criterion  gini  and max_depth  86 : 0.725\n",
      "Accuracy for criterion  gini  and max_depth  87 : 0.725\n",
      "Accuracy for criterion  gini  and max_depth  88 : 0.725\n",
      "Accuracy for criterion  gini  and max_depth  89 : 0.725\n",
      "Accuracy for criterion  gini  and max_depth  90 : 0.725\n",
      "Accuracy for criterion  gini  and max_depth  91 : 0.725\n",
      "Accuracy for criterion  gini  and max_depth  92 : 0.725\n",
      "Accuracy for criterion  gini  and max_depth  93 : 0.725\n",
      "Accuracy for criterion  gini  and max_depth  94 : 0.725\n",
      "Accuracy for criterion  gini  and max_depth  95 : 0.725\n",
      "Accuracy for criterion  gini  and max_depth  96 : 0.725\n",
      "Accuracy for criterion  gini  and max_depth  97 : 0.725\n",
      "Accuracy for criterion  gini  and max_depth  98 : 0.725\n",
      "Accuracy for criterion  gini  and max_depth  99 : 0.725\n",
      "Accuracy for criterion  gini  and max_depth  100 : 0.725\n",
      "Accuracy for criterion  gini  and max_depth  101 : 0.725\n",
      "Accuracy for criterion  gini  and max_depth  102 : 0.725\n",
      "Accuracy for criterion  gini  and max_depth  103 : 0.725\n",
      "Accuracy for criterion  gini  and max_depth  104 : 0.725\n",
      "Accuracy for criterion  gini  and max_depth  105 : 0.725\n",
      "Accuracy for criterion  gini  and max_depth  106 : 0.725\n",
      "Accuracy for criterion  gini  and max_depth  107 : 0.725\n",
      "Accuracy for criterion  gini  and max_depth  108 : 0.725\n",
      "Accuracy for criterion  gini  and max_depth  109 : 0.725\n",
      "Accuracy for criterion  gini  and max_depth  110 : 0.725\n",
      "Accuracy for criterion  gini  and max_depth  111 : 0.725\n",
      "Accuracy for criterion  gini  and max_depth  112 : 0.725\n",
      "Accuracy for criterion  gini  and max_depth  113 : 0.725\n",
      "Accuracy for criterion  gini  and max_depth  114 : 0.725\n",
      "Accuracy for criterion  gini  and max_depth  115 : 0.725\n",
      "Accuracy for criterion  gini  and max_depth  116 : 0.725\n",
      "Accuracy for criterion  gini  and max_depth  117 : 0.725\n",
      "Accuracy for criterion  gini  and max_depth  118 : 0.725\n",
      "Accuracy for criterion  gini  and max_depth  119 : 0.725\n",
      "Accuracy for criterion  gini  and max_depth  120 : 0.725\n",
      "Accuracy for criterion  gini  and max_depth  121 : 0.725\n",
      "Accuracy for criterion  gini  and max_depth  122 : 0.725\n",
      "Accuracy for criterion  gini  and max_depth  123 : 0.725\n",
      "Accuracy for criterion  gini  and max_depth  124 : 0.725\n",
      "Accuracy for criterion  gini  and max_depth  125 : 0.725\n",
      "Accuracy for criterion  gini  and max_depth  126 : 0.725\n",
      "Accuracy for criterion  gini  and max_depth  127 : 0.725\n",
      "Accuracy for criterion  gini  and max_depth  128 : 0.725\n",
      "Accuracy for criterion  gini  and max_depth  129 : 0.725\n",
      "Accuracy for criterion  gini  and max_depth  130 : 0.725\n",
      "Accuracy for criterion  gini  and max_depth  131 : 0.725\n",
      "Accuracy for criterion  gini  and max_depth  132 : 0.725\n",
      "Accuracy for criterion  gini  and max_depth  133 : 0.725\n",
      "Accuracy for criterion  gini  and max_depth  134 : 0.725\n",
      "Accuracy for criterion  gini  and max_depth  135 : 0.725\n",
      "Accuracy for criterion  gini  and max_depth  136 : 0.725\n",
      "Accuracy for criterion  gini  and max_depth  137 : 0.725\n",
      "Accuracy for criterion  gini  and max_depth  138 : 0.725\n",
      "Accuracy for criterion  gini  and max_depth  139 : 0.725\n",
      "Accuracy for criterion  gini  and max_depth  140 : 0.725\n",
      "Accuracy for criterion  gini  and max_depth  141 : 0.725\n",
      "Accuracy for criterion  gini  and max_depth  142 : 0.725\n",
      "Accuracy for criterion  gini  and max_depth  143 : 0.725\n",
      "Accuracy for criterion  gini  and max_depth  144 : 0.725\n",
      "Accuracy for criterion  gini  and max_depth  145 : 0.725\n",
      "Accuracy for criterion  gini  and max_depth  146 : 0.725\n",
      "Accuracy for criterion  gini  and max_depth  147 : 0.725\n",
      "Accuracy for criterion  gini  and max_depth  148 : 0.725\n",
      "Accuracy for criterion  gini  and max_depth  149 : 0.725\n",
      "Accuracy for criterion  gini  and max_depth  150 : 0.725\n",
      "Accuracy for criterion  gini  and max_depth  151 : 0.725\n",
      "Accuracy for criterion  gini  and max_depth  152 : 0.725\n",
      "Accuracy for criterion  gini  and max_depth  153 : 0.725\n",
      "Accuracy for criterion  gini  and max_depth  154 : 0.725\n",
      "Accuracy for criterion  gini  and max_depth  155 : 0.725\n",
      "Accuracy for criterion  gini  and max_depth  156 : 0.725\n",
      "Accuracy for criterion  gini  and max_depth  157 : 0.725\n",
      "Accuracy for criterion  gini  and max_depth  158 : 0.725\n",
      "Accuracy for criterion  gini  and max_depth  159 : 0.725\n",
      "Accuracy for criterion  entropy  and max_depth  1 : 0.475\n",
      "Accuracy for criterion  entropy  and max_depth  2 : 0.525\n",
      "Accuracy for criterion  entropy  and max_depth  3 : 0.75\n",
      "Accuracy for criterion  entropy  and max_depth  4 : 0.625\n",
      "Accuracy for criterion  entropy  and max_depth  5 : 0.675\n",
      "Accuracy for criterion  entropy  and max_depth  6 : 0.625\n",
      "Accuracy for criterion  entropy  and max_depth  7 : 0.675\n",
      "Accuracy for criterion  entropy  and max_depth  8 : 0.7\n",
      "Accuracy for criterion  entropy  and max_depth  9 : 0.7\n",
      "Accuracy for criterion  entropy  and max_depth  10 : 0.675\n",
      "Accuracy for criterion  entropy  and max_depth  11 : 0.65\n",
      "Accuracy for criterion  entropy  and max_depth  12 : 0.675\n",
      "Accuracy for criterion  entropy  and max_depth  13 : 0.675\n",
      "Accuracy for criterion  entropy  and max_depth  14 : 0.625\n",
      "Accuracy for criterion  entropy  and max_depth  15 : 0.625\n",
      "Accuracy for criterion  entropy  and max_depth  16 : 0.65\n",
      "Accuracy for criterion  entropy  and max_depth  17 : 0.65\n",
      "Accuracy for criterion  entropy  and max_depth  18 : 0.65\n",
      "Accuracy for criterion  entropy  and max_depth  19 : 0.65\n",
      "Accuracy for criterion  entropy  and max_depth  20 : 0.65\n",
      "Accuracy for criterion  entropy  and max_depth  21 : 0.65\n",
      "Accuracy for criterion  entropy  and max_depth  22 : 0.65\n",
      "Accuracy for criterion  entropy  and max_depth  23 : 0.65\n",
      "Accuracy for criterion  entropy  and max_depth  24 : 0.65\n"
     ]
    },
    {
     "name": "stdout",
     "output_type": "stream",
     "text": [
      "Accuracy for criterion  entropy  and max_depth  25 : 0.65\n",
      "Accuracy for criterion  entropy  and max_depth  26 : 0.65\n",
      "Accuracy for criterion  entropy  and max_depth  27 : 0.65\n",
      "Accuracy for criterion  entropy  and max_depth  28 : 0.65\n",
      "Accuracy for criterion  entropy  and max_depth  29 : 0.65\n",
      "Accuracy for criterion  entropy  and max_depth  30 : 0.65\n",
      "Accuracy for criterion  entropy  and max_depth  31 : 0.65\n",
      "Accuracy for criterion  entropy  and max_depth  32 : 0.65\n",
      "Accuracy for criterion  entropy  and max_depth  33 : 0.65\n",
      "Accuracy for criterion  entropy  and max_depth  34 : 0.65\n",
      "Accuracy for criterion  entropy  and max_depth  35 : 0.65\n",
      "Accuracy for criterion  entropy  and max_depth  36 : 0.65\n",
      "Accuracy for criterion  entropy  and max_depth  37 : 0.65\n",
      "Accuracy for criterion  entropy  and max_depth  38 : 0.65\n",
      "Accuracy for criterion  entropy  and max_depth  39 : 0.65\n",
      "Accuracy for criterion  entropy  and max_depth  40 : 0.65\n",
      "Accuracy for criterion  entropy  and max_depth  41 : 0.65\n",
      "Accuracy for criterion  entropy  and max_depth  42 : 0.65\n",
      "Accuracy for criterion  entropy  and max_depth  43 : 0.65\n",
      "Accuracy for criterion  entropy  and max_depth  44 : 0.65\n",
      "Accuracy for criterion  entropy  and max_depth  45 : 0.65\n",
      "Accuracy for criterion  entropy  and max_depth  46 : 0.65\n",
      "Accuracy for criterion  entropy  and max_depth  47 : 0.65\n",
      "Accuracy for criterion  entropy  and max_depth  48 : 0.65\n",
      "Accuracy for criterion  entropy  and max_depth  49 : 0.65\n",
      "Accuracy for criterion  entropy  and max_depth  50 : 0.65\n",
      "Accuracy for criterion  entropy  and max_depth  51 : 0.65\n",
      "Accuracy for criterion  entropy  and max_depth  52 : 0.65\n",
      "Accuracy for criterion  entropy  and max_depth  53 : 0.65\n",
      "Accuracy for criterion  entropy  and max_depth  54 : 0.65\n",
      "Accuracy for criterion  entropy  and max_depth  55 : 0.65\n",
      "Accuracy for criterion  entropy  and max_depth  56 : 0.65\n",
      "Accuracy for criterion  entropy  and max_depth  57 : 0.65\n",
      "Accuracy for criterion  entropy  and max_depth  58 : 0.65\n",
      "Accuracy for criterion  entropy  and max_depth  59 : 0.65\n",
      "Accuracy for criterion  entropy  and max_depth  60 : 0.65\n",
      "Accuracy for criterion  entropy  and max_depth  61 : 0.65\n",
      "Accuracy for criterion  entropy  and max_depth  62 : 0.65\n",
      "Accuracy for criterion  entropy  and max_depth  63 : 0.65\n",
      "Accuracy for criterion  entropy  and max_depth  64 : 0.65\n",
      "Accuracy for criterion  entropy  and max_depth  65 : 0.65\n",
      "Accuracy for criterion  entropy  and max_depth  66 : 0.65\n",
      "Accuracy for criterion  entropy  and max_depth  67 : 0.65\n",
      "Accuracy for criterion  entropy  and max_depth  68 : 0.65\n",
      "Accuracy for criterion  entropy  and max_depth  69 : 0.65\n",
      "Accuracy for criterion  entropy  and max_depth  70 : 0.65\n",
      "Accuracy for criterion  entropy  and max_depth  71 : 0.65\n",
      "Accuracy for criterion  entropy  and max_depth  72 : 0.65\n",
      "Accuracy for criterion  entropy  and max_depth  73 : 0.65\n",
      "Accuracy for criterion  entropy  and max_depth  74 : 0.65\n",
      "Accuracy for criterion  entropy  and max_depth  75 : 0.65\n",
      "Accuracy for criterion  entropy  and max_depth  76 : 0.65\n",
      "Accuracy for criterion  entropy  and max_depth  77 : 0.65\n",
      "Accuracy for criterion  entropy  and max_depth  78 : 0.65\n",
      "Accuracy for criterion  entropy  and max_depth  79 : 0.65\n",
      "Accuracy for criterion  entropy  and max_depth  80 : 0.65\n",
      "Accuracy for criterion  entropy  and max_depth  81 : 0.65\n",
      "Accuracy for criterion  entropy  and max_depth  82 : 0.65\n",
      "Accuracy for criterion  entropy  and max_depth  83 : 0.65\n",
      "Accuracy for criterion  entropy  and max_depth  84 : 0.65\n",
      "Accuracy for criterion  entropy  and max_depth  85 : 0.65\n",
      "Accuracy for criterion  entropy  and max_depth  86 : 0.65\n",
      "Accuracy for criterion  entropy  and max_depth  87 : 0.65\n",
      "Accuracy for criterion  entropy  and max_depth  88 : 0.65\n",
      "Accuracy for criterion  entropy  and max_depth  89 : 0.65\n",
      "Accuracy for criterion  entropy  and max_depth  90 : 0.65\n",
      "Accuracy for criterion  entropy  and max_depth  91 : 0.65\n",
      "Accuracy for criterion  entropy  and max_depth  92 : 0.65\n",
      "Accuracy for criterion  entropy  and max_depth  93 : 0.65\n",
      "Accuracy for criterion  entropy  and max_depth  94 : 0.65\n",
      "Accuracy for criterion  entropy  and max_depth  95 : 0.65\n",
      "Accuracy for criterion  entropy  and max_depth  96 : 0.65\n",
      "Accuracy for criterion  entropy  and max_depth  97 : 0.65\n",
      "Accuracy for criterion  entropy  and max_depth  98 : 0.65\n",
      "Accuracy for criterion  entropy  and max_depth  99 : 0.65\n",
      "Accuracy for criterion  entropy  and max_depth  100 : 0.65\n",
      "Accuracy for criterion  entropy  and max_depth  101 : 0.65\n",
      "Accuracy for criterion  entropy  and max_depth  102 : 0.65\n",
      "Accuracy for criterion  entropy  and max_depth  103 : 0.65\n",
      "Accuracy for criterion  entropy  and max_depth  104 : 0.65\n",
      "Accuracy for criterion  entropy  and max_depth  105 : 0.65\n",
      "Accuracy for criterion  entropy  and max_depth  106 : 0.65\n",
      "Accuracy for criterion  entropy  and max_depth  107 : 0.65\n",
      "Accuracy for criterion  entropy  and max_depth  108 : 0.65\n",
      "Accuracy for criterion  entropy  and max_depth  109 : 0.65\n",
      "Accuracy for criterion  entropy  and max_depth  110 : 0.65\n",
      "Accuracy for criterion  entropy  and max_depth  111 : 0.65\n",
      "Accuracy for criterion  entropy  and max_depth  112 : 0.65\n",
      "Accuracy for criterion  entropy  and max_depth  113 : 0.65\n",
      "Accuracy for criterion  entropy  and max_depth  114 : 0.65\n",
      "Accuracy for criterion  entropy  and max_depth  115 : 0.65\n",
      "Accuracy for criterion  entropy  and max_depth  116 : 0.65\n",
      "Accuracy for criterion  entropy  and max_depth  117 : 0.65\n",
      "Accuracy for criterion  entropy  and max_depth  118 : 0.65\n",
      "Accuracy for criterion  entropy  and max_depth  119 : 0.65\n",
      "Accuracy for criterion  entropy  and max_depth  120 : 0.65\n",
      "Accuracy for criterion  entropy  and max_depth  121 : 0.65\n",
      "Accuracy for criterion  entropy  and max_depth  122 : 0.65\n",
      "Accuracy for criterion  entropy  and max_depth  123 : 0.65\n",
      "Accuracy for criterion  entropy  and max_depth  124 : 0.65\n",
      "Accuracy for criterion  entropy  and max_depth  125 : 0.65\n",
      "Accuracy for criterion  entropy  and max_depth  126 : 0.65\n",
      "Accuracy for criterion  entropy  and max_depth  127 : 0.65\n",
      "Accuracy for criterion  entropy  and max_depth  128 : 0.65\n",
      "Accuracy for criterion  entropy  and max_depth  129 : 0.65\n",
      "Accuracy for criterion  entropy  and max_depth  130 : 0.65\n",
      "Accuracy for criterion  entropy  and max_depth  131 : 0.65\n",
      "Accuracy for criterion  entropy  and max_depth  132 : 0.65\n",
      "Accuracy for criterion  entropy  and max_depth  133 : 0.65\n",
      "Accuracy for criterion  entropy  and max_depth  134 : 0.65\n",
      "Accuracy for criterion  entropy  and max_depth  135 : 0.65\n",
      "Accuracy for criterion  entropy  and max_depth  136 : 0.65\n",
      "Accuracy for criterion  entropy  and max_depth  137 : 0.65\n",
      "Accuracy for criterion  entropy  and max_depth  138 : 0.65\n",
      "Accuracy for criterion  entropy  and max_depth  139 : 0.65\n",
      "Accuracy for criterion  entropy  and max_depth  140 : 0.65\n",
      "Accuracy for criterion  entropy  and max_depth  141 : 0.65\n",
      "Accuracy for criterion  entropy  and max_depth  142 : 0.65\n",
      "Accuracy for criterion  entropy  and max_depth  143 : 0.65\n",
      "Accuracy for criterion  entropy  and max_depth  144 : 0.65\n",
      "Accuracy for criterion  entropy  and max_depth  145 : 0.65\n",
      "Accuracy for criterion  entropy  and max_depth  146 : 0.65\n",
      "Accuracy for criterion  entropy  and max_depth  147 : 0.65\n",
      "Accuracy for criterion  entropy  and max_depth  148 : 0.65\n",
      "Accuracy for criterion  entropy  and max_depth  149 : 0.65\n",
      "Accuracy for criterion  entropy  and max_depth  150 : 0.65\n",
      "Accuracy for criterion  entropy  and max_depth  151 : 0.65\n",
      "Accuracy for criterion  entropy  and max_depth  152 : 0.65\n",
      "Accuracy for criterion  entropy  and max_depth  153 : 0.65\n",
      "Accuracy for criterion  entropy  and max_depth  154 : 0.65\n",
      "Accuracy for criterion  entropy  and max_depth  155 : 0.65\n",
      "Accuracy for criterion  entropy  and max_depth  156 : 0.65\n",
      "Accuracy for criterion  entropy  and max_depth  157 : 0.65\n",
      "Accuracy for criterion  entropy  and max_depth  158 : 0.65\n",
      "Accuracy for criterion  entropy  and max_depth  159 : 0.65\n",
      "Accuracy for criterion  log_loss  and max_depth  1 : 0.475\n",
      "Accuracy for criterion  log_loss  and max_depth  2 : 0.525\n",
      "Accuracy for criterion  log_loss  and max_depth  3 : 0.75\n",
      "Accuracy for criterion  log_loss  and max_depth  4 : 0.625\n",
      "Accuracy for criterion  log_loss  and max_depth  5 : 0.675\n",
      "Accuracy for criterion  log_loss  and max_depth  6 : 0.625\n",
      "Accuracy for criterion  log_loss  and max_depth  7 : 0.675\n",
      "Accuracy for criterion  log_loss  and max_depth  8 : 0.7\n",
      "Accuracy for criterion  log_loss  and max_depth  9 : 0.7\n",
      "Accuracy for criterion  log_loss  and max_depth  10 : 0.675\n",
      "Accuracy for criterion  log_loss  and max_depth  11 : 0.65\n",
      "Accuracy for criterion  log_loss  and max_depth  12 : 0.675\n",
      "Accuracy for criterion  log_loss  and max_depth  13 : 0.675\n",
      "Accuracy for criterion  log_loss  and max_depth  14 : 0.625\n",
      "Accuracy for criterion  log_loss  and max_depth  15 : 0.625\n",
      "Accuracy for criterion  log_loss  and max_depth  16 : 0.65\n",
      "Accuracy for criterion  log_loss  and max_depth  17 : 0.65\n",
      "Accuracy for criterion  log_loss  and max_depth  18 : 0.65\n",
      "Accuracy for criterion  log_loss  and max_depth  19 : 0.65\n",
      "Accuracy for criterion  log_loss  and max_depth  20 : 0.65\n",
      "Accuracy for criterion  log_loss  and max_depth  21 : 0.65\n",
      "Accuracy for criterion  log_loss  and max_depth  22 : 0.65\n",
      "Accuracy for criterion  log_loss  and max_depth  23 : 0.65\n",
      "Accuracy for criterion  log_loss  and max_depth  24 : 0.65\n",
      "Accuracy for criterion  log_loss  and max_depth  25 : 0.65\n",
      "Accuracy for criterion  log_loss  and max_depth  26 : 0.65\n",
      "Accuracy for criterion  log_loss  and max_depth  27 : 0.65\n",
      "Accuracy for criterion  log_loss  and max_depth  28 : 0.65\n",
      "Accuracy for criterion  log_loss  and max_depth  29 : 0.65\n",
      "Accuracy for criterion  log_loss  and max_depth  30 : 0.65\n",
      "Accuracy for criterion  log_loss  and max_depth  31 : 0.65\n",
      "Accuracy for criterion  log_loss  and max_depth  32 : 0.65\n",
      "Accuracy for criterion  log_loss  and max_depth  33 : 0.65\n",
      "Accuracy for criterion  log_loss  and max_depth  34 : 0.65\n",
      "Accuracy for criterion  log_loss  and max_depth  35 : 0.65\n",
      "Accuracy for criterion  log_loss  and max_depth  36 : 0.65\n",
      "Accuracy for criterion  log_loss  and max_depth  37 : 0.65\n",
      "Accuracy for criterion  log_loss  and max_depth  38 : 0.65\n",
      "Accuracy for criterion  log_loss  and max_depth  39 : 0.65\n",
      "Accuracy for criterion  log_loss  and max_depth  40 : 0.65\n",
      "Accuracy for criterion  log_loss  and max_depth  41 : 0.65\n",
      "Accuracy for criterion  log_loss  and max_depth  42 : 0.65\n",
      "Accuracy for criterion  log_loss  and max_depth  43 : 0.65\n",
      "Accuracy for criterion  log_loss  and max_depth  44 : 0.65\n",
      "Accuracy for criterion  log_loss  and max_depth  45 : 0.65\n",
      "Accuracy for criterion  log_loss  and max_depth  46 : 0.65\n",
      "Accuracy for criterion  log_loss  and max_depth  47 : 0.65\n",
      "Accuracy for criterion  log_loss  and max_depth  48 : 0.65\n",
      "Accuracy for criterion  log_loss  and max_depth  49 : 0.65\n"
     ]
    },
    {
     "name": "stdout",
     "output_type": "stream",
     "text": [
      "Accuracy for criterion  log_loss  and max_depth  50 : 0.65\n",
      "Accuracy for criterion  log_loss  and max_depth  51 : 0.65\n",
      "Accuracy for criterion  log_loss  and max_depth  52 : 0.65\n",
      "Accuracy for criterion  log_loss  and max_depth  53 : 0.65\n",
      "Accuracy for criterion  log_loss  and max_depth  54 : 0.65\n",
      "Accuracy for criterion  log_loss  and max_depth  55 : 0.65\n",
      "Accuracy for criterion  log_loss  and max_depth  56 : 0.65\n",
      "Accuracy for criterion  log_loss  and max_depth  57 : 0.65\n",
      "Accuracy for criterion  log_loss  and max_depth  58 : 0.65\n",
      "Accuracy for criterion  log_loss  and max_depth  59 : 0.65\n",
      "Accuracy for criterion  log_loss  and max_depth  60 : 0.65\n",
      "Accuracy for criterion  log_loss  and max_depth  61 : 0.65\n",
      "Accuracy for criterion  log_loss  and max_depth  62 : 0.65\n",
      "Accuracy for criterion  log_loss  and max_depth  63 : 0.65\n",
      "Accuracy for criterion  log_loss  and max_depth  64 : 0.65\n",
      "Accuracy for criterion  log_loss  and max_depth  65 : 0.65\n",
      "Accuracy for criterion  log_loss  and max_depth  66 : 0.65\n",
      "Accuracy for criterion  log_loss  and max_depth  67 : 0.65\n",
      "Accuracy for criterion  log_loss  and max_depth  68 : 0.65\n",
      "Accuracy for criterion  log_loss  and max_depth  69 : 0.65\n",
      "Accuracy for criterion  log_loss  and max_depth  70 : 0.65\n",
      "Accuracy for criterion  log_loss  and max_depth  71 : 0.65\n",
      "Accuracy for criterion  log_loss  and max_depth  72 : 0.65\n",
      "Accuracy for criterion  log_loss  and max_depth  73 : 0.65\n",
      "Accuracy for criterion  log_loss  and max_depth  74 : 0.65\n",
      "Accuracy for criterion  log_loss  and max_depth  75 : 0.65\n",
      "Accuracy for criterion  log_loss  and max_depth  76 : 0.65\n",
      "Accuracy for criterion  log_loss  and max_depth  77 : 0.65\n",
      "Accuracy for criterion  log_loss  and max_depth  78 : 0.65\n",
      "Accuracy for criterion  log_loss  and max_depth  79 : 0.65\n",
      "Accuracy for criterion  log_loss  and max_depth  80 : 0.65\n",
      "Accuracy for criterion  log_loss  and max_depth  81 : 0.65\n",
      "Accuracy for criterion  log_loss  and max_depth  82 : 0.65\n",
      "Accuracy for criterion  log_loss  and max_depth  83 : 0.65\n",
      "Accuracy for criterion  log_loss  and max_depth  84 : 0.65\n",
      "Accuracy for criterion  log_loss  and max_depth  85 : 0.65\n",
      "Accuracy for criterion  log_loss  and max_depth  86 : 0.65\n",
      "Accuracy for criterion  log_loss  and max_depth  87 : 0.65\n",
      "Accuracy for criterion  log_loss  and max_depth  88 : 0.65\n",
      "Accuracy for criterion  log_loss  and max_depth  89 : 0.65\n",
      "Accuracy for criterion  log_loss  and max_depth  90 : 0.65\n",
      "Accuracy for criterion  log_loss  and max_depth  91 : 0.65\n",
      "Accuracy for criterion  log_loss  and max_depth  92 : 0.65\n",
      "Accuracy for criterion  log_loss  and max_depth  93 : 0.65\n",
      "Accuracy for criterion  log_loss  and max_depth  94 : 0.65\n",
      "Accuracy for criterion  log_loss  and max_depth  95 : 0.65\n",
      "Accuracy for criterion  log_loss  and max_depth  96 : 0.65\n",
      "Accuracy for criterion  log_loss  and max_depth  97 : 0.65\n",
      "Accuracy for criterion  log_loss  and max_depth  98 : 0.65\n",
      "Accuracy for criterion  log_loss  and max_depth  99 : 0.65\n",
      "Accuracy for criterion  log_loss  and max_depth  100 : 0.65\n",
      "Accuracy for criterion  log_loss  and max_depth  101 : 0.65\n",
      "Accuracy for criterion  log_loss  and max_depth  102 : 0.65\n",
      "Accuracy for criterion  log_loss  and max_depth  103 : 0.65\n",
      "Accuracy for criterion  log_loss  and max_depth  104 : 0.65\n",
      "Accuracy for criterion  log_loss  and max_depth  105 : 0.65\n",
      "Accuracy for criterion  log_loss  and max_depth  106 : 0.65\n",
      "Accuracy for criterion  log_loss  and max_depth  107 : 0.65\n",
      "Accuracy for criterion  log_loss  and max_depth  108 : 0.65\n",
      "Accuracy for criterion  log_loss  and max_depth  109 : 0.65\n",
      "Accuracy for criterion  log_loss  and max_depth  110 : 0.65\n",
      "Accuracy for criterion  log_loss  and max_depth  111 : 0.65\n",
      "Accuracy for criterion  log_loss  and max_depth  112 : 0.65\n",
      "Accuracy for criterion  log_loss  and max_depth  113 : 0.65\n",
      "Accuracy for criterion  log_loss  and max_depth  114 : 0.65\n",
      "Accuracy for criterion  log_loss  and max_depth  115 : 0.65\n",
      "Accuracy for criterion  log_loss  and max_depth  116 : 0.65\n",
      "Accuracy for criterion  log_loss  and max_depth  117 : 0.65\n",
      "Accuracy for criterion  log_loss  and max_depth  118 : 0.65\n",
      "Accuracy for criterion  log_loss  and max_depth  119 : 0.65\n",
      "Accuracy for criterion  log_loss  and max_depth  120 : 0.65\n",
      "Accuracy for criterion  log_loss  and max_depth  121 : 0.65\n",
      "Accuracy for criterion  log_loss  and max_depth  122 : 0.65\n",
      "Accuracy for criterion  log_loss  and max_depth  123 : 0.65\n",
      "Accuracy for criterion  log_loss  and max_depth  124 : 0.65\n",
      "Accuracy for criterion  log_loss  and max_depth  125 : 0.65\n",
      "Accuracy for criterion  log_loss  and max_depth  126 : 0.65\n",
      "Accuracy for criterion  log_loss  and max_depth  127 : 0.65\n",
      "Accuracy for criterion  log_loss  and max_depth  128 : 0.65\n",
      "Accuracy for criterion  log_loss  and max_depth  129 : 0.65\n",
      "Accuracy for criterion  log_loss  and max_depth  130 : 0.65\n",
      "Accuracy for criterion  log_loss  and max_depth  131 : 0.65\n",
      "Accuracy for criterion  log_loss  and max_depth  132 : 0.65\n",
      "Accuracy for criterion  log_loss  and max_depth  133 : 0.65\n",
      "Accuracy for criterion  log_loss  and max_depth  134 : 0.65\n",
      "Accuracy for criterion  log_loss  and max_depth  135 : 0.65\n",
      "Accuracy for criterion  log_loss  and max_depth  136 : 0.65\n",
      "Accuracy for criterion  log_loss  and max_depth  137 : 0.65\n",
      "Accuracy for criterion  log_loss  and max_depth  138 : 0.65\n",
      "Accuracy for criterion  log_loss  and max_depth  139 : 0.65\n",
      "Accuracy for criterion  log_loss  and max_depth  140 : 0.65\n",
      "Accuracy for criterion  log_loss  and max_depth  141 : 0.65\n",
      "Accuracy for criterion  log_loss  and max_depth  142 : 0.65\n",
      "Accuracy for criterion  log_loss  and max_depth  143 : 0.65\n",
      "Accuracy for criterion  log_loss  and max_depth  144 : 0.65\n",
      "Accuracy for criterion  log_loss  and max_depth  145 : 0.65\n",
      "Accuracy for criterion  log_loss  and max_depth  146 : 0.65\n",
      "Accuracy for criterion  log_loss  and max_depth  147 : 0.65\n",
      "Accuracy for criterion  log_loss  and max_depth  148 : 0.65\n",
      "Accuracy for criterion  log_loss  and max_depth  149 : 0.65\n",
      "Accuracy for criterion  log_loss  and max_depth  150 : 0.65\n",
      "Accuracy for criterion  log_loss  and max_depth  151 : 0.65\n",
      "Accuracy for criterion  log_loss  and max_depth  152 : 0.65\n",
      "Accuracy for criterion  log_loss  and max_depth  153 : 0.65\n",
      "Accuracy for criterion  log_loss  and max_depth  154 : 0.65\n",
      "Accuracy for criterion  log_loss  and max_depth  155 : 0.65\n",
      "Accuracy for criterion  log_loss  and max_depth  156 : 0.65\n",
      "Accuracy for criterion  log_loss  and max_depth  157 : 0.65\n",
      "Accuracy for criterion  log_loss  and max_depth  158 : 0.65\n",
      "Accuracy for criterion  log_loss  and max_depth  159 : 0.65\n",
      "===================================================================================================================\n",
      "Parameters with best accuracy obtained (criterion, max_depth, accuracy):  ('gini', 3, 0.75), ('entropy', 3, 0.75), ('log_loss', 3, 0.75)\n",
      "===================================================================================================================\n"
     ]
    }
   ],
   "source": [
    "# Optimizing the model\n",
    "criterion = ['gini', 'entropy', 'log_loss']\n",
    "max_depth = list(range(1,160))  # max_depth = N-1\n",
    "best_params = []\n",
    "best_accuracy = 0.0\n",
    "\n",
    "for x in criterion:\n",
    "    for depth in max_depth:\n",
    "        clf = DecisionTreeClassifier(criterion=x, max_depth=depth, class_weight='balanced',random_state=13)\n",
    "        clf = clf.fit(X_train,y_train)\n",
    "        y_pred_temp = clf.predict(X_test)\n",
    "        accuracy_temp = metrics.accuracy_score(y_test, y_pred_temp)\n",
    "        print(\"Accuracy for criterion \", x, \" and max_depth \", depth, \":\", accuracy_temp)\n",
    "        if accuracy_temp > best_accuracy:\n",
    "            best_accuracy = accuracy_temp\n",
    "            best_params = [(x,depth,accuracy_temp)]\n",
    "        elif accuracy_temp == best_accuracy:\n",
    "            best_params.append((x,depth,accuracy_temp))\n",
    "print('='*115)\n",
    "print('Parameters with best accuracy obtained (criterion, max_depth, accuracy): ', ', '.join(str(x) for x in best_params))\n",
    "print('='*115)"
   ]
  },
  {
   "cell_type": "markdown",
   "id": "53edf72c",
   "metadata": {},
   "source": [
    "From the iteration above, we obtain the best **accuracy of 75%** using criterion gini, entropy or log_loss with max_depth 3—an improvement from the previous baseline accuracy of 65%."
   ]
  },
  {
   "cell_type": "code",
   "execution_count": 60,
   "id": "50951bcd",
   "metadata": {},
   "outputs": [
    {
     "name": "stdout",
     "output_type": "stream",
     "text": [
      "              precision    recall  f1-score   support\n",
      "\n",
      " not survive       0.47      0.78      0.58         9\n",
      "     survive       0.92      0.74      0.82        31\n",
      "\n",
      "    accuracy                           0.75        40\n",
      "   macro avg       0.69      0.76      0.70        40\n",
      "weighted avg       0.82      0.75      0.77        40\n",
      "\n",
      "[[23  8]\n",
      " [ 2  7]]\n"
     ]
    }
   ],
   "source": [
    "clf = DecisionTreeClassifier(criterion='gini', max_depth=3, class_weight='balanced',random_state=13)\n",
    "clf = clf.fit(X_train,y_train)\n",
    "y_pred_clf = clf.predict(X_test)\n",
    "\n",
    "print(classification_report(y_test, y_pred_clf, target_names=target_names))\n",
    "\n",
    "clf_matrix = metrics.confusion_matrix(y_test, y_pred_clf, labels=[1,0])\n",
    "print(clf_matrix)"
   ]
  },
  {
   "cell_type": "markdown",
   "id": "197a4e30",
   "metadata": {},
   "source": [
    "Let's try to use under-sampling to further improve the model performance."
   ]
  },
  {
   "cell_type": "code",
   "execution_count": 64,
   "id": "3c55f481",
   "metadata": {},
   "outputs": [
    {
     "name": "stdout",
     "output_type": "stream",
     "text": [
      "[(0.0, 31), (1.0, 31)]\n"
     ]
    }
   ],
   "source": [
    "# Under-Sampling\n",
    "from imblearn.under_sampling import RandomUnderSampler\n",
    "from collections import Counter\n",
    "\n",
    "# Randomly under-sample the majority class\n",
    "rus = RandomUnderSampler(random_state=42)\n",
    "X_train_rus, y_train_rus= rus.fit_resample(X_train, y_train)\n",
    "\n",
    "# Check the number of records after under sampling\n",
    "print(sorted(Counter(y_train_rus).items()))"
   ]
  },
  {
   "cell_type": "code",
   "execution_count": 65,
   "id": "41371126",
   "metadata": {
    "scrolled": true
   },
   "outputs": [
    {
     "name": "stdout",
     "output_type": "stream",
     "text": [
      "Accuracy for criterion  gini  and max_depth  1 : 0.9\n",
      "Accuracy for criterion  gini  and max_depth  2 : 0.475\n",
      "Accuracy for criterion  gini  and max_depth  3 : 0.525\n",
      "Accuracy for criterion  gini  and max_depth  4 : 0.75\n",
      "Accuracy for criterion  gini  and max_depth  5 : 0.65\n",
      "Accuracy for criterion  gini  and max_depth  6 : 0.675\n",
      "Accuracy for criterion  gini  and max_depth  7 : 0.675\n",
      "Accuracy for criterion  gini  and max_depth  8 : 0.675\n",
      "Accuracy for criterion  gini  and max_depth  9 : 0.675\n",
      "Accuracy for criterion  gini  and max_depth  10 : 0.675\n",
      "Accuracy for criterion  gini  and max_depth  11 : 0.675\n",
      "Accuracy for criterion  gini  and max_depth  12 : 0.675\n",
      "Accuracy for criterion  gini  and max_depth  13 : 0.675\n",
      "Accuracy for criterion  gini  and max_depth  14 : 0.675\n",
      "Accuracy for criterion  gini  and max_depth  15 : 0.675\n",
      "Accuracy for criterion  gini  and max_depth  16 : 0.675\n",
      "Accuracy for criterion  gini  and max_depth  17 : 0.675\n",
      "Accuracy for criterion  gini  and max_depth  18 : 0.675\n",
      "Accuracy for criterion  gini  and max_depth  19 : 0.675\n",
      "Accuracy for criterion  gini  and max_depth  20 : 0.675\n",
      "Accuracy for criterion  gini  and max_depth  21 : 0.675\n",
      "Accuracy for criterion  gini  and max_depth  22 : 0.675\n",
      "Accuracy for criterion  gini  and max_depth  23 : 0.675\n",
      "Accuracy for criterion  gini  and max_depth  24 : 0.675\n",
      "Accuracy for criterion  gini  and max_depth  25 : 0.675\n",
      "Accuracy for criterion  gini  and max_depth  26 : 0.675\n",
      "Accuracy for criterion  gini  and max_depth  27 : 0.675\n",
      "Accuracy for criterion  gini  and max_depth  28 : 0.675\n",
      "Accuracy for criterion  gini  and max_depth  29 : 0.675\n",
      "Accuracy for criterion  gini  and max_depth  30 : 0.675\n",
      "Accuracy for criterion  entropy  and max_depth  1 : 0.9\n",
      "Accuracy for criterion  entropy  and max_depth  2 : 0.475\n",
      "Accuracy for criterion  entropy  and max_depth  3 : 0.525\n",
      "Accuracy for criterion  entropy  and max_depth  4 : 0.75\n",
      "Accuracy for criterion  entropy  and max_depth  5 : 0.65\n",
      "Accuracy for criterion  entropy  and max_depth  6 : 0.675\n",
      "Accuracy for criterion  entropy  and max_depth  7 : 0.7\n",
      "Accuracy for criterion  entropy  and max_depth  8 : 0.675\n",
      "Accuracy for criterion  entropy  and max_depth  9 : 0.675\n",
      "Accuracy for criterion  entropy  and max_depth  10 : 0.675\n",
      "Accuracy for criterion  entropy  and max_depth  11 : 0.675\n",
      "Accuracy for criterion  entropy  and max_depth  12 : 0.675\n",
      "Accuracy for criterion  entropy  and max_depth  13 : 0.675\n",
      "Accuracy for criterion  entropy  and max_depth  14 : 0.675\n",
      "Accuracy for criterion  entropy  and max_depth  15 : 0.675\n",
      "Accuracy for criterion  entropy  and max_depth  16 : 0.675\n",
      "Accuracy for criterion  entropy  and max_depth  17 : 0.675\n",
      "Accuracy for criterion  entropy  and max_depth  18 : 0.675\n",
      "Accuracy for criterion  entropy  and max_depth  19 : 0.675\n",
      "Accuracy for criterion  entropy  and max_depth  20 : 0.675\n",
      "Accuracy for criterion  entropy  and max_depth  21 : 0.675\n",
      "Accuracy for criterion  entropy  and max_depth  22 : 0.675\n",
      "Accuracy for criterion  entropy  and max_depth  23 : 0.675\n",
      "Accuracy for criterion  entropy  and max_depth  24 : 0.675\n",
      "Accuracy for criterion  entropy  and max_depth  25 : 0.675\n",
      "Accuracy for criterion  entropy  and max_depth  26 : 0.675\n",
      "Accuracy for criterion  entropy  and max_depth  27 : 0.675\n",
      "Accuracy for criterion  entropy  and max_depth  28 : 0.675\n",
      "Accuracy for criterion  entropy  and max_depth  29 : 0.675\n",
      "Accuracy for criterion  entropy  and max_depth  30 : 0.675\n",
      "Accuracy for criterion  log_loss  and max_depth  1 : 0.9\n",
      "Accuracy for criterion  log_loss  and max_depth  2 : 0.475\n",
      "Accuracy for criterion  log_loss  and max_depth  3 : 0.525\n",
      "Accuracy for criterion  log_loss  and max_depth  4 : 0.75\n",
      "Accuracy for criterion  log_loss  and max_depth  5 : 0.65\n",
      "Accuracy for criterion  log_loss  and max_depth  6 : 0.675\n",
      "Accuracy for criterion  log_loss  and max_depth  7 : 0.7\n",
      "Accuracy for criterion  log_loss  and max_depth  8 : 0.675\n",
      "Accuracy for criterion  log_loss  and max_depth  9 : 0.675\n",
      "Accuracy for criterion  log_loss  and max_depth  10 : 0.675\n",
      "Accuracy for criterion  log_loss  and max_depth  11 : 0.675\n",
      "Accuracy for criterion  log_loss  and max_depth  12 : 0.675\n",
      "Accuracy for criterion  log_loss  and max_depth  13 : 0.675\n",
      "Accuracy for criterion  log_loss  and max_depth  14 : 0.675\n",
      "Accuracy for criterion  log_loss  and max_depth  15 : 0.675\n",
      "Accuracy for criterion  log_loss  and max_depth  16 : 0.675\n",
      "Accuracy for criterion  log_loss  and max_depth  17 : 0.675\n",
      "Accuracy for criterion  log_loss  and max_depth  18 : 0.675\n",
      "Accuracy for criterion  log_loss  and max_depth  19 : 0.675\n",
      "Accuracy for criterion  log_loss  and max_depth  20 : 0.675\n",
      "Accuracy for criterion  log_loss  and max_depth  21 : 0.675\n",
      "Accuracy for criterion  log_loss  and max_depth  22 : 0.675\n",
      "Accuracy for criterion  log_loss  and max_depth  23 : 0.675\n",
      "Accuracy for criterion  log_loss  and max_depth  24 : 0.675\n",
      "Accuracy for criterion  log_loss  and max_depth  25 : 0.675\n",
      "Accuracy for criterion  log_loss  and max_depth  26 : 0.675\n",
      "Accuracy for criterion  log_loss  and max_depth  27 : 0.675\n",
      "Accuracy for criterion  log_loss  and max_depth  28 : 0.675\n",
      "Accuracy for criterion  log_loss  and max_depth  29 : 0.675\n",
      "Accuracy for criterion  log_loss  and max_depth  30 : 0.675\n",
      "===================================================================================================================\n",
      "Parameters with best accuracy obtained (criterion, max_depth, accuracy):  ('gini', 1, 0.9), ('entropy', 1, 0.9), ('log_loss', 1, 0.9)\n",
      "===================================================================================================================\n"
     ]
    }
   ],
   "source": [
    "max_depth = list(range(1,31))  # max_depth = N-1\n",
    "best_params_rus = []\n",
    "best_accuracy_rus = 0.0\n",
    "\n",
    "for x in criterion:\n",
    "    for depth in max_depth:\n",
    "        clf_rus = DecisionTreeClassifier(criterion=x, max_depth=depth, class_weight='balanced',random_state=13)\n",
    "        clf_rus = clf_rus.fit(X_train_rus,y_train_rus)\n",
    "        y_pred_temp = clf_rus.predict(X_test)\n",
    "        accuracy_temp = metrics.accuracy_score(y_test, y_pred_temp)\n",
    "        print(\"Accuracy for criterion \", x, \" and max_depth \", depth, \":\", accuracy_temp)\n",
    "        if accuracy_temp > best_accuracy_rus:\n",
    "            best_accuracy_rus = accuracy_temp\n",
    "            best_params_rus = [(x, depth, accuracy_temp)]\n",
    "        elif accuracy_temp == best_accuracy_rus:\n",
    "            best_params_rus.append((x, depth, accuracy_temp))\n",
    "print('='*115)\n",
    "print('Parameters with best accuracy obtained (criterion, max_depth, accuracy): ', ', '.join(str(x) for x in best_params_rus))\n",
    "print('='*115)"
   ]
  },
  {
   "cell_type": "markdown",
   "id": "297f5980",
   "metadata": {},
   "source": [
    "Using under-sampling, we obtain the best **accuracy of 90%** using criterion gini, entropy or log_loss with max_depth 1—a further improvement from the previous obtained accuracy of 75% and the best accuracy obtained thus far."
   ]
  },
  {
   "cell_type": "code",
   "execution_count": 72,
   "id": "3398190b",
   "metadata": {},
   "outputs": [
    {
     "name": "stdout",
     "output_type": "stream",
     "text": [
      "              precision    recall  f1-score   support\n",
      "\n",
      " not survive       1.00      0.56      0.71         9\n",
      "     survive       0.89      1.00      0.94        31\n",
      "\n",
      "    accuracy                           0.90        40\n",
      "   macro avg       0.94      0.78      0.83        40\n",
      "weighted avg       0.91      0.90      0.89        40\n",
      "\n",
      "[[31  0]\n",
      " [ 4  5]]\n"
     ]
    },
    {
     "data": {
      "image/png": "[encoded data removed]",
      "text/plain": [
       "<Figure size 432x288 with 2 Axes>"
      ]
     },
     "metadata": {
      "needs_background": "light"
     },
     "output_type": "display_data"
    }
   ],
   "source": [
    "dt_rus = DecisionTreeClassifier(criterion='gini', max_depth=1, class_weight='balanced',random_state=13)\n",
    "dt_rus = dt_rus.fit(X_train_rus,y_train_rus)\n",
    "y_pred_rus = dt_rus.predict(X_test)\n",
    "\n",
    "print(classification_report(y_test, y_pred_rus, target_names=target_names))\n",
    "\n",
    "dt_rus_matrix = metrics.confusion_matrix(y_test, y_pred_rus, labels=[1,0])\n",
    "class_names=[1,0]\n",
    "gen_cnf_matrix_heatmap(dt_rus_matrix, class_names)"
   ]
  },
  {
   "cell_type": "markdown",
   "id": "99a99811",
   "metadata": {},
   "source": [
    "From the confusion matrix, we can see that the resulting decision tree model has successfully **reduced the False Positive case by half to 4** and **increase the recall rate of the Not Survive patients to 56%** as well."
   ]
  },
  {
   "cell_type": "markdown",
   "id": "40454b35",
   "metadata": {},
   "source": [
    "## 3. Random Forest"
   ]
  },
  {
   "cell_type": "markdown",
   "id": "ec20ec3e",
   "metadata": {},
   "source": [
    "Let's build a vanilla random forest as our baseline."
   ]
  },
  {
   "cell_type": "code",
   "execution_count": 73,
   "id": "0e679e5e",
   "metadata": {},
   "outputs": [],
   "source": [
    "from sklearn.ensemble import RandomForestClassifier"
   ]
  },
  {
   "cell_type": "code",
   "execution_count": 74,
   "id": "41c3c8f7",
   "metadata": {},
   "outputs": [
    {
     "name": "stdout",
     "output_type": "stream",
     "text": [
      "Training score: 1.0\n",
      "Test score 0.7\n",
      "Accuracy: 0.7\n"
     ]
    }
   ],
   "source": [
    "rf = RandomForestClassifier(random_state=13)\n",
    "\n",
    "# Fit the data\n",
    "rf.fit(X_train, y_train)\n",
    "\n",
    "y_pred_rf = rf.predict(X_test)\n",
    "\n",
    "print(\"Training score:\", rf.score(X_train, y_train))\n",
    "print(\"Test score\", rf.score(X_test, y_test))\n",
    "print(\"Accuracy:\", metrics.accuracy_score(y_test, y_pred_rf))"
   ]
  },
  {
   "cell_type": "code",
   "execution_count": 75,
   "id": "8fb321ae",
   "metadata": {},
   "outputs": [
    {
     "name": "stdout",
     "output_type": "stream",
     "text": [
      "Training score: 1.0\n",
      "Test score: 0.7\n",
      "Accuracy: 0.7\n"
     ]
    }
   ],
   "source": [
    "# Fit the under-sampled data\n",
    "rf.fit(X_train_rus, y_train_rus)\n",
    "\n",
    "y_pred_rf_rus = rf.predict(X_test)\n",
    "\n",
    "print(\"Training score:\", rf.score(X_train_rus, y_train_rus))\n",
    "print(\"Test score:\", rf.score(X_test, y_test))\n",
    "print(\"Accuracy:\", metrics.accuracy_score(y_test, y_pred_rf_rus))"
   ]
  },
  {
   "cell_type": "markdown",
   "id": "7695bf95",
   "metadata": {},
   "source": [
    "Since the training scores are so high and the testing scores are not as close for both original and under-sampled data, there's a probability that the model is overfitting—the model is fitting the training data too well and not generalizing what it is learning."
   ]
  },
  {
   "cell_type": "markdown",
   "id": "17463b01",
   "metadata": {},
   "source": [
    "Now let's tune our random forest classifier to improve the test accuracy.\n",
    "\n",
    "Since random forest is built upon decision trees and that it is sensitive to data imbalance as well, moving forward we will use under-sampled data to train our dataset just like in decision tree."
   ]
  },
  {
   "cell_type": "code",
   "execution_count": 76,
   "id": "7be3d21a",
   "metadata": {},
   "outputs": [
    {
     "data": {
      "text/plain": [
       "{'n_estimators': array([ 100,  307,  514,  721,  928, 1135, 1342, 1550, 1757, 1964, 2171,\n",
       "        2378, 2585, 2792, 3000]),\n",
       " 'max_depth': [1, 5, 10, 20, 50, 75, 100, 150, 200],\n",
       " 'min_samples_split': [1, 2, 5, 10, 15, 20, 30],\n",
       " 'min_samples_leaf': [1, 2, 3, 4],\n",
       " 'bootstrap': [True, False],\n",
       " 'criterion': ['gini', 'entropy', 'log_loss']}"
      ]
     },
     "execution_count": 76,
     "metadata": {},
     "output_type": "execute_result"
    }
   ],
   "source": [
    "# Number of trees\n",
    "n_estimators = np.linspace(100, 3000, int((3000-100)/200) + 1, dtype=int)\n",
    "\n",
    "# Maximum number of levels in tree\n",
    "max_depth = [1, 5, 10, 20, 50, 75, 100, 150, 200]\n",
    "\n",
    "# Minimum number of samples required to split a node\n",
    "min_samples_split = [1, 2, 5, 10, 15, 20, 30]\n",
    "\n",
    "# Minimum number of samples required at each leaf node\n",
    "min_samples_leaf = [1, 2, 3, 4]\n",
    "\n",
    "# Method of selecting samples for training each tree\n",
    "bootstrap = [True, False]\n",
    "\n",
    "# Criterion\n",
    "criterion=['gini', 'entropy', 'log_loss']\n",
    "\n",
    "random_grid = {'n_estimators': n_estimators,\n",
    "               'max_depth': max_depth,\n",
    "               'min_samples_split': min_samples_split,\n",
    "               'min_samples_leaf': min_samples_leaf,\n",
    "               'bootstrap': bootstrap,\n",
    "               'criterion': criterion}\n",
    "random_grid"
   ]
  },
  {
   "cell_type": "code",
   "execution_count": 77,
   "id": "fa79bd20",
   "metadata": {
    "scrolled": true
   },
   "outputs": [
    {
     "name": "stdout",
     "output_type": "stream",
     "text": [
      "Fitting 5 folds for each of 30 candidates, totalling 150 fits\n",
      "Best set of parameters:  {'n_estimators': 1964, 'min_samples_split': 1, 'min_samples_leaf': 4, 'max_depth': 5, 'criterion': 'gini', 'bootstrap': False}\n",
      "Training score: 0.9032258064516129\n",
      "Test score: 0.65\n"
     ]
    }
   ],
   "source": [
    "from sklearn.model_selection import RandomizedSearchCV\n",
    "\n",
    "rf_base = RandomForestClassifier(random_state=13)\n",
    "rf_random = RandomizedSearchCV(estimator = rf_base,\n",
    "                               param_distributions = random_grid,\n",
    "                               n_iter = 30, cv = 5,\n",
    "                               verbose=2,\n",
    "                               random_state=13, n_jobs = 4)\n",
    "rf_random.fit(X_train_rus, y_train_rus)\n",
    "\n",
    "print(\"Best set of parameters: \", rf_random.best_params_)\n",
    "print(\"Training score:\", rf_random.score(X_train_rus, y_train_rus))\n",
    "print(\"Test score:\", rf_random.score(X_test, y_test))"
   ]
  },
  {
   "cell_type": "markdown",
   "id": "4b322abf",
   "metadata": {},
   "source": [
    "Now let's use GridSearch to find a more optimal set of parameters."
   ]
  },
  {
   "cell_type": "code",
   "execution_count": 78,
   "id": "98059557",
   "metadata": {},
   "outputs": [
    {
     "name": "stdout",
     "output_type": "stream",
     "text": [
      "[CV] END bootstrap=True, criterion=gini, max_depth=1, min_samples_leaf=4, min_samples_split=2, n_estimators=1757; total time=   2.2s\n",
      "[CV] END bootstrap=True, criterion=gini, max_depth=1, min_samples_leaf=4, min_samples_split=2, n_estimators=1757; total time=   2.1s\n",
      "[CV] END bootstrap=True, criterion=gini, max_depth=1, min_samples_leaf=1, min_samples_split=15, n_estimators=3000; total time=   3.7s\n",
      "[CV] END bootstrap=True, criterion=gini, max_depth=10, min_samples_leaf=1, min_samples_split=2, n_estimators=2378; total time=   3.4s\n",
      "[CV] END bootstrap=True, criterion=gini, max_depth=10, min_samples_leaf=1, min_samples_split=2, n_estimators=2378; total time=   5.2s\n",
      "[CV] END bootstrap=True, criterion=entropy, max_depth=1, min_samples_leaf=3, min_samples_split=5, n_estimators=1342; total time=   2.0s\n",
      "[CV] END bootstrap=False, criterion=entropy, max_depth=10, min_samples_leaf=4, min_samples_split=20, n_estimators=1135; total time=   1.3s\n",
      "[CV] END bootstrap=False, criterion=entropy, max_depth=10, min_samples_leaf=4, min_samples_split=20, n_estimators=1135; total time=   1.2s\n",
      "[CV] END bootstrap=False, criterion=gini, max_depth=75, min_samples_leaf=2, min_samples_split=1, n_estimators=2378; total time=   2.6s\n",
      "[CV] END bootstrap=False, criterion=entropy, max_depth=100, min_samples_leaf=2, min_samples_split=30, n_estimators=2378; total time=   2.9s\n",
      "[CV] END bootstrap=False, criterion=entropy, max_depth=200, min_samples_leaf=2, min_samples_split=20, n_estimators=307; total time=   0.4s\n",
      "[CV] END bootstrap=False, criterion=entropy, max_depth=200, min_samples_leaf=2, min_samples_split=20, n_estimators=307; total time=   0.3s\n",
      "[CV] END bootstrap=False, criterion=entropy, max_depth=200, min_samples_leaf=2, min_samples_split=20, n_estimators=307; total time=   0.4s\n",
      "[CV] END bootstrap=False, criterion=gini, max_depth=10, min_samples_leaf=1, min_samples_split=10, n_estimators=2585; total time=   3.0s\n",
      "[CV] END bootstrap=True, criterion=log_loss, max_depth=75, min_samples_leaf=4, min_samples_split=20, n_estimators=1550; total time=   2.2s\n",
      "[CV] END bootstrap=True, criterion=log_loss, max_depth=75, min_samples_leaf=4, min_samples_split=20, n_estimators=1550; total time=   2.2s\n",
      "[CV] END bootstrap=True, criterion=entropy, max_depth=10, min_samples_leaf=4, min_samples_split=1, n_estimators=928; total time=   1.3s\n",
      "[CV] END bootstrap=False, criterion=gini, max_depth=5, min_samples_leaf=4, min_samples_split=1, n_estimators=1964; total time=   2.1s\n",
      "[CV] END bootstrap=False, criterion=gini, max_depth=1, min_samples_leaf=1, min_samples_split=20, n_estimators=1964; total time=   2.2s\n",
      "[CV] END bootstrap=False, criterion=gini, max_depth=1, min_samples_leaf=1, min_samples_split=20, n_estimators=1964; total time=   2.3s\n",
      "[CV] END bootstrap=False, criterion=log_loss, max_depth=200, min_samples_leaf=4, min_samples_split=30, n_estimators=2585; total time=   3.0s\n",
      "[CV] END bootstrap=False, criterion=entropy, max_depth=100, min_samples_leaf=2, min_samples_split=15, n_estimators=1342; total time=   1.7s\n",
      "[CV] END bootstrap=False, criterion=entropy, max_depth=5, min_samples_leaf=3, min_samples_split=20, n_estimators=1135; total time=   1.5s\n",
      "[CV] END bootstrap=True, criterion=gini, max_depth=10, min_samples_leaf=2, min_samples_split=15, n_estimators=1757; total time=   2.6s\n",
      "[CV] END bootstrap=True, criterion=gini, max_depth=1, min_samples_leaf=1, min_samples_split=20, n_estimators=100; total time=   0.2s\n",
      "[CV] END bootstrap=True, criterion=gini, max_depth=1, min_samples_leaf=1, min_samples_split=20, n_estimators=100; total time=   0.1s\n",
      "[CV] END bootstrap=True, criterion=gini, max_depth=1, min_samples_leaf=1, min_samples_split=20, n_estimators=100; total time=   0.2s\n",
      "[CV] END bootstrap=True, criterion=gini, max_depth=1, min_samples_leaf=1, min_samples_split=20, n_estimators=100; total time=   0.2s\n",
      "[CV] END bootstrap=True, criterion=gini, max_depth=1, min_samples_leaf=1, min_samples_split=20, n_estimators=100; total time=   0.1s\n",
      "[CV] END bootstrap=True, criterion=entropy, max_depth=1, min_samples_leaf=4, min_samples_split=1, n_estimators=514; total time=   0.8s\n",
      "[CV] END bootstrap=True, criterion=entropy, max_depth=1, min_samples_leaf=4, min_samples_split=1, n_estimators=514; total time=   0.8s\n",
      "[CV] END bootstrap=False, criterion=log_loss, max_depth=1, min_samples_leaf=2, min_samples_split=20, n_estimators=2171; total time=   2.3s\n",
      "[CV] END bootstrap=True, criterion=entropy, max_depth=20, min_samples_leaf=4, min_samples_split=10, n_estimators=100; total time=   0.2s\n",
      "[CV] END bootstrap=True, criterion=entropy, max_depth=20, min_samples_leaf=4, min_samples_split=10, n_estimators=100; total time=   0.1s\n",
      "[CV] END bootstrap=False, criterion=entropy, max_depth=75, min_samples_leaf=1, min_samples_split=1, n_estimators=1757; total time=   2.0s\n",
      "[CV] END bootstrap=True, criterion=entropy, max_depth=20, min_samples_leaf=4, min_samples_split=20, n_estimators=928; total time=   1.5s\n",
      "[CV] END bootstrap=True, criterion=entropy, max_depth=20, min_samples_leaf=4, min_samples_split=20, n_estimators=928; total time=   1.3s\n",
      "[CV] END bootstrap=False, criterion=log_loss, max_depth=150, min_samples_leaf=2, min_samples_split=30, n_estimators=721; total time=   0.8s\n",
      "[CV] END bootstrap=False, criterion=gini, max_depth=200, min_samples_leaf=4, min_samples_split=1, n_estimators=2792; total time=   3.2s\n",
      "[CV] END bootstrap=False, criterion=gini, max_depth=200, min_samples_leaf=4, min_samples_split=1, n_estimators=2792; total time=   3.3s\n",
      "[CV] END bootstrap=True, criterion=log_loss, max_depth=10, min_samples_leaf=3, min_samples_split=15, n_estimators=1964; total time=   3.1s\n",
      "[CV] END bootstrap=True, criterion=gini, max_depth=1, min_samples_leaf=4, min_samples_split=2, n_estimators=1757; total time=   2.2s\n",
      "[CV] END bootstrap=False, criterion=gini, max_depth=150, min_samples_leaf=3, min_samples_split=2, n_estimators=1550; total time=   1.5s\n",
      "[CV] END bootstrap=False, criterion=gini, max_depth=150, min_samples_leaf=3, min_samples_split=2, n_estimators=1550; total time=   1.5s\n",
      "[CV] END bootstrap=True, criterion=gini, max_depth=1, min_samples_leaf=1, min_samples_split=15, n_estimators=3000; total time=   3.8s\n",
      "[CV] END bootstrap=True, criterion=gini, max_depth=10, min_samples_leaf=1, min_samples_split=2, n_estimators=2378; total time=   4.1s\n",
      "[CV] END bootstrap=False, criterion=log_loss, max_depth=200, min_samples_leaf=1, min_samples_split=1, n_estimators=100; total time=   0.1s\n",
      "[CV] END bootstrap=False, criterion=log_loss, max_depth=200, min_samples_leaf=1, min_samples_split=1, n_estimators=100; total time=   0.2s\n",
      "[CV] END bootstrap=True, criterion=gini, max_depth=1, min_samples_leaf=2, min_samples_split=10, n_estimators=721; total time=   1.6s\n",
      "[CV] END bootstrap=True, criterion=gini, max_depth=1, min_samples_leaf=2, min_samples_split=10, n_estimators=721; total time=   1.5s\n",
      "[CV] END bootstrap=True, criterion=gini, max_depth=1, min_samples_leaf=2, min_samples_split=10, n_estimators=721; total time=   1.1s\n",
      "[CV] END bootstrap=True, criterion=entropy, max_depth=1, min_samples_leaf=3, min_samples_split=5, n_estimators=1342; total time=   2.0s\n",
      "[CV] END bootstrap=False, criterion=entropy, max_depth=10, min_samples_leaf=4, min_samples_split=20, n_estimators=1135; total time=   1.2s\n",
      "[CV] END bootstrap=False, criterion=gini, max_depth=75, min_samples_leaf=2, min_samples_split=1, n_estimators=2378; total time=   2.6s\n",
      "[CV] END bootstrap=False, criterion=entropy, max_depth=100, min_samples_leaf=2, min_samples_split=30, n_estimators=2378; total time=   2.9s\n",
      "[CV] END bootstrap=False, criterion=entropy, max_depth=100, min_samples_leaf=2, min_samples_split=30, n_estimators=2378; total time=   2.7s\n",
      "[CV] END bootstrap=False, criterion=gini, max_depth=10, min_samples_leaf=1, min_samples_split=10, n_estimators=2585; total time=   2.9s\n",
      "[CV] END bootstrap=True, criterion=log_loss, max_depth=75, min_samples_leaf=4, min_samples_split=20, n_estimators=1550; total time=   2.2s\n",
      "[CV] END bootstrap=True, criterion=entropy, max_depth=10, min_samples_leaf=4, min_samples_split=1, n_estimators=928; total time=   1.3s\n",
      "[CV] END bootstrap=True, criterion=entropy, max_depth=10, min_samples_leaf=4, min_samples_split=1, n_estimators=928; total time=   1.3s\n",
      "[CV] END bootstrap=False, criterion=gini, max_depth=5, min_samples_leaf=4, min_samples_split=1, n_estimators=1964; total time=   2.2s\n",
      "[CV] END bootstrap=False, criterion=gini, max_depth=1, min_samples_leaf=1, min_samples_split=20, n_estimators=1964; total time=   2.2s\n",
      "[CV] END bootstrap=False, criterion=log_loss, max_depth=200, min_samples_leaf=4, min_samples_split=30, n_estimators=2585; total time=   3.0s\n",
      "[CV] END bootstrap=False, criterion=entropy, max_depth=100, min_samples_leaf=2, min_samples_split=15, n_estimators=1342; total time=   1.6s\n",
      "[CV] END bootstrap=False, criterion=entropy, max_depth=100, min_samples_leaf=2, min_samples_split=15, n_estimators=1342; total time=   1.7s\n",
      "[CV] END bootstrap=False, criterion=entropy, max_depth=5, min_samples_leaf=3, min_samples_split=20, n_estimators=1135; total time=   1.4s\n",
      "[CV] END bootstrap=True, criterion=gini, max_depth=10, min_samples_leaf=2, min_samples_split=15, n_estimators=1757; total time=   2.6s\n",
      "[CV] END bootstrap=True, criterion=gini, max_depth=10, min_samples_leaf=2, min_samples_split=15, n_estimators=1757; total time=   2.6s\n",
      "[CV] END bootstrap=False, criterion=log_loss, max_depth=1, min_samples_leaf=2, min_samples_split=20, n_estimators=2171; total time=   2.4s\n",
      "[CV] END bootstrap=True, criterion=entropy, max_depth=20, min_samples_leaf=4, min_samples_split=10, n_estimators=100; total time=   0.2s\n",
      "[CV] END bootstrap=False, criterion=entropy, max_depth=75, min_samples_leaf=1, min_samples_split=1, n_estimators=1757; total time=   2.0s\n",
      "[CV] END bootstrap=False, criterion=entropy, max_depth=75, min_samples_leaf=1, min_samples_split=1, n_estimators=1757; total time=   2.2s\n",
      "[CV] END bootstrap=False, criterion=log_loss, max_depth=150, min_samples_leaf=2, min_samples_split=30, n_estimators=721; total time=   0.8s\n",
      "[CV] END bootstrap=False, criterion=log_loss, max_depth=150, min_samples_leaf=2, min_samples_split=30, n_estimators=721; total time=   0.8s\n",
      "[CV] END bootstrap=False, criterion=gini, max_depth=200, min_samples_leaf=4, min_samples_split=1, n_estimators=2792; total time=   3.2s\n",
      "[CV] END bootstrap=False, criterion=entropy, max_depth=200, min_samples_leaf=4, min_samples_split=1, n_estimators=2171; total time=   2.6s\n",
      "[CV] END bootstrap=False, criterion=entropy, max_depth=200, min_samples_leaf=4, min_samples_split=1, n_estimators=2171; total time=   2.7s\n",
      "[CV] END bootstrap=True, criterion=log_loss, max_depth=10, min_samples_leaf=3, min_samples_split=15, n_estimators=1964; total time=   2.9s\n",
      "[CV] END bootstrap=True, criterion=gini, max_depth=1, min_samples_leaf=4, min_samples_split=2, n_estimators=1757; total time=   2.2s\n",
      "[CV] END bootstrap=False, criterion=gini, max_depth=150, min_samples_leaf=3, min_samples_split=2, n_estimators=1550; total time=   1.5s\n",
      "[CV] END bootstrap=False, criterion=gini, max_depth=150, min_samples_leaf=3, min_samples_split=2, n_estimators=1550; total time=   1.5s\n",
      "[CV] END bootstrap=True, criterion=gini, max_depth=1, min_samples_leaf=1, min_samples_split=15, n_estimators=3000; total time=   3.8s\n",
      "[CV] END bootstrap=True, criterion=gini, max_depth=10, min_samples_leaf=1, min_samples_split=2, n_estimators=2378; total time=   4.0s\n",
      "[CV] END bootstrap=False, criterion=log_loss, max_depth=200, min_samples_leaf=1, min_samples_split=1, n_estimators=100; total time=   0.2s\n",
      "[CV] END bootstrap=False, criterion=log_loss, max_depth=200, min_samples_leaf=1, min_samples_split=1, n_estimators=100; total time=   0.2s\n",
      "[CV] END bootstrap=False, criterion=log_loss, max_depth=200, min_samples_leaf=1, min_samples_split=1, n_estimators=100; total time=   0.2s\n",
      "[CV] END bootstrap=True, criterion=gini, max_depth=1, min_samples_leaf=2, min_samples_split=10, n_estimators=721; total time=   1.6s\n",
      "[CV] END bootstrap=True, criterion=gini, max_depth=1, min_samples_leaf=2, min_samples_split=10, n_estimators=721; total time=   1.4s\n",
      "[CV] END bootstrap=True, criterion=entropy, max_depth=1, min_samples_leaf=3, min_samples_split=5, n_estimators=1342; total time=   2.0s\n",
      "[CV] END bootstrap=True, criterion=entropy, max_depth=1, min_samples_leaf=3, min_samples_split=5, n_estimators=1342; total time=   1.9s\n",
      "[CV] END bootstrap=False, criterion=gini, max_depth=75, min_samples_leaf=2, min_samples_split=1, n_estimators=2378; total time=   2.6s\n",
      "[CV] END bootstrap=False, criterion=gini, max_depth=75, min_samples_leaf=2, min_samples_split=1, n_estimators=2378; total time=   3.0s\n",
      "[CV] END bootstrap=False, criterion=entropy, max_depth=100, min_samples_leaf=2, min_samples_split=30, n_estimators=2378; total time=   2.7s\n",
      "[CV] END bootstrap=False, criterion=gini, max_depth=10, min_samples_leaf=1, min_samples_split=10, n_estimators=2585; total time=   3.0s\n",
      "[CV] END bootstrap=True, criterion=log_loss, max_depth=75, min_samples_leaf=4, min_samples_split=20, n_estimators=1550; total time=   2.2s\n",
      "[CV] END bootstrap=True, criterion=entropy, max_depth=10, min_samples_leaf=4, min_samples_split=1, n_estimators=928; total time=   1.3s\n",
      "[CV] END bootstrap=True, criterion=entropy, max_depth=10, min_samples_leaf=4, min_samples_split=1, n_estimators=928; total time=   1.3s\n",
      "[CV] END bootstrap=False, criterion=gini, max_depth=5, min_samples_leaf=4, min_samples_split=1, n_estimators=1964; total time=   2.2s\n",
      "[CV] END bootstrap=False, criterion=gini, max_depth=1, min_samples_leaf=1, min_samples_split=20, n_estimators=1964; total time=   2.2s\n",
      "[CV] END bootstrap=False, criterion=log_loss, max_depth=200, min_samples_leaf=4, min_samples_split=30, n_estimators=2585; total time=   3.0s\n",
      "[CV] END bootstrap=False, criterion=log_loss, max_depth=200, min_samples_leaf=4, min_samples_split=30, n_estimators=2585; total time=   3.2s\n",
      "[CV] END bootstrap=False, criterion=entropy, max_depth=100, min_samples_leaf=2, min_samples_split=15, n_estimators=1342; total time=   1.7s\n",
      "[CV] END bootstrap=False, criterion=entropy, max_depth=5, min_samples_leaf=3, min_samples_split=20, n_estimators=1135; total time=   1.4s\n",
      "[CV] END bootstrap=True, criterion=gini, max_depth=10, min_samples_leaf=2, min_samples_split=15, n_estimators=1757; total time=   2.6s\n",
      "[CV] END bootstrap=True, criterion=entropy, max_depth=1, min_samples_leaf=4, min_samples_split=1, n_estimators=514; total time=   0.8s\n",
      "[CV] END bootstrap=False, criterion=log_loss, max_depth=1, min_samples_leaf=2, min_samples_split=20, n_estimators=2171; total time=   2.4s\n",
      "[CV] END bootstrap=False, criterion=log_loss, max_depth=1, min_samples_leaf=2, min_samples_split=20, n_estimators=2171; total time=   2.4s\n",
      "[CV] END bootstrap=False, criterion=entropy, max_depth=75, min_samples_leaf=1, min_samples_split=1, n_estimators=1757; total time=   2.2s\n",
      "[CV] END bootstrap=True, criterion=entropy, max_depth=20, min_samples_leaf=4, min_samples_split=20, n_estimators=928; total time=   1.3s\n",
      "[CV] END bootstrap=False, criterion=log_loss, max_depth=150, min_samples_leaf=2, min_samples_split=30, n_estimators=721; total time=   0.8s\n",
      "[CV] END bootstrap=False, criterion=gini, max_depth=200, min_samples_leaf=4, min_samples_split=1, n_estimators=2792; total time=   3.2s\n",
      "[CV] END bootstrap=False, criterion=entropy, max_depth=200, min_samples_leaf=4, min_samples_split=1, n_estimators=2171; total time=   2.6s\n",
      "[CV] END bootstrap=True, criterion=log_loss, max_depth=10, min_samples_leaf=3, min_samples_split=15, n_estimators=1964; total time=   3.1s\n",
      "[CV] END bootstrap=True, criterion=log_loss, max_depth=10, min_samples_leaf=3, min_samples_split=15, n_estimators=1964; total time=   2.7s\n",
      "[CV] END bootstrap=True, criterion=gini, max_depth=1, min_samples_leaf=4, min_samples_split=2, n_estimators=1757; total time=   2.2s\n",
      "[CV] END bootstrap=False, criterion=gini, max_depth=150, min_samples_leaf=3, min_samples_split=2, n_estimators=1550; total time=   1.5s\n",
      "[CV] END bootstrap=True, criterion=gini, max_depth=1, min_samples_leaf=1, min_samples_split=15, n_estimators=3000; total time=   3.7s\n",
      "[CV] END bootstrap=True, criterion=gini, max_depth=1, min_samples_leaf=1, min_samples_split=15, n_estimators=3000; total time=   4.2s\n",
      "[CV] END bootstrap=True, criterion=gini, max_depth=10, min_samples_leaf=1, min_samples_split=2, n_estimators=2378; total time=   5.2s\n",
      "[CV] END bootstrap=True, criterion=entropy, max_depth=1, min_samples_leaf=3, min_samples_split=5, n_estimators=1342; total time=   2.0s\n",
      "[CV] END bootstrap=False, criterion=entropy, max_depth=10, min_samples_leaf=4, min_samples_split=20, n_estimators=1135; total time=   1.3s\n",
      "[CV] END bootstrap=False, criterion=entropy, max_depth=10, min_samples_leaf=4, min_samples_split=20, n_estimators=1135; total time=   1.2s\n",
      "[CV] END bootstrap=False, criterion=gini, max_depth=75, min_samples_leaf=2, min_samples_split=1, n_estimators=2378; total time=   2.6s\n",
      "[CV] END bootstrap=False, criterion=entropy, max_depth=100, min_samples_leaf=2, min_samples_split=30, n_estimators=2378; total time=   3.0s\n",
      "[CV] END bootstrap=False, criterion=entropy, max_depth=200, min_samples_leaf=2, min_samples_split=20, n_estimators=307; total time=   0.3s\n",
      "[CV] END bootstrap=False, criterion=entropy, max_depth=200, min_samples_leaf=2, min_samples_split=20, n_estimators=307; total time=   0.4s\n",
      "[CV] END bootstrap=False, criterion=gini, max_depth=10, min_samples_leaf=1, min_samples_split=10, n_estimators=2585; total time=   3.0s\n",
      "[CV] END bootstrap=False, criterion=gini, max_depth=10, min_samples_leaf=1, min_samples_split=10, n_estimators=2585; total time=   2.9s\n",
      "[CV] END bootstrap=True, criterion=log_loss, max_depth=75, min_samples_leaf=4, min_samples_split=20, n_estimators=1550; total time=   2.2s\n",
      "[CV] END bootstrap=False, criterion=gini, max_depth=5, min_samples_leaf=4, min_samples_split=1, n_estimators=1964; total time=   2.2s\n",
      "[CV] END bootstrap=False, criterion=gini, max_depth=5, min_samples_leaf=4, min_samples_split=1, n_estimators=1964; total time=   2.2s\n",
      "[CV] END bootstrap=False, criterion=gini, max_depth=1, min_samples_leaf=1, min_samples_split=20, n_estimators=1964; total time=   2.2s\n",
      "[CV] END bootstrap=False, criterion=log_loss, max_depth=200, min_samples_leaf=4, min_samples_split=30, n_estimators=2585; total time=   3.0s\n",
      "[CV] END bootstrap=False, criterion=entropy, max_depth=100, min_samples_leaf=2, min_samples_split=15, n_estimators=1342; total time=   1.7s\n",
      "[CV] END bootstrap=False, criterion=entropy, max_depth=5, min_samples_leaf=3, min_samples_split=20, n_estimators=1135; total time=   1.4s\n",
      "[CV] END bootstrap=False, criterion=entropy, max_depth=5, min_samples_leaf=3, min_samples_split=20, n_estimators=1135; total time=   1.4s\n",
      "[CV] END bootstrap=True, criterion=gini, max_depth=10, min_samples_leaf=2, min_samples_split=15, n_estimators=1757; total time=   2.6s\n",
      "[CV] END bootstrap=True, criterion=entropy, max_depth=1, min_samples_leaf=4, min_samples_split=1, n_estimators=514; total time=   0.8s\n",
      "[CV] END bootstrap=True, criterion=entropy, max_depth=1, min_samples_leaf=4, min_samples_split=1, n_estimators=514; total time=   0.8s\n",
      "[CV] END bootstrap=False, criterion=log_loss, max_depth=1, min_samples_leaf=2, min_samples_split=20, n_estimators=2171; total time=   2.4s\n",
      "[CV] END bootstrap=True, criterion=entropy, max_depth=20, min_samples_leaf=4, min_samples_split=10, n_estimators=100; total time=   0.2s\n",
      "[CV] END bootstrap=True, criterion=entropy, max_depth=20, min_samples_leaf=4, min_samples_split=10, n_estimators=100; total time=   0.1s\n",
      "[CV] END bootstrap=False, criterion=entropy, max_depth=75, min_samples_leaf=1, min_samples_split=1, n_estimators=1757; total time=   2.0s\n",
      "[CV] END bootstrap=True, criterion=entropy, max_depth=20, min_samples_leaf=4, min_samples_split=20, n_estimators=928; total time=   1.5s\n",
      "[CV] END bootstrap=True, criterion=entropy, max_depth=20, min_samples_leaf=4, min_samples_split=20, n_estimators=928; total time=   1.3s\n",
      "[CV] END bootstrap=False, criterion=log_loss, max_depth=150, min_samples_leaf=2, min_samples_split=30, n_estimators=721; total time=   0.8s\n",
      "[CV] END bootstrap=False, criterion=gini, max_depth=200, min_samples_leaf=4, min_samples_split=1, n_estimators=2792; total time=   3.2s\n",
      "[CV] END bootstrap=False, criterion=entropy, max_depth=200, min_samples_leaf=4, min_samples_split=1, n_estimators=2171; total time=   2.6s\n",
      "[CV] END bootstrap=False, criterion=entropy, max_depth=200, min_samples_leaf=4, min_samples_split=1, n_estimators=2171; total time=   2.7s\n",
      "[CV] END bootstrap=True, criterion=log_loss, max_depth=10, min_samples_leaf=3, min_samples_split=15, n_estimators=1964; total time=   2.9s\n"
     ]
    },
    {
     "name": "stdout",
     "output_type": "stream",
     "text": [
      "Fitting 5 folds for each of 360 candidates, totalling 1800 fits\n",
      "[CV] END max_depth=1, min_samples_leaf=3, min_samples_split=1, n_estimators=1900; total time=   3.4s\n",
      "[CV] END max_depth=1, min_samples_leaf=3, min_samples_split=1, n_estimators=1950; total time=   3.6s\n",
      "[CV] END max_depth=1, min_samples_leaf=3, min_samples_split=1, n_estimators=2050; total time=   4.4s\n",
      "[CV] END max_depth=1, min_samples_leaf=3, min_samples_split=1, n_estimators=2100; total time=   4.4s\n",
      "[CV] END max_depth=1, min_samples_leaf=3, min_samples_split=2, n_estimators=2000; total time=   4.0s\n",
      "[CV] END max_depth=1, min_samples_leaf=3, min_samples_split=2, n_estimators=2100; total time=   4.7s\n",
      "[CV] END max_depth=1, min_samples_leaf=3, min_samples_split=3, n_estimators=1900; total time=   4.0s\n",
      "[CV] END max_depth=1, min_samples_leaf=3, min_samples_split=3, n_estimators=2000; total time=   4.1s\n",
      "[CV] END max_depth=1, min_samples_leaf=3, min_samples_split=3, n_estimators=2050; total time=   4.2s\n",
      "[CV] END max_depth=1, min_samples_leaf=4, min_samples_split=1, n_estimators=1900; total time=   4.1s\n",
      "[CV] END max_depth=1, min_samples_leaf=4, min_samples_split=1, n_estimators=1950; total time=   4.5s\n",
      "[CV] END max_depth=1, min_samples_leaf=4, min_samples_split=1, n_estimators=2050; total time=   4.5s\n",
      "[CV] END max_depth=1, min_samples_leaf=4, min_samples_split=1, n_estimators=2100; total time=   4.4s\n",
      "[CV] END max_depth=1, min_samples_leaf=4, min_samples_split=2, n_estimators=1950; total time=   4.3s\n",
      "[CV] END max_depth=1, min_samples_leaf=4, min_samples_split=2, n_estimators=2050; total time=   4.4s\n",
      "[CV] END max_depth=1, min_samples_leaf=4, min_samples_split=2, n_estimators=2100; total time=   4.3s\n",
      "[CV] END max_depth=1, min_samples_leaf=4, min_samples_split=3, n_estimators=1950; total time=   4.3s\n",
      "[CV] END max_depth=1, min_samples_leaf=4, min_samples_split=3, n_estimators=2050; total time=   4.6s\n",
      "[CV] END max_depth=1, min_samples_leaf=4, min_samples_split=3, n_estimators=2100; total time=   5.0s\n",
      "[CV] END max_depth=1, min_samples_leaf=5, min_samples_split=1, n_estimators=1950; total time=   4.3s\n",
      "[CV] END max_depth=1, min_samples_leaf=5, min_samples_split=1, n_estimators=2050; total time=   4.9s\n",
      "[CV] END max_depth=1, min_samples_leaf=5, min_samples_split=1, n_estimators=2100; total time=   5.6s\n",
      "[CV] END max_depth=1, min_samples_leaf=5, min_samples_split=2, n_estimators=1950; total time=   4.8s\n",
      "[CV] END max_depth=1, min_samples_leaf=5, min_samples_split=2, n_estimators=2050; total time=   4.2s\n",
      "[CV] END max_depth=1, min_samples_leaf=5, min_samples_split=2, n_estimators=2100; total time=   5.4s\n",
      "[CV] END max_depth=1, min_samples_leaf=5, min_samples_split=3, n_estimators=1950; total time=   5.4s\n",
      "[CV] END max_depth=1, min_samples_leaf=5, min_samples_split=3, n_estimators=2000; total time=   5.1s\n",
      "[CV] END max_depth=1, min_samples_leaf=5, min_samples_split=3, n_estimators=2100; total time=   5.0s\n",
      "[CV] END max_depth=1, min_samples_leaf=6, min_samples_split=1, n_estimators=1900; total time=   4.6s\n",
      "[CV] END max_depth=1, min_samples_leaf=6, min_samples_split=1, n_estimators=2000; total time=   4.6s\n",
      "[CV] END max_depth=1, min_samples_leaf=6, min_samples_split=1, n_estimators=2100; total time=   4.5s\n",
      "[CV] END max_depth=1, min_samples_leaf=6, min_samples_split=2, n_estimators=1900; total time=   4.0s\n",
      "[CV] END max_depth=1, min_samples_leaf=6, min_samples_split=2, n_estimators=2000; total time=   4.4s\n",
      "[CV] END max_depth=1, min_samples_leaf=6, min_samples_split=2, n_estimators=2050; total time=   5.0s\n",
      "[CV] END max_depth=1, min_samples_leaf=6, min_samples_split=3, n_estimators=1900; total time=   5.0s\n",
      "[CV] END max_depth=1, min_samples_leaf=6, min_samples_split=3, n_estimators=2000; total time=   4.8s\n",
      "[CV] END max_depth=1, min_samples_leaf=6, min_samples_split=3, n_estimators=2050; total time=   4.8s\n",
      "[CV] END max_depth=2, min_samples_leaf=3, min_samples_split=1, n_estimators=1900; total time=   4.4s\n",
      "[CV] END max_depth=2, min_samples_leaf=3, min_samples_split=1, n_estimators=1950; total time=   4.4s\n",
      "[CV] END max_depth=2, min_samples_leaf=3, min_samples_split=1, n_estimators=2050; total time=   4.8s\n",
      "[CV] END max_depth=2, min_samples_leaf=3, min_samples_split=2, n_estimators=1900; total time=   4.5s\n",
      "[CV] END max_depth=2, min_samples_leaf=3, min_samples_split=2, n_estimators=1950; total time=   4.7s\n",
      "[CV] END max_depth=2, min_samples_leaf=3, min_samples_split=2, n_estimators=2000; total time=   4.8s\n",
      "[CV] END max_depth=2, min_samples_leaf=3, min_samples_split=2, n_estimators=2100; total time=   5.0s\n",
      "[CV] END max_depth=2, min_samples_leaf=3, min_samples_split=3, n_estimators=1900; total time=   4.6s\n",
      "[CV] END max_depth=2, min_samples_leaf=3, min_samples_split=3, n_estimators=2000; total time=   4.7s\n",
      "[CV] END max_depth=2, min_samples_leaf=3, min_samples_split=3, n_estimators=2100; total time=   5.0s\n",
      "[CV] END max_depth=2, min_samples_leaf=4, min_samples_split=1, n_estimators=1900; total time=   5.1s\n",
      "[CV] END max_depth=2, min_samples_leaf=4, min_samples_split=1, n_estimators=2000; total time=   5.0s\n",
      "[CV] END max_depth=2, min_samples_leaf=4, min_samples_split=1, n_estimators=2050; total time=   5.5s\n",
      "[CV] END max_depth=2, min_samples_leaf=4, min_samples_split=2, n_estimators=1900; total time=   4.7s\n",
      "[CV] END max_depth=2, min_samples_leaf=4, min_samples_split=2, n_estimators=2000; total time=   5.4s\n",
      "[CV] END max_depth=2, min_samples_leaf=4, min_samples_split=2, n_estimators=2050; total time=   5.7s\n",
      "[CV] END max_depth=2, min_samples_leaf=4, min_samples_split=3, n_estimators=1900; total time=   6.9s\n",
      "[CV] END max_depth=2, min_samples_leaf=4, min_samples_split=3, n_estimators=1950; total time=   4.8s\n",
      "[CV] END max_depth=2, min_samples_leaf=4, min_samples_split=3, n_estimators=2050; total time=   5.5s\n",
      "[CV] END max_depth=2, min_samples_leaf=4, min_samples_split=3, n_estimators=2100; total time=   5.4s\n",
      "[CV] END max_depth=2, min_samples_leaf=5, min_samples_split=1, n_estimators=1950; total time=   5.3s\n",
      "[CV] END max_depth=2, min_samples_leaf=5, min_samples_split=1, n_estimators=2050; total time=   4.8s\n",
      "[CV] END max_depth=2, min_samples_leaf=5, min_samples_split=2, n_estimators=1900; total time=   4.4s\n",
      "[CV] END max_depth=2, min_samples_leaf=5, min_samples_split=2, n_estimators=1950; total time=   4.4s\n",
      "[CV] END max_depth=2, min_samples_leaf=5, min_samples_split=2, n_estimators=2000; total time=   4.6s\n",
      "[CV] END max_depth=2, min_samples_leaf=5, min_samples_split=2, n_estimators=2100; total time=   4.8s\n",
      "[CV] END max_depth=2, min_samples_leaf=5, min_samples_split=3, n_estimators=1950; total time=   5.4s\n",
      "[CV] END max_depth=2, min_samples_leaf=5, min_samples_split=3, n_estimators=2000; total time=   6.1s\n",
      "[CV] END max_depth=2, min_samples_leaf=5, min_samples_split=3, n_estimators=2100; total time=   6.0s\n",
      "[CV] END max_depth=2, min_samples_leaf=6, min_samples_split=1, n_estimators=1900; total time=   5.2s\n",
      "[CV] END max_depth=2, min_samples_leaf=6, min_samples_split=1, n_estimators=2000; total time=   5.4s\n",
      "[CV] END max_depth=2, min_samples_leaf=6, min_samples_split=1, n_estimators=2100; total time=   6.9s\n",
      "[CV] END max_depth=2, min_samples_leaf=6, min_samples_split=2, n_estimators=1900; total time=   6.7s\n",
      "[CV] END max_depth=2, min_samples_leaf=6, min_samples_split=2, n_estimators=2000; total time=   5.5s\n",
      "[CV] END max_depth=2, min_samples_leaf=6, min_samples_split=2, n_estimators=2050; total time=   5.7s\n",
      "[CV] END max_depth=2, min_samples_leaf=6, min_samples_split=3, n_estimators=1900; total time=   4.8s\n",
      "[CV] END max_depth=2, min_samples_leaf=6, min_samples_split=3, n_estimators=2000; total time=   5.1s\n",
      "[CV] END max_depth=2, min_samples_leaf=6, min_samples_split=3, n_estimators=2050; total time=   5.2s\n",
      "[CV] END max_depth=3, min_samples_leaf=3, min_samples_split=1, n_estimators=1900; total time=   4.8s\n",
      "[CV] END max_depth=3, min_samples_leaf=3, min_samples_split=1, n_estimators=1950; total time=   5.3s\n",
      "[CV] END max_depth=3, min_samples_leaf=3, min_samples_split=1, n_estimators=2050; total time=   5.6s\n",
      "[CV] END max_depth=3, min_samples_leaf=3, min_samples_split=2, n_estimators=1900; total time=   5.5s\n",
      "[CV] END max_depth=3, min_samples_leaf=3, min_samples_split=2, n_estimators=1950; total time=   5.9s\n",
      "[CV] END max_depth=3, min_samples_leaf=3, min_samples_split=2, n_estimators=2050; total time=   6.1s\n"
     ]
    },
    {
     "name": "stdout",
     "output_type": "stream",
     "text": [
      "[CV] END max_depth=3, min_samples_leaf=3, min_samples_split=2, n_estimators=2100; total time=   6.7s[CV] END max_depth=1, min_samples_leaf=3, min_samples_split=1, n_estimators=1900; total time=   3.5s\n",
      "[CV] END max_depth=1, min_samples_leaf=3, min_samples_split=1, n_estimators=2000; total time=   3.7s\n",
      "[CV] END max_depth=1, min_samples_leaf=3, min_samples_split=1, n_estimators=2100; total time=   4.5s\n",
      "[CV] END max_depth=1, min_samples_leaf=3, min_samples_split=2, n_estimators=1900; total time=   3.9s\n",
      "[CV] END max_depth=1, min_samples_leaf=3, min_samples_split=2, n_estimators=2000; total time=   4.0s\n",
      "[CV] END max_depth=1, min_samples_leaf=3, min_samples_split=2, n_estimators=2050; total time=   4.5s\n",
      "[CV] END max_depth=1, min_samples_leaf=3, min_samples_split=3, n_estimators=1900; total time=   4.0s\n",
      "[CV] END max_depth=1, min_samples_leaf=3, min_samples_split=3, n_estimators=1950; total time=   3.9s\n",
      "[CV] END max_depth=1, min_samples_leaf=3, min_samples_split=3, n_estimators=2050; total time=   4.2s\n",
      "[CV] END max_depth=1, min_samples_leaf=3, min_samples_split=3, n_estimators=2100; total time=   4.5s\n",
      "[CV] END max_depth=1, min_samples_leaf=4, min_samples_split=1, n_estimators=1950; total time=   4.5s\n",
      "[CV] END max_depth=1, min_samples_leaf=4, min_samples_split=1, n_estimators=2050; total time=   4.6s\n",
      "[CV] END max_depth=1, min_samples_leaf=4, min_samples_split=2, n_estimators=1900; total time=   4.0s\n",
      "[CV] END max_depth=1, min_samples_leaf=4, min_samples_split=2, n_estimators=1900; total time=   4.1s\n",
      "[CV] END max_depth=1, min_samples_leaf=4, min_samples_split=2, n_estimators=2000; total time=   4.3s\n",
      "[CV] END max_depth=1, min_samples_leaf=4, min_samples_split=2, n_estimators=2100; total time=   4.4s\n",
      "[CV] END max_depth=1, min_samples_leaf=4, min_samples_split=3, n_estimators=1900; total time=   4.1s\n",
      "[CV] END max_depth=1, min_samples_leaf=4, min_samples_split=3, n_estimators=2000; total time=   4.5s\n",
      "[CV] END max_depth=1, min_samples_leaf=4, min_samples_split=3, n_estimators=2050; total time=   5.0s\n",
      "[CV] END max_depth=1, min_samples_leaf=5, min_samples_split=1, n_estimators=1900; total time=   4.2s\n",
      "[CV] END max_depth=1, min_samples_leaf=5, min_samples_split=1, n_estimators=2000; total time=   4.8s\n",
      "[CV] END max_depth=1, min_samples_leaf=5, min_samples_split=1, n_estimators=2050; total time=   5.4s\n",
      "[CV] END max_depth=1, min_samples_leaf=5, min_samples_split=2, n_estimators=1900; total time=   5.0s\n",
      "[CV] END max_depth=1, min_samples_leaf=5, min_samples_split=2, n_estimators=1950; total time=   4.0s\n",
      "[CV] END max_depth=1, min_samples_leaf=5, min_samples_split=2, n_estimators=2050; total time=   4.6s\n",
      "[CV] END max_depth=1, min_samples_leaf=5, min_samples_split=3, n_estimators=1900; total time=   5.4s\n",
      "[CV] END max_depth=1, min_samples_leaf=5, min_samples_split=3, n_estimators=1950; total time=   5.1s\n",
      "[CV] END max_depth=1, min_samples_leaf=5, min_samples_split=3, n_estimators=2050; total time=   5.2s\n",
      "[CV] END max_depth=1, min_samples_leaf=5, min_samples_split=3, n_estimators=2100; total time=   4.8s\n",
      "[CV] END max_depth=1, min_samples_leaf=6, min_samples_split=1, n_estimators=1950; total time=   4.7s\n",
      "[CV] END max_depth=1, min_samples_leaf=6, min_samples_split=1, n_estimators=2050; total time=   4.5s\n",
      "[CV] END max_depth=1, min_samples_leaf=6, min_samples_split=1, n_estimators=2100; total time=   4.3s\n",
      "[CV] END max_depth=1, min_samples_leaf=6, min_samples_split=2, n_estimators=1950; total time=   4.4s\n",
      "[CV] END max_depth=1, min_samples_leaf=6, min_samples_split=2, n_estimators=2050; total time=   4.9s\n",
      "[CV] END max_depth=1, min_samples_leaf=6, min_samples_split=2, n_estimators=2100; total time=   5.5s\n",
      "[CV] END max_depth=1, min_samples_leaf=6, min_samples_split=3, n_estimators=1950; total time=   4.7s\n",
      "[CV] END max_depth=1, min_samples_leaf=6, min_samples_split=3, n_estimators=2050; total time=   4.8s\n",
      "[CV] END max_depth=1, min_samples_leaf=6, min_samples_split=3, n_estimators=2100; total time=   5.0s\n",
      "[CV] END max_depth=2, min_samples_leaf=3, min_samples_split=1, n_estimators=1950; total time=   4.4s\n",
      "[CV] END max_depth=2, min_samples_leaf=3, min_samples_split=1, n_estimators=2000; total time=   4.7s\n",
      "[CV] END max_depth=2, min_samples_leaf=3, min_samples_split=1, n_estimators=2100; total time=   5.0s\n",
      "[CV] END max_depth=2, min_samples_leaf=3, min_samples_split=2, n_estimators=1950; total time=   4.7s\n",
      "[CV] END max_depth=2, min_samples_leaf=3, min_samples_split=2, n_estimators=2000; total time=   4.8s\n",
      "[CV] END max_depth=2, min_samples_leaf=3, min_samples_split=2, n_estimators=2100; total time=   5.0s\n",
      "[CV] END max_depth=2, min_samples_leaf=3, min_samples_split=3, n_estimators=1950; total time=   4.7s\n",
      "[CV] END max_depth=2, min_samples_leaf=3, min_samples_split=3, n_estimators=2000; total time=   4.7s\n",
      "[CV] END max_depth=2, min_samples_leaf=3, min_samples_split=3, n_estimators=2100; total time=   5.1s\n",
      "[CV] END max_depth=2, min_samples_leaf=4, min_samples_split=1, n_estimators=1900; total time=   5.2s\n",
      "[CV] END max_depth=2, min_samples_leaf=4, min_samples_split=1, n_estimators=2000; total time=   5.0s\n",
      "[CV] END max_depth=2, min_samples_leaf=4, min_samples_split=1, n_estimators=2100; total time=   5.5s\n",
      "[CV] END max_depth=2, min_samples_leaf=4, min_samples_split=2, n_estimators=1900; total time=   4.7s\n",
      "[CV] END max_depth=2, min_samples_leaf=4, min_samples_split=2, n_estimators=2000; total time=   5.3s\n",
      "[CV] END max_depth=2, min_samples_leaf=4, min_samples_split=2, n_estimators=2050; total time=   5.9s\n",
      "[CV] END max_depth=2, min_samples_leaf=4, min_samples_split=3, n_estimators=1900; total time=   6.8s\n",
      "[CV] END max_depth=2, min_samples_leaf=4, min_samples_split=3, n_estimators=2000; total time=   4.8s\n",
      "[CV] END max_depth=2, min_samples_leaf=4, min_samples_split=3, n_estimators=2050; total time=   5.5s\n",
      "[CV] END max_depth=2, min_samples_leaf=5, min_samples_split=1, n_estimators=1900; total time=   4.9s\n",
      "[CV] END max_depth=2, min_samples_leaf=5, min_samples_split=1, n_estimators=1950; total time=   5.2s\n",
      "[CV] END max_depth=2, min_samples_leaf=5, min_samples_split=1, n_estimators=2050; total time=   4.8s\n",
      "[CV] END max_depth=2, min_samples_leaf=5, min_samples_split=1, n_estimators=2100; total time=   4.9s\n",
      "[CV] END max_depth=2, min_samples_leaf=5, min_samples_split=2, n_estimators=1950; total time=   4.4s\n",
      "[CV] END max_depth=2, min_samples_leaf=5, min_samples_split=2, n_estimators=2050; total time=   4.7s\n",
      "[CV] END max_depth=2, min_samples_leaf=5, min_samples_split=2, n_estimators=2100; total time=   4.9s\n",
      "[CV] END max_depth=2, min_samples_leaf=5, min_samples_split=3, n_estimators=1950; total time=   5.4s\n",
      "[CV] END max_depth=2, min_samples_leaf=5, min_samples_split=3, n_estimators=2050; total time=   6.4s\n",
      "[CV] END max_depth=2, min_samples_leaf=5, min_samples_split=3, n_estimators=2100; total time=   5.9s\n",
      "[CV] END max_depth=2, min_samples_leaf=6, min_samples_split=1, n_estimators=1950; total time=   5.4s\n",
      "[CV] END max_depth=2, min_samples_leaf=6, min_samples_split=1, n_estimators=2050; total time=   5.5s\n",
      "[CV] END max_depth=2, min_samples_leaf=6, min_samples_split=1, n_estimators=2100; total time=   7.4s\n",
      "[CV] END max_depth=2, min_samples_leaf=6, min_samples_split=2, n_estimators=1950; total time=   6.5s\n",
      "[CV] END max_depth=2, min_samples_leaf=6, min_samples_split=2, n_estimators=2000; total time=   5.5s\n",
      "[CV] END max_depth=2, min_samples_leaf=6, min_samples_split=2, n_estimators=2100; total time=   5.7s\n",
      "[CV] END max_depth=2, min_samples_leaf=6, min_samples_split=3, n_estimators=1950; total time=   5.0s\n",
      "[CV] END max_depth=2, min_samples_leaf=6, min_samples_split=3, n_estimators=2000; total time=   5.2s\n",
      "[CV] END max_depth=2, min_samples_leaf=6, min_samples_split=3, n_estimators=2100; total time=   5.2s\n",
      "[CV] END max_depth=3, min_samples_leaf=3, min_samples_split=1, n_estimators=1900; total time=   4.8s\n",
      "[CV] END max_depth=3, min_samples_leaf=3, min_samples_split=1, n_estimators=2000; total time=   5.5s\n",
      "[CV] END max_depth=3, min_samples_leaf=3, min_samples_split=1, n_estimators=2100; total time=   5.8s\n",
      "[CV] END max_depth=3, min_samples_leaf=3, min_samples_split=2, n_estimators=1900; total time=   5.9s\n",
      "[CV] END max_depth=3, min_samples_leaf=3, min_samples_split=2, n_estimators=2000; total time=   5.9s\n",
      "[CV] END max_depth=3, min_samples_leaf=3, min_samples_split=2, n_estimators=2050; total time=   6.3s\n"
     ]
    },
    {
     "name": "stdout",
     "output_type": "stream",
     "text": [
      "[CV] END max_depth=3, min_samples_leaf=3, min_samples_split=3, n_estimators=1900; total time=   6.0s[CV] END max_depth=1, min_samples_leaf=3, min_samples_split=1, n_estimators=1900; total time=   3.5s\n",
      "[CV] END max_depth=1, min_samples_leaf=3, min_samples_split=1, n_estimators=2000; total time=   3.7s\n",
      "[CV] END max_depth=1, min_samples_leaf=3, min_samples_split=1, n_estimators=2050; total time=   4.4s\n",
      "[CV] END max_depth=1, min_samples_leaf=3, min_samples_split=2, n_estimators=1900; total time=   4.0s\n",
      "[CV] END max_depth=1, min_samples_leaf=3, min_samples_split=2, n_estimators=1950; total time=   3.9s\n",
      "[CV] END max_depth=1, min_samples_leaf=3, min_samples_split=2, n_estimators=2050; total time=   4.5s\n",
      "[CV] END max_depth=1, min_samples_leaf=3, min_samples_split=2, n_estimators=2100; total time=   4.4s\n",
      "[CV] END max_depth=1, min_samples_leaf=3, min_samples_split=3, n_estimators=2000; total time=   4.0s\n",
      "[CV] END max_depth=1, min_samples_leaf=3, min_samples_split=3, n_estimators=2050; total time=   4.2s\n",
      "[CV] END max_depth=1, min_samples_leaf=4, min_samples_split=1, n_estimators=1900; total time=   4.1s\n",
      "[CV] END max_depth=1, min_samples_leaf=4, min_samples_split=1, n_estimators=1950; total time=   4.4s\n",
      "[CV] END max_depth=1, min_samples_leaf=4, min_samples_split=1, n_estimators=2050; total time=   4.5s\n",
      "[CV] END max_depth=1, min_samples_leaf=4, min_samples_split=1, n_estimators=2100; total time=   4.4s\n",
      "[CV] END max_depth=1, min_samples_leaf=4, min_samples_split=2, n_estimators=1950; total time=   4.3s\n",
      "[CV] END max_depth=1, min_samples_leaf=4, min_samples_split=2, n_estimators=2050; total time=   4.4s\n",
      "[CV] END max_depth=1, min_samples_leaf=4, min_samples_split=3, n_estimators=1900; total time=   4.0s\n",
      "[CV] END max_depth=1, min_samples_leaf=4, min_samples_split=3, n_estimators=1950; total time=   4.2s\n",
      "[CV] END max_depth=1, min_samples_leaf=4, min_samples_split=3, n_estimators=2000; total time=   4.5s\n",
      "[CV] END max_depth=1, min_samples_leaf=4, min_samples_split=3, n_estimators=2100; total time=   5.0s\n",
      "[CV] END max_depth=1, min_samples_leaf=5, min_samples_split=1, n_estimators=1900; total time=   4.2s\n",
      "[CV] END max_depth=1, min_samples_leaf=5, min_samples_split=1, n_estimators=2000; total time=   4.8s\n",
      "[CV] END max_depth=1, min_samples_leaf=5, min_samples_split=1, n_estimators=2100; total time=   5.6s\n",
      "[CV] END max_depth=1, min_samples_leaf=5, min_samples_split=2, n_estimators=1900; total time=   4.9s\n",
      "[CV] END max_depth=1, min_samples_leaf=5, min_samples_split=2, n_estimators=2000; total time=   4.1s\n",
      "[CV] END max_depth=1, min_samples_leaf=5, min_samples_split=2, n_estimators=2050; total time=   4.9s\n",
      "[CV] END max_depth=1, min_samples_leaf=5, min_samples_split=3, n_estimators=1900; total time=   5.5s\n",
      "[CV] END max_depth=1, min_samples_leaf=5, min_samples_split=3, n_estimators=2000; total time=   5.2s\n",
      "[CV] END max_depth=1, min_samples_leaf=5, min_samples_split=3, n_estimators=2050; total time=   5.0s\n",
      "[CV] END max_depth=1, min_samples_leaf=6, min_samples_split=1, n_estimators=1900; total time=   4.5s\n",
      "[CV] END max_depth=1, min_samples_leaf=6, min_samples_split=1, n_estimators=1950; total time=   4.7s\n",
      "[CV] END max_depth=1, min_samples_leaf=6, min_samples_split=1, n_estimators=2050; total time=   4.5s\n",
      "[CV] END max_depth=1, min_samples_leaf=6, min_samples_split=2, n_estimators=1900; total time=   3.9s\n",
      "[CV] END max_depth=1, min_samples_leaf=6, min_samples_split=2, n_estimators=1950; total time=   4.4s\n",
      "[CV] END max_depth=1, min_samples_leaf=6, min_samples_split=2, n_estimators=2000; total time=   4.8s\n",
      "[CV] END max_depth=1, min_samples_leaf=6, min_samples_split=2, n_estimators=2100; total time=   5.5s\n",
      "[CV] END max_depth=1, min_samples_leaf=6, min_samples_split=3, n_estimators=1950; total time=   4.7s\n",
      "[CV] END max_depth=1, min_samples_leaf=6, min_samples_split=3, n_estimators=2000; total time=   4.6s\n",
      "[CV] END max_depth=1, min_samples_leaf=6, min_samples_split=3, n_estimators=2100; total time=   5.1s\n",
      "[CV] END max_depth=2, min_samples_leaf=3, min_samples_split=1, n_estimators=1900; total time=   4.3s\n",
      "[CV] END max_depth=2, min_samples_leaf=3, min_samples_split=1, n_estimators=2000; total time=   4.7s\n",
      "[CV] END max_depth=2, min_samples_leaf=3, min_samples_split=1, n_estimators=2100; total time=   5.0s\n",
      "[CV] END max_depth=2, min_samples_leaf=3, min_samples_split=2, n_estimators=1900; total time=   4.6s\n",
      "[CV] END max_depth=2, min_samples_leaf=3, min_samples_split=2, n_estimators=2000; total time=   4.8s\n",
      "[CV] END max_depth=2, min_samples_leaf=3, min_samples_split=2, n_estimators=2050; total time=   4.9s\n",
      "[CV] END max_depth=2, min_samples_leaf=3, min_samples_split=3, n_estimators=1900; total time=   4.6s\n",
      "[CV] END max_depth=2, min_samples_leaf=3, min_samples_split=3, n_estimators=2000; total time=   4.7s\n",
      "[CV] END max_depth=2, min_samples_leaf=3, min_samples_split=3, n_estimators=2050; total time=   4.8s\n",
      "[CV] END max_depth=2, min_samples_leaf=4, min_samples_split=1, n_estimators=1900; total time=   5.3s\n",
      "[CV] END max_depth=2, min_samples_leaf=4, min_samples_split=1, n_estimators=1950; total time=   4.9s\n",
      "[CV] END max_depth=2, min_samples_leaf=4, min_samples_split=1, n_estimators=2050; total time=   5.6s\n",
      "[CV] END max_depth=2, min_samples_leaf=4, min_samples_split=2, n_estimators=1900; total time=   4.7s\n",
      "[CV] END max_depth=2, min_samples_leaf=4, min_samples_split=2, n_estimators=1950; total time=   5.4s\n",
      "[CV] END max_depth=2, min_samples_leaf=4, min_samples_split=2, n_estimators=2050; total time=   5.4s\n",
      "[CV] END max_depth=2, min_samples_leaf=4, min_samples_split=2, n_estimators=2100; total time=   7.6s\n",
      "[CV] END max_depth=2, min_samples_leaf=4, min_samples_split=3, n_estimators=1950; total time=   4.7s\n",
      "[CV] END max_depth=2, min_samples_leaf=4, min_samples_split=3, n_estimators=2050; total time=   5.5s\n",
      "[CV] END max_depth=2, min_samples_leaf=5, min_samples_split=1, n_estimators=1900; total time=   4.9s\n",
      "[CV] END max_depth=2, min_samples_leaf=5, min_samples_split=1, n_estimators=1950; total time=   5.3s\n",
      "[CV] END max_depth=2, min_samples_leaf=5, min_samples_split=1, n_estimators=2000; total time=   4.7s\n",
      "[CV] END max_depth=2, min_samples_leaf=5, min_samples_split=1, n_estimators=2100; total time=   4.9s\n",
      "[CV] END max_depth=2, min_samples_leaf=5, min_samples_split=2, n_estimators=1950; total time=   4.4s\n",
      "[CV] END max_depth=2, min_samples_leaf=5, min_samples_split=2, n_estimators=2000; total time=   4.6s\n",
      "[CV] END max_depth=2, min_samples_leaf=5, min_samples_split=2, n_estimators=2100; total time=   4.8s\n",
      "[CV] END max_depth=2, min_samples_leaf=5, min_samples_split=3, n_estimators=1900; total time=   5.2s\n",
      "[CV] END max_depth=2, min_samples_leaf=5, min_samples_split=3, n_estimators=2000; total time=   5.9s\n",
      "[CV] END max_depth=2, min_samples_leaf=5, min_samples_split=3, n_estimators=2100; total time=   6.2s\n",
      "[CV] END max_depth=2, min_samples_leaf=6, min_samples_split=1, n_estimators=1900; total time=   5.3s\n",
      "[CV] END max_depth=2, min_samples_leaf=6, min_samples_split=1, n_estimators=2000; total time=   5.4s\n",
      "[CV] END max_depth=2, min_samples_leaf=6, min_samples_split=1, n_estimators=2050; total time=   6.6s\n",
      "[CV] END max_depth=2, min_samples_leaf=6, min_samples_split=2, n_estimators=1900; total time=   6.7s\n",
      "[CV] END max_depth=2, min_samples_leaf=6, min_samples_split=2, n_estimators=2000; total time=   5.5s\n",
      "[CV] END max_depth=2, min_samples_leaf=6, min_samples_split=2, n_estimators=2050; total time=   5.8s\n",
      "[CV] END max_depth=2, min_samples_leaf=6, min_samples_split=3, n_estimators=1900; total time=   4.8s\n",
      "[CV] END max_depth=2, min_samples_leaf=6, min_samples_split=3, n_estimators=1950; total time=   5.1s\n",
      "[CV] END max_depth=2, min_samples_leaf=6, min_samples_split=3, n_estimators=2050; total time=   5.2s\n",
      "[CV] END max_depth=3, min_samples_leaf=3, min_samples_split=1, n_estimators=1900; total time=   4.7s\n",
      "[CV] END max_depth=3, min_samples_leaf=3, min_samples_split=1, n_estimators=1950; total time=   5.2s\n",
      "[CV] END max_depth=3, min_samples_leaf=3, min_samples_split=1, n_estimators=2050; total time=   5.7s\n",
      "[CV] END max_depth=3, min_samples_leaf=3, min_samples_split=1, n_estimators=2100; total time=   6.1s\n",
      "[CV] END max_depth=3, min_samples_leaf=3, min_samples_split=2, n_estimators=1950; total time=   5.9s\n",
      "[CV] END max_depth=3, min_samples_leaf=3, min_samples_split=2, n_estimators=2050; total time=   6.3s\n",
      "[CV] END max_depth=3, min_samples_leaf=3, min_samples_split=2, n_estimators=2100; total time=   6.5s[CV] END max_depth=1, min_samples_leaf=3, min_samples_split=1, n_estimators=1950; total time=   3.5s\n",
      "[CV] END max_depth=1, min_samples_leaf=3, min_samples_split=1, n_estimators=2000; total time=   3.7s\n",
      "[CV] END max_depth=1, min_samples_leaf=3, min_samples_split=1, n_estimators=2100; total time=   4.5s\n",
      "[CV] END max_depth=1, min_samples_leaf=3, min_samples_split=2, n_estimators=1900; total time=   3.9s\n",
      "[CV] END max_depth=1, min_samples_leaf=3, min_samples_split=2, n_estimators=2000; total time=   4.0s\n",
      "[CV] END max_depth=1, min_samples_leaf=3, min_samples_split=2, n_estimators=2050; total time=   4.5s\n",
      "[CV] END max_depth=1, min_samples_leaf=3, min_samples_split=3, n_estimators=1900; total time=   4.0s\n",
      "[CV] END max_depth=1, min_samples_leaf=3, min_samples_split=3, n_estimators=1950; total time=   4.0s\n",
      "[CV] END max_depth=1, min_samples_leaf=3, min_samples_split=3, n_estimators=2050; total time=   4.2s\n",
      "[CV] END max_depth=1, min_samples_leaf=4, min_samples_split=1, n_estimators=1900; total time=   4.1s\n",
      "[CV] END max_depth=1, min_samples_leaf=4, min_samples_split=1, n_estimators=1950; total time=   4.4s\n",
      "[CV] END max_depth=1, min_samples_leaf=4, min_samples_split=1, n_estimators=2000; total time=   4.4s\n",
      "[CV] END max_depth=1, min_samples_leaf=4, min_samples_split=1, n_estimators=2100; total time=   4.5s\n",
      "[CV] END max_depth=1, min_samples_leaf=4, min_samples_split=2, n_estimators=1950; total time=   4.3s\n",
      "[CV] END max_depth=1, min_samples_leaf=4, min_samples_split=2, n_estimators=2000; total time=   4.3s\n",
      "[CV] END max_depth=1, min_samples_leaf=4, min_samples_split=2, n_estimators=2100; total time=   4.4s\n",
      "[CV] END max_depth=1, min_samples_leaf=4, min_samples_split=3, n_estimators=1950; total time=   4.3s\n",
      "[CV] END max_depth=1, min_samples_leaf=4, min_samples_split=3, n_estimators=2000; total time=   4.5s\n",
      "[CV] END max_depth=1, min_samples_leaf=4, min_samples_split=3, n_estimators=2100; total time=   5.0s\n",
      "[CV] END max_depth=1, min_samples_leaf=5, min_samples_split=1, n_estimators=1950; total time=   4.3s\n",
      "[CV] END max_depth=1, min_samples_leaf=5, min_samples_split=1, n_estimators=2000; total time=   4.8s\n",
      "[CV] END max_depth=1, min_samples_leaf=5, min_samples_split=1, n_estimators=2100; total time=   5.6s\n",
      "[CV] END max_depth=1, min_samples_leaf=5, min_samples_split=2, n_estimators=1900; total time=   4.8s\n",
      "[CV] END max_depth=1, min_samples_leaf=5, min_samples_split=2, n_estimators=2000; total time=   4.1s\n",
      "[CV] END max_depth=1, min_samples_leaf=5, min_samples_split=2, n_estimators=2100; total time=   5.3s\n",
      "[CV] END max_depth=1, min_samples_leaf=5, min_samples_split=3, n_estimators=1900; total time=   5.4s\n",
      "[CV] END max_depth=1, min_samples_leaf=5, min_samples_split=3, n_estimators=2000; total time=   5.2s\n",
      "[CV] END max_depth=1, min_samples_leaf=5, min_samples_split=3, n_estimators=2050; total time=   4.8s\n",
      "[CV] END max_depth=1, min_samples_leaf=6, min_samples_split=1, n_estimators=1900; total time=   4.5s\n",
      "[CV] END max_depth=1, min_samples_leaf=6, min_samples_split=1, n_estimators=2000; total time=   4.8s\n",
      "[CV] END max_depth=1, min_samples_leaf=6, min_samples_split=1, n_estimators=2050; total time=   4.5s\n",
      "[CV] END max_depth=1, min_samples_leaf=6, min_samples_split=2, n_estimators=1900; total time=   3.9s\n",
      "[CV] END max_depth=1, min_samples_leaf=6, min_samples_split=2, n_estimators=1950; total time=   4.4s\n",
      "[CV] END max_depth=1, min_samples_leaf=6, min_samples_split=2, n_estimators=2050; total time=   4.9s\n",
      "[CV] END max_depth=1, min_samples_leaf=6, min_samples_split=3, n_estimators=1900; total time=   5.1s\n",
      "[CV] END max_depth=1, min_samples_leaf=6, min_samples_split=3, n_estimators=1950; total time=   4.8s\n",
      "[CV] END max_depth=1, min_samples_leaf=6, min_samples_split=3, n_estimators=2000; total time=   4.6s\n",
      "[CV] END max_depth=1, min_samples_leaf=6, min_samples_split=3, n_estimators=2100; total time=   5.1s\n",
      "[CV] END max_depth=2, min_samples_leaf=3, min_samples_split=1, n_estimators=1950; total time=   4.4s\n",
      "[CV] END max_depth=2, min_samples_leaf=3, min_samples_split=1, n_estimators=2000; total time=   4.7s\n",
      "[CV] END max_depth=2, min_samples_leaf=3, min_samples_split=1, n_estimators=2100; total time=   5.0s\n",
      "[CV] END max_depth=2, min_samples_leaf=3, min_samples_split=2, n_estimators=1900; total time=   4.6s\n",
      "[CV] END max_depth=2, min_samples_leaf=3, min_samples_split=2, n_estimators=2000; total time=   4.8s\n",
      "[CV] END max_depth=2, min_samples_leaf=3, min_samples_split=2, n_estimators=2100; total time=   5.1s\n",
      "[CV] END max_depth=2, min_samples_leaf=3, min_samples_split=3, n_estimators=1900; total time=   4.6s\n",
      "[CV] END max_depth=2, min_samples_leaf=3, min_samples_split=3, n_estimators=2000; total time=   4.7s\n",
      "[CV] END max_depth=2, min_samples_leaf=3, min_samples_split=3, n_estimators=2050; total time=   4.9s\n",
      "[CV] END max_depth=2, min_samples_leaf=4, min_samples_split=1, n_estimators=1900; total time=   5.2s\n",
      "[CV] END max_depth=2, min_samples_leaf=4, min_samples_split=1, n_estimators=2000; total time=   4.9s\n",
      "[CV] END max_depth=2, min_samples_leaf=4, min_samples_split=1, n_estimators=2050; total time=   5.6s\n",
      "[CV] END max_depth=2, min_samples_leaf=4, min_samples_split=2, n_estimators=1900; total time=   4.7s\n",
      "[CV] END max_depth=2, min_samples_leaf=4, min_samples_split=2, n_estimators=1950; total time=   5.3s\n",
      "[CV] END max_depth=2, min_samples_leaf=4, min_samples_split=2, n_estimators=2050; total time=   5.6s\n",
      "[CV] END max_depth=2, min_samples_leaf=4, min_samples_split=3, n_estimators=1900; total time=   6.6s\n",
      "[CV] END max_depth=2, min_samples_leaf=4, min_samples_split=3, n_estimators=1950; total time=   5.1s\n",
      "[CV] END max_depth=2, min_samples_leaf=4, min_samples_split=3, n_estimators=2050; total time=   5.5s\n",
      "[CV] END max_depth=2, min_samples_leaf=4, min_samples_split=3, n_estimators=2100; total time=   5.4s\n",
      "[CV] END max_depth=2, min_samples_leaf=5, min_samples_split=1, n_estimators=1950; total time=   5.3s\n",
      "[CV] END max_depth=2, min_samples_leaf=5, min_samples_split=1, n_estimators=2050; total time=   4.8s\n",
      "[CV] END max_depth=2, min_samples_leaf=5, min_samples_split=1, n_estimators=2100; total time=   4.8s\n",
      "[CV] END max_depth=2, min_samples_leaf=5, min_samples_split=2, n_estimators=1950; total time=   4.4s\n",
      "[CV] END max_depth=2, min_samples_leaf=5, min_samples_split=2, n_estimators=2050; total time=   4.7s\n",
      "[CV] END max_depth=2, min_samples_leaf=5, min_samples_split=2, n_estimators=2100; total time=   4.8s\n",
      "[CV] END max_depth=2, min_samples_leaf=5, min_samples_split=3, n_estimators=1950; total time=   5.4s\n",
      "[CV] END max_depth=2, min_samples_leaf=5, min_samples_split=3, n_estimators=2050; total time=   6.4s\n",
      "[CV] END max_depth=2, min_samples_leaf=5, min_samples_split=3, n_estimators=2100; total time=   6.0s\n",
      "[CV] END max_depth=2, min_samples_leaf=6, min_samples_split=1, n_estimators=1950; total time=   5.4s\n",
      "[CV] END max_depth=2, min_samples_leaf=6, min_samples_split=1, n_estimators=2000; total time=   5.5s\n",
      "[CV] END max_depth=2, min_samples_leaf=6, min_samples_split=1, n_estimators=2100; total time=   7.2s\n",
      "[CV] END max_depth=2, min_samples_leaf=6, min_samples_split=2, n_estimators=1950; total time=   6.6s\n",
      "[CV] END max_depth=2, min_samples_leaf=6, min_samples_split=2, n_estimators=2000; total time=   5.5s\n",
      "[CV] END max_depth=2, min_samples_leaf=6, min_samples_split=2, n_estimators=2100; total time=   5.8s\n",
      "[CV] END max_depth=2, min_samples_leaf=6, min_samples_split=3, n_estimators=1900; total time=   4.9s\n",
      "[CV] END max_depth=2, min_samples_leaf=6, min_samples_split=3, n_estimators=2000; total time=   5.3s\n",
      "[CV] END max_depth=2, min_samples_leaf=6, min_samples_split=3, n_estimators=2100; total time=   5.3s\n",
      "[CV] END max_depth=3, min_samples_leaf=3, min_samples_split=1, n_estimators=1900; total time=   4.8s\n",
      "[CV] END max_depth=3, min_samples_leaf=3, min_samples_split=1, n_estimators=2000; total time=   5.5s\n",
      "[CV] END max_depth=3, min_samples_leaf=3, min_samples_split=1, n_estimators=2050; total time=   5.6s\n",
      "[CV] END max_depth=3, min_samples_leaf=3, min_samples_split=2, n_estimators=1900; total time=   5.9s\n",
      "[CV] END max_depth=3, min_samples_leaf=3, min_samples_split=2, n_estimators=2000; total time=   6.0s\n",
      "[CV] END max_depth=3, min_samples_leaf=3, min_samples_split=2, n_estimators=2050; total time=   6.3s\n",
      "[CV] END max_depth=3, min_samples_leaf=3, min_samples_split=3, n_estimators=1900; total time=   6.0s[CV] END max_depth=1, min_samples_leaf=3, min_samples_split=1, n_estimators=1900; total time=   3.5s\n",
      "[CV] END max_depth=1, min_samples_leaf=3, min_samples_split=1, n_estimators=2000; total time=   3.7s\n",
      "[CV] END max_depth=1, min_samples_leaf=3, min_samples_split=1, n_estimators=2050; total time=   4.4s\n",
      "[CV] END max_depth=1, min_samples_leaf=3, min_samples_split=2, n_estimators=1900; total time=   3.9s\n",
      "[CV] END max_depth=1, min_samples_leaf=3, min_samples_split=2, n_estimators=1950; total time=   3.9s\n",
      "[CV] END max_depth=1, min_samples_leaf=3, min_samples_split=2, n_estimators=2050; total time=   4.5s\n",
      "[CV] END max_depth=1, min_samples_leaf=3, min_samples_split=3, n_estimators=1900; total time=   4.0s\n",
      "[CV] END max_depth=1, min_samples_leaf=3, min_samples_split=3, n_estimators=1950; total time=   4.0s\n",
      "[CV] END max_depth=1, min_samples_leaf=3, min_samples_split=3, n_estimators=2000; total time=   4.1s\n",
      "[CV] END max_depth=1, min_samples_leaf=3, min_samples_split=3, n_estimators=2100; total time=   4.5s\n",
      "[CV] END max_depth=1, min_samples_leaf=4, min_samples_split=1, n_estimators=1950; total time=   4.4s\n",
      "[CV] END max_depth=1, min_samples_leaf=4, min_samples_split=1, n_estimators=2000; total time=   4.4s\n",
      "[CV] END max_depth=1, min_samples_leaf=4, min_samples_split=1, n_estimators=2100; total time=   4.4s\n",
      "[CV] END max_depth=1, min_samples_leaf=4, min_samples_split=2, n_estimators=1950; total time=   4.3s\n",
      "[CV] END max_depth=1, min_samples_leaf=4, min_samples_split=2, n_estimators=2000; total time=   4.3s\n",
      "[CV] END max_depth=1, min_samples_leaf=4, min_samples_split=2, n_estimators=2100; total time=   4.4s\n",
      "[CV] END max_depth=1, min_samples_leaf=4, min_samples_split=3, n_estimators=1900; total time=   4.2s\n",
      "[CV] END max_depth=1, min_samples_leaf=4, min_samples_split=3, n_estimators=2000; total time=   4.5s\n",
      "[CV] END max_depth=1, min_samples_leaf=4, min_samples_split=3, n_estimators=2100; total time=   5.0s\n"
     ]
    },
    {
     "name": "stdout",
     "output_type": "stream",
     "text": [
      "[CV] END max_depth=1, min_samples_leaf=5, min_samples_split=1, n_estimators=1900; total time=   4.2s\n",
      "[CV] END max_depth=1, min_samples_leaf=5, min_samples_split=1, n_estimators=2000; total time=   4.8s\n",
      "[CV] END max_depth=1, min_samples_leaf=5, min_samples_split=1, n_estimators=2050; total time=   5.4s\n",
      "[CV] END max_depth=1, min_samples_leaf=5, min_samples_split=2, n_estimators=1900; total time=   4.9s\n",
      "[CV] END max_depth=1, min_samples_leaf=5, min_samples_split=2, n_estimators=2000; total time=   4.1s\n",
      "[CV] END max_depth=1, min_samples_leaf=5, min_samples_split=2, n_estimators=2050; total time=   4.9s\n",
      "[CV] END max_depth=1, min_samples_leaf=5, min_samples_split=3, n_estimators=1900; total time=   5.4s\n",
      "[CV] END max_depth=1, min_samples_leaf=5, min_samples_split=3, n_estimators=1950; total time=   5.2s\n",
      "[CV] END max_depth=1, min_samples_leaf=5, min_samples_split=3, n_estimators=2050; total time=   5.0s\n",
      "[CV] END max_depth=1, min_samples_leaf=6, min_samples_split=1, n_estimators=1900; total time=   4.4s\n",
      "[CV] END max_depth=1, min_samples_leaf=6, min_samples_split=1, n_estimators=1950; total time=   4.7s\n",
      "[CV] END max_depth=1, min_samples_leaf=6, min_samples_split=1, n_estimators=2050; total time=   4.5s\n",
      "[CV] END max_depth=1, min_samples_leaf=6, min_samples_split=1, n_estimators=2100; total time=   4.3s\n",
      "[CV] END max_depth=1, min_samples_leaf=6, min_samples_split=2, n_estimators=1950; total time=   4.4s\n",
      "[CV] END max_depth=1, min_samples_leaf=6, min_samples_split=2, n_estimators=2050; total time=   4.9s\n",
      "[CV] END max_depth=1, min_samples_leaf=6, min_samples_split=2, n_estimators=2100; total time=   5.6s\n",
      "[CV] END max_depth=1, min_samples_leaf=6, min_samples_split=3, n_estimators=1950; total time=   4.7s\n",
      "[CV] END max_depth=1, min_samples_leaf=6, min_samples_split=3, n_estimators=2050; total time=   4.7s\n",
      "[CV] END max_depth=1, min_samples_leaf=6, min_samples_split=3, n_estimators=2100; total time=   5.0s\n",
      "[CV] END max_depth=2, min_samples_leaf=3, min_samples_split=1, n_estimators=1950; total time=   4.4s\n",
      "[CV] END max_depth=2, min_samples_leaf=3, min_samples_split=1, n_estimators=2050; total time=   4.9s\n",
      "[CV] END max_depth=2, min_samples_leaf=3, min_samples_split=1, n_estimators=2100; total time=   4.9s\n",
      "[CV] END max_depth=2, min_samples_leaf=3, min_samples_split=2, n_estimators=1950; total time=   4.7s\n",
      "[CV] END max_depth=2, min_samples_leaf=3, min_samples_split=2, n_estimators=2050; total time=   4.9s\n",
      "[CV] END max_depth=2, min_samples_leaf=3, min_samples_split=2, n_estimators=2100; total time=   5.1s\n",
      "[CV] END max_depth=2, min_samples_leaf=3, min_samples_split=3, n_estimators=1950; total time=   4.7s\n",
      "[CV] END max_depth=2, min_samples_leaf=3, min_samples_split=3, n_estimators=2000; total time=   4.7s\n",
      "[CV] END max_depth=2, min_samples_leaf=3, min_samples_split=3, n_estimators=2100; total time=   5.0s\n",
      "[CV] END max_depth=2, min_samples_leaf=4, min_samples_split=1, n_estimators=1950; total time=   5.3s\n",
      "[CV] END max_depth=2, min_samples_leaf=4, min_samples_split=1, n_estimators=2000; total time=   5.1s\n",
      "[CV] END max_depth=2, min_samples_leaf=4, min_samples_split=1, n_estimators=2100; total time=   5.6s\n",
      "[CV] END max_depth=2, min_samples_leaf=4, min_samples_split=2, n_estimators=1900; total time=   4.6s\n",
      "[CV] END max_depth=2, min_samples_leaf=4, min_samples_split=2, n_estimators=2000; total time=   5.3s\n",
      "[CV] END max_depth=2, min_samples_leaf=4, min_samples_split=2, n_estimators=2100; total time=   6.1s\n",
      "[CV] END max_depth=2, min_samples_leaf=4, min_samples_split=3, n_estimators=1900; total time=   6.7s\n",
      "[CV] END max_depth=2, min_samples_leaf=4, min_samples_split=3, n_estimators=2000; total time=   4.8s\n",
      "[CV] END max_depth=2, min_samples_leaf=4, min_samples_split=3, n_estimators=2050; total time=   5.6s\n",
      "[CV] END max_depth=2, min_samples_leaf=5, min_samples_split=1, n_estimators=1900; total time=   5.0s\n",
      "[CV] END max_depth=2, min_samples_leaf=5, min_samples_split=1, n_estimators=2000; total time=   5.3s\n",
      "[CV] END max_depth=2, min_samples_leaf=5, min_samples_split=1, n_estimators=2050; total time=   4.8s\n",
      "[CV] END max_depth=2, min_samples_leaf=5, min_samples_split=2, n_estimators=1900; total time=   4.4s\n",
      "[CV] END max_depth=2, min_samples_leaf=5, min_samples_split=2, n_estimators=1950; total time=   4.4s\n",
      "[CV] END max_depth=2, min_samples_leaf=5, min_samples_split=2, n_estimators=2050; total time=   4.7s\n",
      "[CV] END max_depth=2, min_samples_leaf=5, min_samples_split=3, n_estimators=1900; total time=   4.4s\n",
      "[CV] END max_depth=2, min_samples_leaf=5, min_samples_split=3, n_estimators=1950; total time=   5.4s\n",
      "[CV] END max_depth=2, min_samples_leaf=5, min_samples_split=3, n_estimators=2000; total time=   6.1s\n",
      "[CV] END max_depth=2, min_samples_leaf=5, min_samples_split=3, n_estimators=2100; total time=   6.0s\n",
      "[CV] END max_depth=2, min_samples_leaf=6, min_samples_split=1, n_estimators=1950; total time=   5.4s\n",
      "[CV] END max_depth=2, min_samples_leaf=6, min_samples_split=1, n_estimators=2000; total time=   5.4s\n",
      "[CV] END max_depth=2, min_samples_leaf=6, min_samples_split=1, n_estimators=2100; total time=   7.1s\n",
      "[CV] END max_depth=2, min_samples_leaf=6, min_samples_split=2, n_estimators=1900; total time=   6.6s\n",
      "[CV] END max_depth=2, min_samples_leaf=6, min_samples_split=2, n_estimators=2000; total time=   5.4s\n",
      "[CV] END max_depth=2, min_samples_leaf=6, min_samples_split=2, n_estimators=2100; total time=   5.9s\n",
      "[CV] END max_depth=2, min_samples_leaf=6, min_samples_split=3, n_estimators=1900; total time=   4.9s\n",
      "[CV] END max_depth=2, min_samples_leaf=6, min_samples_split=3, n_estimators=2000; total time=   5.2s\n",
      "[CV] END max_depth=2, min_samples_leaf=6, min_samples_split=3, n_estimators=2050; total time=   5.1s\n",
      "[CV] END max_depth=3, min_samples_leaf=3, min_samples_split=1, n_estimators=1900; total time=   4.8s\n",
      "[CV] END max_depth=3, min_samples_leaf=3, min_samples_split=1, n_estimators=2000; total time=   5.5s\n",
      "[CV] END max_depth=3, min_samples_leaf=3, min_samples_split=1, n_estimators=2050; total time=   5.6s\n",
      "[CV] END max_depth=3, min_samples_leaf=3, min_samples_split=2, n_estimators=1900; total time=   5.7s\n",
      "[CV] END max_depth=3, min_samples_leaf=3, min_samples_split=2, n_estimators=1950; total time=   5.9s\n",
      "[CV] END max_depth=3, min_samples_leaf=3, min_samples_split=2, n_estimators=2050; total time=   6.3s\n",
      "[CV] END max_depth=3, min_samples_leaf=3, min_samples_split=3, n_estimators=1900; total time=   5.9s[CV] END max_depth=1, min_samples_leaf=3, min_samples_split=1, n_estimators=1900; total time=   3.5s\n",
      "[CV] END max_depth=1, min_samples_leaf=3, min_samples_split=1, n_estimators=1950; total time=   3.6s\n",
      "[CV] END max_depth=1, min_samples_leaf=3, min_samples_split=1, n_estimators=2050; total time=   4.4s\n",
      "[CV] END max_depth=1, min_samples_leaf=3, min_samples_split=2, n_estimators=1900; total time=   3.9s\n",
      "[CV] END max_depth=1, min_samples_leaf=3, min_samples_split=2, n_estimators=1950; total time=   3.9s\n",
      "[CV] END max_depth=1, min_samples_leaf=3, min_samples_split=2, n_estimators=2050; total time=   4.5s\n",
      "[CV] END max_depth=1, min_samples_leaf=3, min_samples_split=2, n_estimators=2100; total time=   4.4s\n",
      "[CV] END max_depth=1, min_samples_leaf=3, min_samples_split=3, n_estimators=1950; total time=   4.0s\n",
      "[CV] END max_depth=1, min_samples_leaf=3, min_samples_split=3, n_estimators=2050; total time=   4.2s\n",
      "[CV] END max_depth=1, min_samples_leaf=3, min_samples_split=3, n_estimators=2100; total time=   4.5s\n",
      "[CV] END max_depth=1, min_samples_leaf=4, min_samples_split=1, n_estimators=2000; total time=   4.6s\n",
      "[CV] END max_depth=1, min_samples_leaf=4, min_samples_split=1, n_estimators=2050; total time=   4.4s\n",
      "[CV] END max_depth=1, min_samples_leaf=4, min_samples_split=2, n_estimators=1900; total time=   4.0s\n",
      "[CV] END max_depth=1, min_samples_leaf=4, min_samples_split=2, n_estimators=1950; total time=   4.3s\n",
      "[CV] END max_depth=1, min_samples_leaf=4, min_samples_split=2, n_estimators=2050; total time=   4.4s\n",
      "[CV] END max_depth=1, min_samples_leaf=4, min_samples_split=2, n_estimators=2100; total time=   4.4s\n",
      "[CV] END max_depth=1, min_samples_leaf=4, min_samples_split=3, n_estimators=1950; total time=   4.4s\n",
      "[CV] END max_depth=1, min_samples_leaf=4, min_samples_split=3, n_estimators=2050; total time=   4.6s\n",
      "[CV] END max_depth=1, min_samples_leaf=4, min_samples_split=3, n_estimators=2100; total time=   5.0s\n",
      "[CV] END max_depth=1, min_samples_leaf=5, min_samples_split=1, n_estimators=1950; total time=   4.4s\n",
      "[CV] END max_depth=1, min_samples_leaf=5, min_samples_split=1, n_estimators=2050; total time=   4.9s\n",
      "[CV] END max_depth=1, min_samples_leaf=5, min_samples_split=1, n_estimators=2100; total time=   5.6s\n",
      "[CV] END max_depth=1, min_samples_leaf=5, min_samples_split=2, n_estimators=1950; total time=   4.8s\n",
      "[CV] END max_depth=1, min_samples_leaf=5, min_samples_split=2, n_estimators=2050; total time=   4.2s\n",
      "[CV] END max_depth=1, min_samples_leaf=5, min_samples_split=2, n_estimators=2100; total time=   5.5s\n",
      "[CV] END max_depth=1, min_samples_leaf=5, min_samples_split=3, n_estimators=1950; total time=   5.5s\n",
      "[CV] END max_depth=1, min_samples_leaf=5, min_samples_split=3, n_estimators=2050; total time=   5.2s\n",
      "[CV] END max_depth=1, min_samples_leaf=5, min_samples_split=3, n_estimators=2100; total time=   4.9s\n",
      "[CV] END max_depth=1, min_samples_leaf=6, min_samples_split=1, n_estimators=1950; total time=   4.7s\n",
      "[CV] END max_depth=1, min_samples_leaf=6, min_samples_split=1, n_estimators=2000; total time=   4.6s\n",
      "[CV] END max_depth=1, min_samples_leaf=6, min_samples_split=1, n_estimators=2100; total time=   4.4s\n",
      "[CV] END max_depth=1, min_samples_leaf=6, min_samples_split=2, n_estimators=1950; total time=   4.1s\n",
      "[CV] END max_depth=1, min_samples_leaf=6, min_samples_split=2, n_estimators=2000; total time=   4.5s\n",
      "[CV] END max_depth=1, min_samples_leaf=6, min_samples_split=2, n_estimators=2100; total time=   5.1s\n",
      "[CV] END max_depth=1, min_samples_leaf=6, min_samples_split=3, n_estimators=1900; total time=   5.3s\n",
      "[CV] END max_depth=1, min_samples_leaf=6, min_samples_split=3, n_estimators=2000; total time=   4.4s\n",
      "[CV] END max_depth=1, min_samples_leaf=6, min_samples_split=3, n_estimators=2100; total time=   5.0s\n",
      "[CV] END max_depth=2, min_samples_leaf=3, min_samples_split=1, n_estimators=1900; total time=   4.4s\n",
      "[CV] END max_depth=2, min_samples_leaf=3, min_samples_split=1, n_estimators=2000; total time=   4.6s\n",
      "[CV] END max_depth=2, min_samples_leaf=3, min_samples_split=1, n_estimators=2050; total time=   4.9s\n",
      "[CV] END max_depth=2, min_samples_leaf=3, min_samples_split=2, n_estimators=1900; total time=   4.5s\n",
      "[CV] END max_depth=2, min_samples_leaf=3, min_samples_split=2, n_estimators=2000; total time=   4.9s\n",
      "[CV] END max_depth=2, min_samples_leaf=3, min_samples_split=2, n_estimators=2050; total time=   4.9s\n",
      "[CV] END max_depth=2, min_samples_leaf=3, min_samples_split=3, n_estimators=1900; total time=   4.6s\n",
      "[CV] END max_depth=2, min_samples_leaf=3, min_samples_split=3, n_estimators=1950; total time=   4.6s\n",
      "[CV] END max_depth=2, min_samples_leaf=3, min_samples_split=3, n_estimators=2050; total time=   4.8s\n",
      "[CV] END max_depth=2, min_samples_leaf=3, min_samples_split=3, n_estimators=2100; total time=   5.1s\n",
      "[CV] END max_depth=2, min_samples_leaf=4, min_samples_split=1, n_estimators=1950; total time=   5.2s\n",
      "[CV] END max_depth=2, min_samples_leaf=4, min_samples_split=1, n_estimators=2050; total time=   5.2s\n",
      "[CV] END max_depth=2, min_samples_leaf=4, min_samples_split=1, n_estimators=2100; total time=   5.6s\n",
      "[CV] END max_depth=2, min_samples_leaf=4, min_samples_split=2, n_estimators=1950; total time=   4.8s\n",
      "[CV] END max_depth=2, min_samples_leaf=4, min_samples_split=2, n_estimators=2050; total time=   5.6s\n",
      "[CV] END max_depth=2, min_samples_leaf=4, min_samples_split=2, n_estimators=2100; total time=   6.1s\n",
      "[CV] END max_depth=2, min_samples_leaf=4, min_samples_split=3, n_estimators=1950; total time=   6.7s\n",
      "[CV] END max_depth=2, min_samples_leaf=4, min_samples_split=3, n_estimators=2000; total time=   4.7s\n",
      "[CV] END max_depth=2, min_samples_leaf=4, min_samples_split=3, n_estimators=2100; total time=   5.8s\n",
      "[CV] END max_depth=2, min_samples_leaf=5, min_samples_split=1, n_estimators=1950; total time=   5.1s\n",
      "[CV] END max_depth=2, min_samples_leaf=5, min_samples_split=1, n_estimators=2000; total time=   5.2s\n",
      "[CV] END max_depth=2, min_samples_leaf=5, min_samples_split=1, n_estimators=2100; total time=   4.9s\n",
      "[CV] END max_depth=2, min_samples_leaf=5, min_samples_split=2, n_estimators=1900; total time=   4.3s\n",
      "[CV] END max_depth=2, min_samples_leaf=5, min_samples_split=2, n_estimators=2000; total time=   4.6s\n",
      "[CV] END max_depth=2, min_samples_leaf=5, min_samples_split=2, n_estimators=2100; total time=   4.8s\n",
      "[CV] END max_depth=2, min_samples_leaf=5, min_samples_split=3, n_estimators=1900; total time=   5.0s\n",
      "[CV] END max_depth=2, min_samples_leaf=5, min_samples_split=3, n_estimators=2000; total time=   5.3s\n",
      "[CV] END max_depth=2, min_samples_leaf=5, min_samples_split=3, n_estimators=2050; total time=   6.6s\n",
      "[CV] END max_depth=2, min_samples_leaf=6, min_samples_split=1, n_estimators=1900; total time=   5.2s\n",
      "[CV] END max_depth=2, min_samples_leaf=6, min_samples_split=1, n_estimators=2000; total time=   5.5s\n",
      "[CV] END max_depth=2, min_samples_leaf=6, min_samples_split=1, n_estimators=2050; total time=   5.7s\n",
      "[CV] END max_depth=2, min_samples_leaf=6, min_samples_split=2, n_estimators=1900; total time=   7.1s\n",
      "[CV] END max_depth=2, min_samples_leaf=6, min_samples_split=2, n_estimators=1950; total time=   6.2s\n",
      "[CV] END max_depth=2, min_samples_leaf=6, min_samples_split=2, n_estimators=2050; total time=   5.8s\n",
      "[CV] END max_depth=2, min_samples_leaf=6, min_samples_split=3, n_estimators=1900; total time=   5.0s\n",
      "[CV] END max_depth=2, min_samples_leaf=6, min_samples_split=3, n_estimators=1950; total time=   5.0s\n",
      "[CV] END max_depth=2, min_samples_leaf=6, min_samples_split=3, n_estimators=2000; total time=   5.3s\n",
      "[CV] END max_depth=2, min_samples_leaf=6, min_samples_split=3, n_estimators=2100; total time=   5.2s\n",
      "[CV] END max_depth=3, min_samples_leaf=3, min_samples_split=1, n_estimators=1950; total time=   5.0s\n",
      "[CV] END max_depth=3, min_samples_leaf=3, min_samples_split=1, n_estimators=2000; total time=   5.6s\n",
      "[CV] END max_depth=3, min_samples_leaf=3, min_samples_split=1, n_estimators=2100; total time=   5.8s\n",
      "[CV] END max_depth=3, min_samples_leaf=3, min_samples_split=2, n_estimators=1900; total time=   5.9s\n",
      "[CV] END max_depth=3, min_samples_leaf=3, min_samples_split=2, n_estimators=2000; total time=   5.9s\n",
      "[CV] END max_depth=3, min_samples_leaf=3, min_samples_split=2, n_estimators=2100; total time=   6.5s\n"
     ]
    },
    {
     "name": "stdout",
     "output_type": "stream",
     "text": [
      "[CV] END max_depth=3, min_samples_leaf=3, min_samples_split=3, n_estimators=1900; total time=   6.0s[CV] END max_depth=1, min_samples_leaf=3, min_samples_split=1, n_estimators=1950; total time=   3.6s\n",
      "[CV] END max_depth=1, min_samples_leaf=3, min_samples_split=1, n_estimators=2050; total time=   3.8s\n",
      "[CV] END max_depth=1, min_samples_leaf=3, min_samples_split=1, n_estimators=2100; total time=   4.6s\n",
      "[CV] END max_depth=1, min_samples_leaf=3, min_samples_split=2, n_estimators=1950; total time=   4.0s\n",
      "[CV] END max_depth=1, min_samples_leaf=3, min_samples_split=2, n_estimators=2000; total time=   4.1s\n",
      "[CV] END max_depth=1, min_samples_leaf=3, min_samples_split=2, n_estimators=2100; total time=   4.7s\n",
      "[CV] END max_depth=1, min_samples_leaf=3, min_samples_split=3, n_estimators=1950; total time=   4.1s\n",
      "[CV] END max_depth=1, min_samples_leaf=3, min_samples_split=3, n_estimators=2000; total time=   4.0s\n",
      "[CV] END max_depth=1, min_samples_leaf=3, min_samples_split=3, n_estimators=2100; total time=   4.4s\n",
      "[CV] END max_depth=1, min_samples_leaf=4, min_samples_split=1, n_estimators=1900; total time=   4.2s\n",
      "[CV] END max_depth=1, min_samples_leaf=4, min_samples_split=1, n_estimators=2000; total time=   4.7s\n",
      "[CV] END max_depth=1, min_samples_leaf=4, min_samples_split=1, n_estimators=2100; total time=   4.5s\n",
      "[CV] END max_depth=1, min_samples_leaf=4, min_samples_split=2, n_estimators=1900; total time=   4.0s\n",
      "[CV] END max_depth=1, min_samples_leaf=4, min_samples_split=2, n_estimators=2000; total time=   4.5s\n",
      "[CV] END max_depth=1, min_samples_leaf=4, min_samples_split=2, n_estimators=2050; total time=   4.4s\n",
      "[CV] END max_depth=1, min_samples_leaf=4, min_samples_split=3, n_estimators=1900; total time=   3.9s\n",
      "[CV] END max_depth=1, min_samples_leaf=4, min_samples_split=3, n_estimators=2000; total time=   4.5s\n",
      "[CV] END max_depth=1, min_samples_leaf=4, min_samples_split=3, n_estimators=2050; total time=   4.6s\n",
      "[CV] END max_depth=1, min_samples_leaf=5, min_samples_split=1, n_estimators=1900; total time=   4.6s\n",
      "[CV] END max_depth=1, min_samples_leaf=5, min_samples_split=1, n_estimators=1950; total time=   4.4s\n",
      "[CV] END max_depth=1, min_samples_leaf=5, min_samples_split=1, n_estimators=2050; total time=   5.0s\n",
      "[CV] END max_depth=1, min_samples_leaf=5, min_samples_split=2, n_estimators=1900; total time=   5.2s\n",
      "[CV] END max_depth=1, min_samples_leaf=5, min_samples_split=2, n_estimators=1950; total time=   4.8s\n",
      "[CV] END max_depth=1, min_samples_leaf=5, min_samples_split=2, n_estimators=2000; total time=   4.1s\n",
      "[CV] END max_depth=1, min_samples_leaf=5, min_samples_split=2, n_estimators=2100; total time=   5.4s\n",
      "[CV] END max_depth=1, min_samples_leaf=5, min_samples_split=3, n_estimators=1950; total time=   5.5s\n",
      "[CV] END max_depth=1, min_samples_leaf=5, min_samples_split=3, n_estimators=2000; total time=   5.1s\n",
      "[CV] END max_depth=1, min_samples_leaf=5, min_samples_split=3, n_estimators=2100; total time=   5.1s\n",
      "[CV] END max_depth=1, min_samples_leaf=6, min_samples_split=1, n_estimators=1950; total time=   4.6s\n",
      "[CV] END max_depth=1, min_samples_leaf=6, min_samples_split=1, n_estimators=2000; total time=   4.6s\n",
      "[CV] END max_depth=1, min_samples_leaf=6, min_samples_split=1, n_estimators=2100; total time=   4.5s\n",
      "[CV] END max_depth=1, min_samples_leaf=6, min_samples_split=2, n_estimators=1900; total time=   4.1s\n",
      "[CV] END max_depth=1, min_samples_leaf=6, min_samples_split=2, n_estimators=2000; total time=   4.5s\n",
      "[CV] END max_depth=1, min_samples_leaf=6, min_samples_split=2, n_estimators=2100; total time=   5.1s\n",
      "[CV] END max_depth=1, min_samples_leaf=6, min_samples_split=3, n_estimators=1900; total time=   5.1s\n",
      "[CV] END max_depth=1, min_samples_leaf=6, min_samples_split=3, n_estimators=2000; total time=   4.7s\n",
      "[CV] END max_depth=1, min_samples_leaf=6, min_samples_split=3, n_estimators=2050; total time=   4.9s\n",
      "[CV] END max_depth=2, min_samples_leaf=3, min_samples_split=1, n_estimators=1900; total time=   4.4s\n",
      "[CV] END max_depth=2, min_samples_leaf=3, min_samples_split=1, n_estimators=2000; total time=   4.6s\n",
      "[CV] END max_depth=2, min_samples_leaf=3, min_samples_split=1, n_estimators=2050; total time=   4.9s\n",
      "[CV] END max_depth=2, min_samples_leaf=3, min_samples_split=2, n_estimators=1900; total time=   4.6s\n",
      "[CV] END max_depth=2, min_samples_leaf=3, min_samples_split=2, n_estimators=1950; total time=   4.8s\n",
      "[CV] END max_depth=2, min_samples_leaf=3, min_samples_split=2, n_estimators=2050; total time=   4.9s\n",
      "[CV] END max_depth=2, min_samples_leaf=3, min_samples_split=3, n_estimators=1900; total time=   4.6s\n",
      "[CV] END max_depth=2, min_samples_leaf=3, min_samples_split=3, n_estimators=1950; total time=   4.7s\n",
      "[CV] END max_depth=2, min_samples_leaf=3, min_samples_split=3, n_estimators=2050; total time=   4.8s\n",
      "[CV] END max_depth=2, min_samples_leaf=3, min_samples_split=3, n_estimators=2100; total time=   5.1s\n",
      "[CV] END max_depth=2, min_samples_leaf=4, min_samples_split=1, n_estimators=1950; total time=   5.3s\n",
      "[CV] END max_depth=2, min_samples_leaf=4, min_samples_split=1, n_estimators=2050; total time=   5.2s\n",
      "[CV] END max_depth=2, min_samples_leaf=4, min_samples_split=1, n_estimators=2100; total time=   5.7s\n",
      "[CV] END max_depth=2, min_samples_leaf=4, min_samples_split=2, n_estimators=1950; total time=   4.8s\n",
      "[CV] END max_depth=2, min_samples_leaf=4, min_samples_split=2, n_estimators=2000; total time=   5.4s\n",
      "[CV] END max_depth=2, min_samples_leaf=4, min_samples_split=2, n_estimators=2100; total time=   6.2s\n",
      "[CV] END max_depth=2, min_samples_leaf=4, min_samples_split=3, n_estimators=1950; total time=   6.6s\n",
      "[CV] END max_depth=2, min_samples_leaf=4, min_samples_split=3, n_estimators=2000; total time=   4.7s\n",
      "[CV] END max_depth=2, min_samples_leaf=4, min_samples_split=3, n_estimators=2100; total time=   5.8s\n",
      "[CV] END max_depth=2, min_samples_leaf=5, min_samples_split=1, n_estimators=1900; total time=   4.9s\n",
      "[CV] END max_depth=2, min_samples_leaf=5, min_samples_split=1, n_estimators=2000; total time=   5.2s\n",
      "[CV] END max_depth=2, min_samples_leaf=5, min_samples_split=1, n_estimators=2100; total time=   5.0s\n",
      "[CV] END max_depth=2, min_samples_leaf=5, min_samples_split=2, n_estimators=1900; total time=   4.4s\n",
      "[CV] END max_depth=2, min_samples_leaf=5, min_samples_split=2, n_estimators=2000; total time=   4.6s\n",
      "[CV] END max_depth=2, min_samples_leaf=5, min_samples_split=2, n_estimators=2050; total time=   4.7s\n",
      "[CV] END max_depth=2, min_samples_leaf=5, min_samples_split=3, n_estimators=1900; total time=   5.0s\n",
      "[CV] END max_depth=2, min_samples_leaf=5, min_samples_split=3, n_estimators=2000; total time=   5.3s\n",
      "[CV] END max_depth=2, min_samples_leaf=5, min_samples_split=3, n_estimators=2050; total time=   6.6s\n",
      "[CV] END max_depth=2, min_samples_leaf=6, min_samples_split=1, n_estimators=1900; total time=   5.2s\n",
      "[CV] END max_depth=2, min_samples_leaf=6, min_samples_split=1, n_estimators=1950; total time=   5.4s\n",
      "[CV] END max_depth=2, min_samples_leaf=6, min_samples_split=1, n_estimators=2050; total time=   5.6s\n",
      "[CV] END max_depth=2, min_samples_leaf=6, min_samples_split=2, n_estimators=1900; total time=   6.9s\n",
      "[CV] END max_depth=2, min_samples_leaf=6, min_samples_split=2, n_estimators=1950; total time=   6.5s\n",
      "[CV] END max_depth=2, min_samples_leaf=6, min_samples_split=2, n_estimators=2050; total time=   5.8s\n",
      "[CV] END max_depth=2, min_samples_leaf=6, min_samples_split=2, n_estimators=2100; total time=   5.6s\n",
      "[CV] END max_depth=2, min_samples_leaf=6, min_samples_split=3, n_estimators=1950; total time=   5.1s\n",
      "[CV] END max_depth=2, min_samples_leaf=6, min_samples_split=3, n_estimators=2050; total time=   5.4s\n",
      "[CV] END max_depth=2, min_samples_leaf=6, min_samples_split=3, n_estimators=2100; total time=   5.2s\n",
      "[CV] END max_depth=3, min_samples_leaf=3, min_samples_split=1, n_estimators=1950; total time=   5.0s\n",
      "[CV] END max_depth=3, min_samples_leaf=3, min_samples_split=1, n_estimators=2000; total time=   5.6s\n",
      "[CV] END max_depth=3, min_samples_leaf=3, min_samples_split=1, n_estimators=2100; total time=   5.8s\n",
      "[CV] END max_depth=3, min_samples_leaf=3, min_samples_split=2, n_estimators=1950; total time=   6.1s\n",
      "[CV] END max_depth=3, min_samples_leaf=3, min_samples_split=2, n_estimators=2000; total time=   6.0s\n",
      "[CV] END max_depth=3, min_samples_leaf=3, min_samples_split=2, n_estimators=2100; total time=   6.6s\n"
     ]
    },
    {
     "name": "stdout",
     "output_type": "stream",
     "text": [
      "[CV] END max_depth=3, min_samples_leaf=3, min_samples_split=3, n_estimators=1900; total time=   6.1s[CV] END max_depth=1, min_samples_leaf=3, min_samples_split=1, n_estimators=1950; total time=   3.6s\n",
      "[CV] END max_depth=1, min_samples_leaf=3, min_samples_split=1, n_estimators=2000; total time=   3.7s\n",
      "[CV] END max_depth=1, min_samples_leaf=3, min_samples_split=1, n_estimators=2100; total time=   4.6s\n",
      "[CV] END max_depth=1, min_samples_leaf=3, min_samples_split=2, n_estimators=1950; total time=   4.0s\n",
      "[CV] END max_depth=1, min_samples_leaf=3, min_samples_split=2, n_estimators=2000; total time=   4.1s\n",
      "[CV] END max_depth=1, min_samples_leaf=3, min_samples_split=2, n_estimators=2100; total time=   4.7s\n",
      "[CV] END max_depth=1, min_samples_leaf=3, min_samples_split=3, n_estimators=1900; total time=   4.0s\n",
      "[CV] END max_depth=1, min_samples_leaf=3, min_samples_split=3, n_estimators=2000; total time=   4.1s\n",
      "[CV] END max_depth=1, min_samples_leaf=3, min_samples_split=3, n_estimators=2100; total time=   4.4s\n",
      "[CV] END max_depth=1, min_samples_leaf=4, min_samples_split=1, n_estimators=1900; total time=   4.1s\n",
      "[CV] END max_depth=1, min_samples_leaf=4, min_samples_split=1, n_estimators=2000; total time=   4.7s\n",
      "[CV] END max_depth=1, min_samples_leaf=4, min_samples_split=1, n_estimators=2050; total time=   4.5s\n",
      "[CV] END max_depth=1, min_samples_leaf=4, min_samples_split=2, n_estimators=1900; total time=   4.0s\n",
      "[CV] END max_depth=1, min_samples_leaf=4, min_samples_split=2, n_estimators=2000; total time=   4.4s\n",
      "[CV] END max_depth=1, min_samples_leaf=4, min_samples_split=2, n_estimators=2050; total time=   4.4s\n",
      "[CV] END max_depth=1, min_samples_leaf=4, min_samples_split=3, n_estimators=1900; total time=   3.9s\n",
      "[CV] END max_depth=1, min_samples_leaf=4, min_samples_split=3, n_estimators=1950; total time=   4.3s\n",
      "[CV] END max_depth=1, min_samples_leaf=4, min_samples_split=3, n_estimators=2050; total time=   4.6s\n",
      "[CV] END max_depth=1, min_samples_leaf=5, min_samples_split=1, n_estimators=1900; total time=   4.6s\n",
      "[CV] END max_depth=1, min_samples_leaf=5, min_samples_split=1, n_estimators=1950; total time=   4.3s\n",
      "[CV] END max_depth=1, min_samples_leaf=5, min_samples_split=1, n_estimators=2000; total time=   4.9s\n",
      "[CV] END max_depth=1, min_samples_leaf=5, min_samples_split=1, n_estimators=2100; total time=   5.6s\n",
      "[CV] END max_depth=1, min_samples_leaf=5, min_samples_split=2, n_estimators=1950; total time=   4.9s\n",
      "[CV] END max_depth=1, min_samples_leaf=5, min_samples_split=2, n_estimators=2000; total time=   4.2s\n",
      "[CV] END max_depth=1, min_samples_leaf=5, min_samples_split=2, n_estimators=2100; total time=   5.4s\n",
      "[CV] END max_depth=1, min_samples_leaf=5, min_samples_split=3, n_estimators=1900; total time=   5.4s\n",
      "[CV] END max_depth=1, min_samples_leaf=5, min_samples_split=3, n_estimators=2000; total time=   5.1s\n",
      "[CV] END max_depth=1, min_samples_leaf=5, min_samples_split=3, n_estimators=2100; total time=   5.0s\n",
      "[CV] END max_depth=1, min_samples_leaf=6, min_samples_split=1, n_estimators=1900; total time=   4.4s\n",
      "[CV] END max_depth=1, min_samples_leaf=6, min_samples_split=1, n_estimators=2000; total time=   4.8s\n",
      "[CV] END max_depth=1, min_samples_leaf=6, min_samples_split=1, n_estimators=2050; total time=   4.4s\n",
      "[CV] END max_depth=1, min_samples_leaf=6, min_samples_split=2, n_estimators=1900; total time=   4.0s\n",
      "[CV] END max_depth=1, min_samples_leaf=6, min_samples_split=2, n_estimators=2000; total time=   4.5s\n",
      "[CV] END max_depth=1, min_samples_leaf=6, min_samples_split=2, n_estimators=2050; total time=   5.0s\n",
      "[CV] END max_depth=1, min_samples_leaf=6, min_samples_split=3, n_estimators=1900; total time=   5.0s\n",
      "[CV] END max_depth=1, min_samples_leaf=6, min_samples_split=3, n_estimators=1950; total time=   4.7s\n",
      "[CV] END max_depth=1, min_samples_leaf=6, min_samples_split=3, n_estimators=2050; total time=   4.9s\n",
      "[CV] END max_depth=2, min_samples_leaf=3, min_samples_split=1, n_estimators=1900; total time=   4.6s\n",
      "[CV] END max_depth=2, min_samples_leaf=3, min_samples_split=1, n_estimators=1950; total time=   4.4s\n",
      "[CV] END max_depth=2, min_samples_leaf=3, min_samples_split=1, n_estimators=2050; total time=   4.9s\n",
      "[CV] END max_depth=2, min_samples_leaf=3, min_samples_split=1, n_estimators=2100; total time=   5.0s\n",
      "[CV] END max_depth=2, min_samples_leaf=3, min_samples_split=2, n_estimators=1950; total time=   4.7s\n",
      "[CV] END max_depth=2, min_samples_leaf=3, min_samples_split=2, n_estimators=2050; total time=   5.0s\n",
      "[CV] END max_depth=2, min_samples_leaf=3, min_samples_split=2, n_estimators=2100; total time=   5.1s\n",
      "[CV] END max_depth=2, min_samples_leaf=3, min_samples_split=3, n_estimators=1950; total time=   4.6s\n",
      "[CV] END max_depth=2, min_samples_leaf=3, min_samples_split=3, n_estimators=2050; total time=   4.9s\n",
      "[CV] END max_depth=2, min_samples_leaf=4, min_samples_split=1, n_estimators=1900; total time=   4.6s\n",
      "[CV] END max_depth=2, min_samples_leaf=4, min_samples_split=1, n_estimators=1950; total time=   5.3s\n",
      "[CV] END max_depth=2, min_samples_leaf=4, min_samples_split=1, n_estimators=2000; total time=   5.2s\n",
      "[CV] END max_depth=2, min_samples_leaf=4, min_samples_split=1, n_estimators=2100; total time=   5.6s\n",
      "[CV] END max_depth=2, min_samples_leaf=4, min_samples_split=2, n_estimators=1950; total time=   4.8s\n",
      "[CV] END max_depth=2, min_samples_leaf=4, min_samples_split=2, n_estimators=2000; total time=   5.4s\n",
      "[CV] END max_depth=2, min_samples_leaf=4, min_samples_split=2, n_estimators=2100; total time=   6.3s\n",
      "[CV] END max_depth=2, min_samples_leaf=4, min_samples_split=3, n_estimators=1900; total time=   6.5s\n",
      "[CV] END max_depth=2, min_samples_leaf=4, min_samples_split=3, n_estimators=2000; total time=   4.7s\n",
      "[CV] END max_depth=2, min_samples_leaf=4, min_samples_split=3, n_estimators=2100; total time=   5.7s\n",
      "[CV] END max_depth=2, min_samples_leaf=5, min_samples_split=1, n_estimators=1900; total time=   5.0s\n",
      "[CV] END max_depth=2, min_samples_leaf=5, min_samples_split=1, n_estimators=2000; total time=   5.3s\n",
      "[CV] END max_depth=2, min_samples_leaf=5, min_samples_split=1, n_estimators=2050; total time=   4.9s\n",
      "[CV] END max_depth=2, min_samples_leaf=5, min_samples_split=2, n_estimators=1900; total time=   4.4s\n",
      "[CV] END max_depth=2, min_samples_leaf=5, min_samples_split=2, n_estimators=2000; total time=   4.6s\n",
      "[CV] END max_depth=2, min_samples_leaf=5, min_samples_split=2, n_estimators=2050; total time=   4.7s\n",
      "[CV] END max_depth=2, min_samples_leaf=5, min_samples_split=3, n_estimators=1900; total time=   4.9s\n",
      "[CV] END max_depth=2, min_samples_leaf=5, min_samples_split=3, n_estimators=1950; total time=   5.2s\n",
      "[CV] END max_depth=2, min_samples_leaf=5, min_samples_split=3, n_estimators=2050; total time=   6.5s\n",
      "[CV] END max_depth=2, min_samples_leaf=6, min_samples_split=1, n_estimators=1900; total time=   5.3s\n",
      "[CV] END max_depth=2, min_samples_leaf=6, min_samples_split=1, n_estimators=1950; total time=   5.4s\n",
      "[CV] END max_depth=2, min_samples_leaf=6, min_samples_split=1, n_estimators=2050; total time=   5.6s\n",
      "[CV] END max_depth=2, min_samples_leaf=6, min_samples_split=1, n_estimators=2100; total time=   7.5s\n",
      "[CV] END max_depth=2, min_samples_leaf=6, min_samples_split=2, n_estimators=1950; total time=   6.4s\n",
      "[CV] END max_depth=2, min_samples_leaf=6, min_samples_split=2, n_estimators=2050; total time=   5.7s\n",
      "[CV] END max_depth=2, min_samples_leaf=6, min_samples_split=2, n_estimators=2100; total time=   5.6s\n",
      "[CV] END max_depth=2, min_samples_leaf=6, min_samples_split=3, n_estimators=1950; total time=   5.1s\n",
      "[CV] END max_depth=2, min_samples_leaf=6, min_samples_split=3, n_estimators=2050; total time=   5.4s\n",
      "[CV] END max_depth=2, min_samples_leaf=6, min_samples_split=3, n_estimators=2100; total time=   5.2s\n",
      "[CV] END max_depth=3, min_samples_leaf=3, min_samples_split=1, n_estimators=1950; total time=   5.0s\n",
      "[CV] END max_depth=3, min_samples_leaf=3, min_samples_split=1, n_estimators=2050; total time=   5.6s\n",
      "[CV] END max_depth=3, min_samples_leaf=3, min_samples_split=1, n_estimators=2100; total time=   5.9s\n",
      "[CV] END max_depth=3, min_samples_leaf=3, min_samples_split=2, n_estimators=1950; total time=   6.1s\n",
      "[CV] END max_depth=3, min_samples_leaf=3, min_samples_split=2, n_estimators=2000; total time=   6.1s\n",
      "[CV] END max_depth=3, min_samples_leaf=3, min_samples_split=2, n_estimators=2100; total time=   6.7s\n"
     ]
    },
    {
     "name": "stdout",
     "output_type": "stream",
     "text": [
      "[CV] END max_depth=3, min_samples_leaf=3, min_samples_split=3, n_estimators=1950; total time=   6.2sBest set of parameters:  {'max_depth': 5, 'min_samples_leaf': 3, 'min_samples_split': 1, 'n_estimators': 1900}\n",
      "Training score: 0.9193548387096774\n",
      "Test score 0.675\n"
     ]
    }
   ],
   "source": [
    "from sklearn.model_selection import GridSearchCV\n",
    "\n",
    "param_grid = {\n",
    "    'n_estimators': np.linspace(1900, 2100, 5, dtype = int),\n",
    "    'max_depth': [1, 2, 3, 5, 7, 10],\n",
    "    'min_samples_split': [1, 2, 3],\n",
    "    'min_samples_leaf': [3, 4, 5, 6]\n",
    "}\n",
    "\n",
    "# Base model\n",
    "rf_grid = RandomForestClassifier(criterion = 'gini', bootstrap = False, random_state=13)\n",
    "\n",
    "# Instantiate the grid search model\n",
    "grid_rf_search = GridSearchCV(estimator = rf_grid, \n",
    "                              param_grid = param_grid, \n",
    "                              cv = 5, n_jobs = 8, \n",
    "                              verbose = 2)\n",
    "grid_rf_search.fit(X_train_rus, y_train_rus)\n",
    "\n",
    "best_rf_grid = grid_rf_search.best_estimator_\n",
    "print(\"Best set of parameters: \", grid_rf_search.best_params_)\n",
    "print(\"Training score:\", grid_rf_search.score(X_train_rus, y_train_rus))\n",
    "print(\"Test score\", grid_rf_search.score(X_test, y_test))"
   ]
  },
  {
   "cell_type": "markdown",
   "id": "397c7d49",
   "metadata": {},
   "source": [
    "Now let's fit the data into random forest with the best set of parameters obtained above."
   ]
  },
  {
   "cell_type": "code",
   "execution_count": 80,
   "id": "378f151c",
   "metadata": {},
   "outputs": [
    {
     "name": "stdout",
     "output_type": "stream",
     "text": [
      "              precision    recall  f1-score   support\n",
      "\n",
      " not survive       0.39      0.78      0.52         9\n",
      "     survive       0.91      0.65      0.75        31\n",
      "\n",
      "    accuracy                           0.68        40\n",
      "   macro avg       0.65      0.71      0.64        40\n",
      "weighted avg       0.79      0.68      0.70        40\n",
      "\n",
      "[[20 11]\n",
      " [ 2  7]]\n"
     ]
    },
    {
     "data": {
      "image/png": "[encoded data removed]",
      "text/plain": [
       "<Figure size 432x288 with 2 Axes>"
      ]
     },
     "metadata": {
      "needs_background": "light"
     },
     "output_type": "display_data"
    }
   ],
   "source": [
    "rf_opt = RandomForestClassifier(criterion = 'gini', max_depth=5, min_samples_leaf=3, min_samples_split=1, n_estimators=1900, \n",
    "                            bootstrap = False)\n",
    "rf_opt = rf_opt.fit(X_train_rus,y_train_rus)\n",
    "y_pred_rf_opt_rus = rf_opt.predict(X_test)\n",
    "\n",
    "print(classification_report(y_test, y_pred_rf_opt_rus, target_names=target_names))\n",
    "\n",
    "rf_opt_matrix = metrics.confusion_matrix(y_test, y_pred_rf_opt_rus, labels=[1,0])\n",
    "class_names=[1,0]\n",
    "gen_cnf_matrix_heatmap(rf_opt_matrix, class_names)\n"
   ]
  },
  {
   "cell_type": "markdown",
   "id": "87a26c8a",
   "metadata": {},
   "source": [
    "Although the number of **False Positive** cases **(2)** and **recall** of Not Survive patients **(78%)** are the best so far, the accuracy of this random forest model is rather poor (lowest so far, at **68%**)."
   ]
  },
  {
   "cell_type": "markdown",
   "id": "b4ab532c",
   "metadata": {},
   "source": [
    "## Conclusion"
   ]
  },
  {
   "cell_type": "code",
   "execution_count": 122,
   "id": "92e3052c",
   "metadata": {},
   "outputs": [],
   "source": [
    "models = ['Logistic Regression', 'Decision Tree', 'Decision Tree (under-sampled)', 'Random Forest (under-sampled)']\n",
    "accuracy_list = [0.80, 0.75, 0.90, 0.68]\n",
    "fp_num = [8, 2, 4, 2]\n",
    "recall_0 = [0.11, 0.78, 0.56, 0.78]\n",
    "recall_1 = [1.0, 0.74, 1.0, 0.65]\n",
    "precision_0 = [1.0, 0.47, 1.0, 0.39]\n",
    "precision_1 = [0.79, 0.92, 0.89, 0.91]"
   ]
  },
  {
   "cell_type": "code",
   "execution_count": 123,
   "id": "c563d4cb",
   "metadata": {},
   "outputs": [
    {
     "data": {
      "text/html": [
       "<div>\n",
       "<style scoped>\n",
       "    .dataframe tbody tr th:only-of-type {\n",
       "        vertical-align: middle;\n",
       "    }\n",
       "\n",
       "    .dataframe tbody tr th {\n",
       "        vertical-align: top;\n",
       "    }\n",
       "\n",
       "    .dataframe thead th {\n",
       "        text-align: right;\n",
       "    }\n",
       "</style>\n",
       "<table border=\"1\" class=\"dataframe\">\n",
       "  <thead>\n",
       "    <tr style=\"text-align: right;\">\n",
       "      <th></th>\n",
       "      <th>Models</th>\n",
       "      <th>Accuracy</th>\n",
       "      <th>False Positive</th>\n",
       "      <th>Recall_0</th>\n",
       "      <th>Recall_1</th>\n",
       "      <th>Precision_0</th>\n",
       "      <th>Precision_1</th>\n",
       "    </tr>\n",
       "  </thead>\n",
       "  <tbody>\n",
       "    <tr>\n",
       "      <th>0</th>\n",
       "      <td>Logistic Regression</td>\n",
       "      <td>0.80</td>\n",
       "      <td>8</td>\n",
       "      <td>0.11</td>\n",
       "      <td>1.00</td>\n",
       "      <td>1.00</td>\n",
       "      <td>0.79</td>\n",
       "    </tr>\n",
       "    <tr>\n",
       "      <th>1</th>\n",
       "      <td>Decision Tree</td>\n",
       "      <td>0.75</td>\n",
       "      <td>2</td>\n",
       "      <td>0.78</td>\n",
       "      <td>0.74</td>\n",
       "      <td>0.47</td>\n",
       "      <td>0.92</td>\n",
       "    </tr>\n",
       "    <tr>\n",
       "      <th>2</th>\n",
       "      <td>Decision Tree (under-sampled)</td>\n",
       "      <td>0.90</td>\n",
       "      <td>4</td>\n",
       "      <td>0.56</td>\n",
       "      <td>1.00</td>\n",
       "      <td>1.00</td>\n",
       "      <td>0.89</td>\n",
       "    </tr>\n",
       "    <tr>\n",
       "      <th>3</th>\n",
       "      <td>Random Forest (under-sampled)</td>\n",
       "      <td>0.68</td>\n",
       "      <td>2</td>\n",
       "      <td>0.78</td>\n",
       "      <td>0.65</td>\n",
       "      <td>0.39</td>\n",
       "      <td>0.91</td>\n",
       "    </tr>\n",
       "  </tbody>\n",
       "</table>\n",
       "</div>"
      ],
      "text/plain": [
       "                          Models  Accuracy  False Positive  Recall_0  \\\n",
       "0            Logistic Regression      0.80               8      0.11   \n",
       "1                  Decision Tree      0.75               2      0.78   \n",
       "2  Decision Tree (under-sampled)      0.90               4      0.56   \n",
       "3  Random Forest (under-sampled)      0.68               2      0.78   \n",
       "\n",
       "   Recall_1  Precision_0  Precision_1  \n",
       "0      1.00         1.00         0.79  \n",
       "1      0.74         0.47         0.92  \n",
       "2      1.00         1.00         0.89  \n",
       "3      0.65         0.39         0.91  "
      ]
     },
     "execution_count": 123,
     "metadata": {},
     "output_type": "execute_result"
    }
   ],
   "source": [
    "model_res = pd.DataFrame(list(zip(models, accuracy_list, fp_num, recall_0, recall_1, precision_0, precision_1)),\n",
    "                         columns=['Models','Accuracy','False Positive','Recall_0','Recall_1','Precision_0',\n",
    "                                  'Precision_1'])\n",
    "model_res"
   ]
  },
  {
   "cell_type": "markdown",
   "id": "a88c4d52",
   "metadata": {},
   "source": [
    "By comparing the performance metrics of the models (Logistic Regression, Decision Tree, Random Forest), I would select **Decision Tree model (trained with under-sampled data)** as my **final model**.\n",
    "\n",
    "Besides having the best accuracy from the other models, it also has the best combination of recalls and precisions as compared to the rest. "
   ]
  },
  {
   "cell_type": "code",
   "execution_count": null,
   "id": "9d35b2a9",
   "metadata": {},
   "outputs": [],
   "source": []
  }
 ],
 "metadata": {
  "kernelspec": {
   "display_name": "Python 3 (ipykernel)",
   "language": "python",
   "name": "python3"
  },
  "language_info": {
   "codemirror_mode": {
    "name": "ipython",
    "version": 3
   },
   "file_extension": ".py",
   "mimetype": "text/x-python",
   "name": "python",
   "nbconvert_exporter": "python",
   "pygments_lexer": "ipython3",
   "version": "3.8.3"
  }
 },
 "nbformat": 4,
 "nbformat_minor": 5
}
